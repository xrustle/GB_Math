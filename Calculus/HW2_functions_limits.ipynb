{
 "cells": [
  {
   "cell_type": "markdown",
   "metadata": {},
   "source": [
    "# Предел функции"
   ]
  },
  {
   "cell_type": "markdown",
   "metadata": {},
   "source": [
    "### 1. Предложить пример функции, не имеющей предела в нуле и в бесконечностях."
   ]
  },
  {
   "cell_type": "markdown",
   "metadata": {},
   "source": [
    "Например,$$f(x) = \\sin(x) + \\sin\\left(\\frac1x\\right)$$"
   ]
  },
  {
   "cell_type": "markdown",
   "metadata": {},
   "source": [
    "Докажем сначала, что $\\sin(x)$ не имеет предела на бесконечностях."
   ]
  },
  {
   "cell_type": "markdown",
   "metadata": {},
   "source": [
    "### 2. Привести пример функции, не имеющей предела в точке, но определенной в ней."
   ]
  },
  {
   "cell_type": "markdown",
   "metadata": {},
   "source": [
    "Подойдут, например, разные кусочно-заданные функции.<br> Пусть $f(x) = sgn(x)$.<br>$sgn(0) = 0$<br> Предел при ${x \\rightarrow 0+}$ равен $1$, а при ${x \\rightarrow 0-}$ равен $-1$, значит предел при ${x \\rightarrow 0}$ не определен."
   ]
  },
  {
   "cell_type": "markdown",
   "metadata": {},
   "source": [
    "### 3. Исследовать функцию $f(x)=x^3-x^2$ по плану:\n",
    "  - Область задания и область значений.\n",
    "  - Нули функции и их кратность.\n",
    "  - Отрезки знакопостоянства.\n",
    "  - Интервалы монотонности.\n",
    "  - Четность функции.\n",
    "  - Ограниченность.\n",
    "  - Периодичность."
   ]
  },
  {
   "cell_type": "markdown",
   "metadata": {},
   "source": []
  },
  {
   "cell_type": "markdown",
   "metadata": {},
   "source": [
    "### 4. Найти предел:"
   ]
  },
  {
   "cell_type": "markdown",
   "metadata": {},
   "source": [
    "a) $$\\lim_{x \\rightarrow 0} \\frac{3 x^{3}-2 x^{2}}{4 x^{2}}$$"
   ]
  },
  {
   "cell_type": "markdown",
   "metadata": {},
   "source": []
  },
  {
   "cell_type": "markdown",
   "metadata": {},
   "source": [
    "b) $$\\lim _{x \\rightarrow 0} \\frac{\\sqrt{1+x}-1}{\\sqrt[3]{1+x}-1}$$"
   ]
  },
  {
   "cell_type": "markdown",
   "metadata": {},
   "source": []
  },
  {
   "cell_type": "markdown",
   "metadata": {},
   "source": [
    "c) $$\\lim _{x \\rightarrow \\infty}\\left(\\frac{x+3}{x}\\right)^{4 x+1}$$"
   ]
  },
  {
   "cell_type": "markdown",
   "metadata": {},
   "source": []
  },
  {
   "cell_type": "markdown",
   "metadata": {},
   "source": [
    "# Теоремы о пределах"
   ]
  },
  {
   "cell_type": "markdown",
   "metadata": {},
   "source": [
    "### 1. Найти пределы:"
   ]
  },
  {
   "cell_type": "markdown",
   "metadata": {},
   "source": [
    "a) $$\\lim _{x \\rightarrow 0} \\frac{\\sin (2 x)}{4 x}$$"
   ]
  },
  {
   "cell_type": "markdown",
   "metadata": {},
   "source": []
  },
  {
   "cell_type": "markdown",
   "metadata": {},
   "source": [
    "b) $$\\lim _{x \\rightarrow 0} \\frac{x}{\\sin (x)}$$"
   ]
  },
  {
   "cell_type": "markdown",
   "metadata": {},
   "source": []
  },
  {
   "cell_type": "markdown",
   "metadata": {},
   "source": [
    "c) $$\\lim _{x \\rightarrow 0} \\frac{x}{\\arcsin (x)}$$"
   ]
  },
  {
   "cell_type": "markdown",
   "metadata": {},
   "source": []
  },
  {
   "cell_type": "markdown",
   "metadata": {},
   "source": [
    "d) $$\\lim _{x \\rightarrow \\infty}\\left(\\frac{4 x+3}{4 x-3}\\right)^{6 x}$$"
   ]
  },
  {
   "cell_type": "markdown",
   "metadata": {},
   "source": []
  },
  {
   "cell_type": "markdown",
   "metadata": {},
   "source": [
    "e) $$\\lim _{x \\rightarrow \\infty} \\frac{\\sin x+\\ln x}{x}$$"
   ]
  },
  {
   "cell_type": "markdown",
   "metadata": {},
   "source": []
  },
  {
   "cell_type": "markdown",
   "metadata": {},
   "source": [
    "f) $$\\lim _{x \\rightarrow \\infty} \\frac{\\sin x+\\ln x}{x}$$"
   ]
  },
  {
   "cell_type": "markdown",
   "metadata": {},
   "source": []
  }
 ],
 "metadata": {
  "kernelspec": {
   "display_name": "Python 3",
   "language": "python",
   "name": "python3"
  },
  "language_info": {
   "codemirror_mode": {
    "name": "ipython",
    "version": 3
   },
   "file_extension": ".py",
   "mimetype": "text/x-python",
   "name": "python",
   "nbconvert_exporter": "python",
   "pygments_lexer": "ipython3",
   "version": "3.7.3"
  }
 },
 "nbformat": 4,
 "nbformat_minor": 2
}
