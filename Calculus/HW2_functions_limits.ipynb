{
 "cells": [
  {
   "cell_type": "markdown",
   "metadata": {},
   "source": [
    "# Предел функции"
   ]
  },
  {
   "cell_type": "markdown",
   "metadata": {},
   "source": [
    "### 1. Предложить пример функции, не имеющей предела в нуле и в бесконечностях."
   ]
  },
  {
   "cell_type": "markdown",
   "metadata": {},
   "source": [
    "Например,$$f(x) = \\sin(x) + \\sin\\left(\\frac1x\\right)$$"
   ]
  },
  {
   "cell_type": "markdown",
   "metadata": {},
   "source": [
    "Функция не имеет предела на бесконечностях. Для того, чтобы это доказать, достаточно выделить две разные подпоследовательности $x_n$ сходящиеся к разным пределам. Например, для $f(\\pi/2 + \\pi n) \\rightarrow 1$, при $n \\rightarrow \\infty$ и $f(-\\pi/2 + \\pi n) \\rightarrow -1$, при $n \\rightarrow \\infty$.<br>\n",
    "Аналогично в окрестности нуля можно найти подпоследовательности с разными пределами.<br>\n",
    "$f \\left( \\frac{1}{\\pi/2 + \\pi{n}} \\right) \\rightarrow 1$, $x \\rightarrow 0$ при $n \\rightarrow \\infty$ и $f \\left( \\frac{1}{-\\pi/2 + \\pi{n}} \\right) \\rightarrow -1$, $x \\rightarrow 0$ при $n \\rightarrow \\infty$."
   ]
  },
  {
   "cell_type": "markdown",
   "metadata": {},
   "source": [
    "### 2. Привести пример функции, не имеющей предела в точке, но определенной в ней."
   ]
  },
  {
   "cell_type": "markdown",
   "metadata": {},
   "source": [
    "Подойдут, как вариант, разные кусочно-заданные функции, определенные в точке разрыва.<br> Например, $f(x) = sgn(x)$.<br>$sgn(0) = 0$<br> Предел при ${x \\rightarrow 0+}$ равен $1$, а при ${x \\rightarrow 0-}$ равен $-1$, значит предел при ${x \\rightarrow 0}$ не определен."
   ]
  },
  {
   "cell_type": "markdown",
   "metadata": {},
   "source": [
    "### 3. Исследовать функцию $f(x)=x^3-x^2$ по плану:\n",
    "  - Область задания и область значений.\n",
    "  - Нули функции и их кратность.\n",
    "  - Отрезки знакопостоянства.\n",
    "  - Интервалы монотонности.\n",
    "  - Четность функции.\n",
    "  - Ограниченность.\n",
    "  - Периодичность."
   ]
  },
  {
   "cell_type": "code",
   "execution_count": 2,
   "metadata": {},
   "outputs": [
    {
     "data": {
      "image/png": "[encoded data removed]",
      "text/plain": [
       "<Figure size 432x288 with 1 Axes>"
      ]
     },
     "metadata": {
      "needs_background": "light"
     },
     "output_type": "display_data"
    }
   ],
   "source": [
    "import numpy as np\n",
    "import matplotlib.pyplot as plt\n",
    "\n",
    "x = np.linspace(-0.5, 1.5, 101)\n",
    "\n",
    "y1 = x ** 2 * (x - 1)\n",
    "\n",
    "plt.plot(x, y1)\n",
    "\n",
    "plt.xlabel(\"x\")\n",
    "plt.ylabel(\"y\")\n",
    "plt.legend(labels=[\"$f(x) = x^3 - x^2$\"])\n",
    "\n",
    "plt.hlines(0, -0.5, 1.5, color='red')  # Ось x\n",
    "plt.vlines(0, -0.4, 1.1, color='red')  # Ось y\n",
    "\n",
    "plt.plot([0, 1], [0, 0], 'o')  # Нули функции\n",
    "\n",
    "plt.grid()\n",
    "plt.show();"
   ]
  },
  {
   "cell_type": "markdown",
   "metadata": {},
   "source": [
    "  - Область задания и область значений.\n",
    "> $D(f) = \\mathbb{R}$<br>$E(f) = \\mathbb{R}$<br><br>Первое очевидно. Второе докажем.<br>Для начала, покажем, что функция не ограничена сверху. Для любого сколь угодно большого $C>2$ можно взять $x=C$ и будет $C^2(C-1)=f(C)>C$<br>\n",
    "Аналогично, для любого сколь угодно малого отрицательного числа $C<0$ при $x=C$, $f(C)>C$, так как $C^2(C-1)<C$, потому что $C^2>|C|$, а $C-1<-1$."
   ]
  },
  {
   "cell_type": "markdown",
   "metadata": {},
   "source": [
    "  - Нули функции и их кратность.\n",
    "> $f(x) = x^2(x-1)$<br>$f(x) = 0 \\Leftrightarrow x_{1,2} = 0, x_3 = 1$<br><br>\n",
    "Корень 0 кратности 2, корень 1 кратности 1."
   ]
  },
  {
   "cell_type": "markdown",
   "metadata": {},
   "source": [
    "  - Отрезки знакопостоянства.\n",
    "> Нули функции разбивают область определния на три интервала. Возьмем в каждом по произвольному значению аргумента и узнаем знак функции на соответствующем интервале.<br>$f(-1) = -2 < 0$<br>$f(1/2) = -1/8 < 0$<br>$f(2) = 4 > 0$<br><br>$f(x) < 0$ при $x \\in (-\\infty, 0) \\cup (0, 1)$<br>$f(x) > 0$ при $x \\in (1, +\\infty)$"
   ]
  },
  {
   "cell_type": "markdown",
   "metadata": {},
   "source": [
    "  - Интервалы монотонности.\n",
    "> $f'(x) = 0 \\Leftrightarrow 3x^2 - 2x = 0 \\Leftrightarrow x(x-\\frac{2}{3}) = 0 \\Leftrightarrow x = 0$ или $x = \\frac{2}{3}$<br>$f'(x) > 0$ при $x \\in (-\\infty, 0) \\cup (\\frac{2}{3}, +\\infty)$<br>$f'(x) < 0$ при $x \\in (0, \\frac{2}{3})$<br><br>$f(x)$ монотонно возрастает при $x \\in (-\\infty, 0)$ и при $x\\in(\\frac{2}{3}, +\\infty)$<br>$f(x)$ монотонно убывает при $x \\in (0, \\frac{2}{3})$"
   ]
  },
  {
   "cell_type": "markdown",
   "metadata": {},
   "source": [
    "  - Четность функции.\n",
    "> Функция ни четна, ни нечентна, так как<br>$\\exists x : f(x) \\neq f(-x)$<br>$\\exists x : f(x) \\neq -f(-x)$"
   ]
  },
  {
   "cell_type": "markdown",
   "metadata": {},
   "source": [
    "  - Ограниченность.\n",
    "> Мы доказывали, что область значений функции вся числовая прямая, поэтому функция не ограничена ни сверху, ни снизу."
   ]
  },
  {
   "cell_type": "markdown",
   "metadata": {},
   "source": [
    "  - Периодичность.\n",
    "> Функция не периодичная, так как, например,  при $x > \\frac23$ функция строго возрастает, а значит не может повторять свои значения через какой-либо период."
   ]
  },
  {
   "cell_type": "markdown",
   "metadata": {},
   "source": [
    "### 4. Найти предел:"
   ]
  },
  {
   "cell_type": "markdown",
   "metadata": {},
   "source": [
    "a) $$\\lim_{x \\rightarrow 0} \\frac{3 x^{3}-2 x^{2}}{4 x^{2}} = \\lim_{x \\rightarrow 0}\\left( -\\frac{2 x^{2}}{4 x^{2}} + \\frac{3 x^{3}}{4 x^{2}}\\right) = \\lim_{x \\rightarrow 0}\\left( -\\frac{2}{4} + \\frac{3x}{4}\\right) = -\\frac{2}{4} = -0.5$$"
   ]
  },
  {
   "cell_type": "markdown",
   "metadata": {},
   "source": [
    "b) Применим теорему Лопиталя $$\\lim _{x \\rightarrow 0} \\frac{\\sqrt{1+x}-1}{\\sqrt{3}{1+x}-1} = \\lim_{x \\rightarrow 0} \\frac{(\\sqrt{1+x}-1)'}{(\\sqrt{3}{1+x}-1)'} = \\lim _{x \\rightarrow 0} \\frac{\\frac{1}{2} (1+x)^{-\\frac{1}{2}}}{\\frac{1}{3} (1+x)^{-\\frac{2}{3}}} = \\frac{3}{2}$$"
   ]
  },
  {
   "cell_type": "markdown",
   "metadata": {},
   "source": [
    "c) Используем следствие из формулы второго замечательного предела<br><br>  $$\\lim _{x \\rightarrow \\infty}\\left(1+\\frac{k}{x}\\right)^{x}=e^{k}$$"
   ]
  },
  {
   "cell_type": "markdown",
   "metadata": {},
   "source": [
    "$$\\lim _{x \\rightarrow \\infty}\\left(\\frac{x+3}{x}\\right)^{4 x+1} = \\lim _{x \\rightarrow \\infty}\\left(1 + \\frac{3}{x}\\right)^{4 x}\\cdot \\lim _{x \\rightarrow \\infty}\\left(1 + \\frac{3}{x}\\right) = e^{12}$$"
   ]
  },
  {
   "cell_type": "markdown",
   "metadata": {},
   "source": [
    "# Теоремы о пределах"
   ]
  },
  {
   "cell_type": "markdown",
   "metadata": {},
   "source": [
    "### 1. Найти пределы:"
   ]
  },
  {
   "cell_type": "markdown",
   "metadata": {},
   "source": [
    "a) Используем формулу первого замечательного предела<br><br> $$\\lim _{x \\rightarrow 0} \\frac{\\sin (2 x)}{4 x} = \\frac{1}{2} \\lim _{2x \\rightarrow 0} \\frac{\\sin (2 x)}{2 x} = \\frac{1}{2} \\cdot 1 = \\frac{1}{2}$$"
   ]
  },
  {
   "cell_type": "markdown",
   "metadata": {},
   "source": [
    "b) Используем формулу первого замечательного предела<br><br>$$\\lim _{x \\rightarrow 0} \\frac{x}{\\sin x} = \\frac{\\lim _{x \\rightarrow 0} 1}{\\lim _{x \\rightarrow 0} \\frac{x}{\\sin x}} = \\frac{1}{1} = 1$$"
   ]
  },
  {
   "cell_type": "markdown",
   "metadata": {},
   "source": [
    "c) Используем формулу первого замечательного предела и замену переменной $t=\\sin x$<br><br> $$\\lim _{x \\rightarrow 0} \\frac{x}{\\arcsin x} = \\lim _{t \\rightarrow 0} \\frac{\\sin t}{t} = = 1$$"
   ]
  },
  {
   "cell_type": "markdown",
   "metadata": {},
   "source": [
    "d) Используем следствие из формулы второго замечательного предела и замену переменной $t = 4x - 3$<br><br>  $$\\lim _{x \\rightarrow \\infty}\\left(1+\\frac{k}{x}\\right)^{x}=e^{k}$$<br><br> $$\\lim _{x \\rightarrow \\infty}\\left(\\frac{4 x+3}{4 x-3}\\right)^{6 x} = \\lim _{x \\rightarrow \\infty}\\left(1 + \\frac{6}{4 x-3}\\right)^{6 x} = \\lim _{t \\rightarrow \\infty}\\left(1 + \\frac{6}{t}\\right)^{\\frac{6}{4}t+\\frac{9}{2}} =\\lim _{t \\rightarrow \\infty}\\left(1 + \\frac{6}{t}\\right)^{\\frac{6}{4}t} \\cdot \\lim _{t \\rightarrow \\infty}\\left(1 + \\frac{6}{t}\\right)^{\\frac{9}{2}} = e^{6\\cdot\\frac{6}{4}} \\cdot 1 =  e^9$$"
   ]
  },
  {
   "cell_type": "markdown",
   "metadata": {},
   "source": [
    "e) Покажем, что каждое из слагаемых равно $0$.<br><br>$$\\lim _{x \\rightarrow \\infty} \\frac{\\sin x+\\ln x}{x} = \\lim _{x \\rightarrow \\infty} \\frac{\\sin x}{x} + \\lim _{x \\rightarrow \\infty} \\frac{\\ln x}{x} = 0 + 0 = 0$$"
   ]
  },
  {
   "cell_type": "markdown",
   "metadata": {},
   "source": [
    ">$sin(x)$ ограничена, а $\\frac{1}{x}$ бесконечно мала при $x \\rightarrow 0$, значит их произведение также б. малая функция при $x \\rightarrow 0$"
   ]
  },
  {
   "cell_type": "markdown",
   "metadata": {},
   "source": [
    ">$\\lim_{x \\rightarrow \\infty} \\frac{\\ln x}{x} = \\lim_{x \\rightarrow \\infty} \\frac{(\\ln x)'}{x'} = \\lim_{x \\rightarrow \\infty} \\frac{1}{x} = 0$ по т. Лопиталя"
   ]
  },
  {
   "cell_type": "markdown",
   "metadata": {},
   "source": [
    "f) Повторяет пункт e). Похоже, опечатка... $$\\lim _{x \\rightarrow \\infty} \\frac{\\sin x+\\ln x}{x}$$"
   ]
  }
 ],
 "metadata": {
  "kernelspec": {
   "display_name": "Python 3",
   "language": "python",
   "name": "python3"
  },
  "language_info": {
   "codemirror_mode": {
    "name": "ipython",
    "version": 3
   },
   "file_extension": ".py",
   "mimetype": "text/x-python",
   "name": "python",
   "nbconvert_exporter": "python",
   "pygments_lexer": "ipython3",
   "version": "3.7.3"
  }
 },
 "nbformat": 4,
 "nbformat_minor": 2
}
