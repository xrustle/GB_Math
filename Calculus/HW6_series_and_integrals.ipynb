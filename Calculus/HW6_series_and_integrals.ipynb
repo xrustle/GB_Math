{
 "cells": [
  {
   "cell_type": "markdown",
   "metadata": {},
   "source": [
    "# Ряды"
   ]
  },
  {
   "cell_type": "markdown",
   "metadata": {},
   "source": [
    "### 1. Исследовать ряд на сходимость, используя признак д’Аламбера:"
   ]
  },
  {
   "cell_type": "markdown",
   "metadata": {},
   "source": [
    "$$\\sum_{n=1}^{\\infty} \\frac{n^{n}}{n !^{2}}$$"
   ]
  },
  {
   "cell_type": "markdown",
   "metadata": {},
   "source": [
    "$$\\lim _{n \\rightarrow \\infty} \\frac{a_{n+1}}{a_{n}}=\\lim _{n \\rightarrow \\infty} \\frac{(n+1)^{n+1}}{(n+1) !^{2}} \\cdot \\frac{n !^{2}}{n^{n}}=\\lim _{n \\rightarrow \\infty} \\frac{(n+1)^{n+1}}{(n+1)^{2} \\cdot n^{n}}=\\lim _{n \\rightarrow \\infty} \\frac{(n+1)^{n}}{n^{n}} \\cdot \\frac{1}{n+1}=\\lim _{n \\rightarrow \\infty}\\left(1+\\frac{1}{n}\\right)^{n} \\cdot \\frac{1}{n+1}=e \\cdot \\lim _{n \\rightarrow \\infty} \\frac{1}{n+1}=e \\cdot 0=0 < 1\\Rightarrow $$"
   ]
  },
  {
   "cell_type": "markdown",
   "metadata": {},
   "source": [
    " значит ряд сходится по признаку д’Аламбера."
   ]
  },
  {
   "cell_type": "markdown",
   "metadata": {},
   "source": [
    "### 2. Исследовать ряд на сходимость, используя радикальный признак Коши:"
   ]
  },
  {
   "cell_type": "markdown",
   "metadata": {},
   "source": [
    "$$\\sum_{n=1}^{\\infty} \\frac{n}{2^{n}}$$"
   ]
  },
  {
   "cell_type": "markdown",
   "metadata": {},
   "source": [
    "$$\\lim _{n \\rightarrow \\infty} \\sqrt[n]{a_{n}}=\\lim _{n \\rightarrow \\infty} \\frac{\\sqrt{n}}{2}>1 \\Rightarrow $$"
   ]
  },
  {
   "cell_type": "markdown",
   "metadata": {},
   "source": [
    "ряд расходится по радикальному признаку Коши."
   ]
  },
  {
   "cell_type": "markdown",
   "metadata": {},
   "source": [
    "### 3. Исследовать ряд на сходимость, используя признак Лейбница:"
   ]
  },
  {
   "cell_type": "markdown",
   "metadata": {},
   "source": [
    "$$\\sum_{n=1}^{\\infty} \\frac{(-1)^{n}}{n+\\ln n}$$"
   ]
  },
  {
   "cell_type": "markdown",
   "metadata": {},
   "source": [
    "$$\\left.\\begin{array}{l}{\\frac{1}{n+\\ln n}>\\frac{1}{n+1+\\ln (n+1)}\\Leftrightarrow \\left|a_{n}\\right| > \\left|a_{n+1}\\right|} \\\\ {\\lim _{n \\rightarrow \\infty} a_{n}=\\lim _{n \\rightarrow \\infty} \\frac{(-1)^{n}}{n+\\ln n}=0}\\end{array}\\right\\} \\Rightarrow $$"
   ]
  },
  {
   "cell_type": "markdown",
   "metadata": {},
   "source": [
    "ряд сходится по признаку Лейбница."
   ]
  },
  {
   "cell_type": "markdown",
   "metadata": {},
   "source": [
    "### 4. Исследовать ряд на сходимость, используя признак Раабе:"
   ]
  },
  {
   "cell_type": "markdown",
   "metadata": {},
   "source": [
    "$$\\sum_{n=1}^{\\infty} \\frac{3^{n}}{2^{n}}$$"
   ]
  },
  {
   "cell_type": "markdown",
   "metadata": {},
   "source": [
    "$$\\displaystyle R_n = n\\left(\\frac{a_{n}}{a_{n+1}} - 1\\right) = n\\left(\\frac{3^{n} \\cdot 2^{n+1}}{2^{n} \\cdot 3^{n+1}} - 1\\right) = n\\left(\\frac{2}{3} - 1\\right) = -\\frac{n}{3}$$"
   ]
  },
  {
   "cell_type": "markdown",
   "metadata": {},
   "source": [
    "$$\\displaystyle \\lim_{n \\rightarrow \\infty} R_n= \\lim_{n \\rightarrow \\infty} -\\frac{n}{3} > 1 \\Rightarrow$$"
   ]
  },
  {
   "cell_type": "markdown",
   "metadata": {},
   "source": [
    "ряд сходится по признаку Раабе в предельной форме."
   ]
  },
  {
   "cell_type": "markdown",
   "metadata": {},
   "source": [
    "### 5. Разложить функцию по Тейлору в единице $f(x) = \\ln (16x^2)$:"
   ]
  },
  {
   "cell_type": "markdown",
   "metadata": {},
   "source": [
    "$$\\begin{array}{l}f(1) = ln(16) \\\\ f'(1)=\\left.\\frac{2}{x}\\right|_{x=1}=2 \\\\\n",
    "f''(1)=-\\left.\\frac{2}{x^{2}}\\right|_{x=1}=-2 \\\\\n",
    "f'''(1)=+\\left.\\frac{2 \\cdot 2}{x^{3}}\\right|_{x=1}=+4 \\\\\n",
    "f^{(4)}(1)=-\\left.\\frac{2 \\cdot 2 \\cdot 3}{x^{4}}\\right|_{x=1}=-2 \\cdot 2 \\cdot 3 = -2\\cdot 3!\\\\\n",
    "f^{(5)}(1)=+\\left.\\frac{2 \\cdot 2 \\cdot 3 \\cdot 4}{x^{5}}\\right|_{x=1}=+2 \\cdot 2 \\cdot 3 \\cdot 4 = +2\\cdot 4!\\\\\n",
    "\\vdots\\\\\n",
    "f^{(n)}(1)=(-1)^{n-1} \\cdot 2(n-1) ! \\\\ \\\\\n",
    "f(x)=\\sum_{n=0}^{\\infty} \\frac{f^{(n)}(a)}{n !}(x-a)^{n} = \\ln 16+2 \\sum_{n=1}^{\\infty}(-1)^{n-1} \\frac{(n-1) !}{n !}(x-1)^{n}=\\ln 16-2 \\sum_{n=1}^{\\infty}(-1)^{n} \\frac{(x-1)^{n}}{n} = \\ln 16 - 2 \\sum_{n=1}^{\\infty} \\frac{(1-x)^{n}}{n} \\\\\n",
    "\\ln \\left(16 x^{2}\\right)=\\ln 16- 2 \\sum_{n=1}^{\\infty} \\frac{(1-x)^{n}}{n} \\end{array}$$"
   ]
  },
  {
   "cell_type": "markdown",
   "metadata": {},
   "source": [
    "### 6. Дана функция $f(x) = x^2$"
   ]
  },
  {
   "cell_type": "markdown",
   "metadata": {},
   "source": [
    "* Разложить функцию в ряд Фурье по косинусам на отрезке $x \\in [-2; 0]$"
   ]
  },
  {
   "cell_type": "markdown",
   "metadata": {},
   "source": [
    "Разложим на интервале от $0$ до $2$. Функция четная, как и косинусы в разложении, поэтому так можно сделать."
   ]
  },
  {
   "cell_type": "markdown",
   "metadata": {},
   "source": [
    "$\\displaystyle f(x) = \\frac{a_0}{2} + \\sum_{i=1}^{\\infty} a_n \\cos \\frac{\\pi n x}{T}$ на интервале от $0$ до $T$, где $T < 2\\pi$"
   ]
  },
  {
   "cell_type": "markdown",
   "metadata": {},
   "source": [
    "$$\\displaystyle a_0 = \\frac{2}{T} \\int_0^{T} f(x) dx = \\frac{2}{2} \\int_{0}^{2} x^2 dx = \\left.\\frac{x^3}{3}\\right|_0^2 = \\frac{8}{3}$$"
   ]
  },
  {
   "cell_type": "markdown",
   "metadata": {},
   "source": [
    "$$\\displaystyle a_n = \\frac{2}{T} \\int_0^{T} f(x) \\cos\\frac{\\pi n x}{T} dx = \\int_{0}^{2} x^2 \\cos\\frac{\\pi n x}{2} dx$$"
   ]
  },
  {
   "cell_type": "markdown",
   "metadata": {},
   "source": [
    "$$\\displaystyle \\int x^2 \\cos\\frac{\\pi n x}{2} dx = \\frac{2}{\\pi n} \\int x^2 d\\sin\\frac{\\pi n x}{2} = \\frac{2}{\\pi n} \\left(x^2 \\sin\\frac{\\pi n x}{2} - \\int \\sin\\frac{\\pi n x}{2} dx^2\\right) = \\frac{2}{\\pi n} \\left(x^2 \\sin\\frac{\\pi n x}{2} + \\frac{4}{\\pi n} \\int x d\\cos\\frac{\\pi n x}{2} \\right) =$$\n",
    "$$= \\frac{2}{\\pi n} \\left(x^2 \\sin\\frac{\\pi n x}{2} + \\frac{4}{\\pi n} \\left( x\\cos\\frac{\\pi n x}{2} - \\int\\cos\\frac{\\pi n x}{2}dx\\right)\\right) = \\frac{2}{\\pi n} \\left(x^2 \\sin\\frac{\\pi n x}{2} + \\frac{4}{\\pi n} \\left( x\\cos\\frac{\\pi n x}{2} - \\frac{2}{\\pi n}\\sin\\frac{\\pi n x}{2}\\right)\\right) =$$\n",
    "$$= \\frac{2}{\\pi n} x^2 \\sin\\frac{\\pi n x}{2} + \\frac{8}{\\pi^2 n^2}  x\\cos\\frac{\\pi n x}{2} - \\frac{16}{\\pi^3 n^3}\\sin\\frac{\\pi n x}{2}$$"
   ]
  },
  {
   "cell_type": "markdown",
   "metadata": {},
   "source": [
    "$$\\displaystyle a_n = \\left.\\left(\\frac{2}{\\pi n} x^2 \\sin\\frac{\\pi n x}{2} + \\frac{8}{\\pi^2 n^2}  x\\cos\\frac{\\pi n x}{2} - \\frac{16}{\\pi^3 n^3}\\sin\\frac{\\pi n x}{2}\\right)\\right|_{0}^{2} = \\frac{8}{\\pi n} \\sin\\pi n + \\frac{16}{\\pi^2 n^2}  \\cos\\pi n - \\frac{16}{\\pi^3 n^3}\\sin\\pi n - 0 - 0 + \\frac{16}{\\pi^3 n^3}\\sin0 =$$\n",
    "$$= \\frac{16}{\\pi^2 n^2}  \\cos\\pi n = \\frac{16}{\\pi^2 n^2}  (-1)^n$$"
   ]
  },
  {
   "cell_type": "markdown",
   "metadata": {},
   "source": [
    "$$f(x) = \\frac{4}{3} + \\sum_{i=1}^{\\infty}  (-1)^n \\frac{16}{\\pi^2 n^2} \\cos \\frac{\\pi n x}{2}$$"
   ]
  },
  {
   "cell_type": "markdown",
   "metadata": {},
   "source": [
    "* Построить график функции и ее разложения"
   ]
  },
  {
   "cell_type": "code",
   "execution_count": 1,
   "metadata": {},
   "outputs": [],
   "source": [
    "import numpy as np\n",
    "import matplotlib.pyplot as plt\n",
    "\n",
    "def f(x, n):\n",
    "    f = 4 / 3\n",
    "    for k in range(1, n + 1):\n",
    "        f += (-1)**k * 16 / (np.pi * k)**2 * np.cos(np.pi * k * x / 2)\n",
    "    return f"
   ]
  },
  {
   "cell_type": "code",
   "execution_count": 2,
   "metadata": {},
   "outputs": [
    {
     "data": {
      "image/png": "[encoded data removed]",
      "text/plain": [
       "<Figure size 432x288 with 1 Axes>"
      ]
     },
     "metadata": {
      "needs_background": "light"
     },
     "output_type": "display_data"
    }
   ],
   "source": [
    "x = np.linspace(-2, 0, 101)\n",
    "\n",
    "plt.plot(x, x**2)\n",
    "plt.plot(x, f(x, 1), linestyle='--')\n",
    "plt.plot(x, f(x, 2), linestyle='--')\n",
    "plt.plot(x, f(x, 50), linestyle='--')\n",
    "\n",
    "plt.xlabel(\"x\")\n",
    "plt.ylabel(\"y\")\n",
    "plt.legend(labels=[\"$f(x) = x^2$\", \"Разложение до 1-го члена ряда\", \"Разложение до 2-го члена ряда\", \"... до 50-го члена ряда\"])\n",
    "\n",
    "plt.hlines(0, -2, 0.1, linewidth=1, color='black')  # Ось x\n",
    "plt.vlines(0, -0.5, 4, linewidth=1, color='black')  # Ось y\n",
    "\n",
    "plt.grid()\n",
    "plt.show();"
   ]
  },
  {
   "cell_type": "markdown",
   "metadata": {},
   "source": [
    "> Видно, что график разложения до $50$-ти членов ряда Фурье почти совпадает с графиком функции $x^2$ "
   ]
  },
  {
   "cell_type": "markdown",
   "metadata": {},
   "source": [
    "# Понятие об интеграле"
   ]
  },
  {
   "cell_type": "markdown",
   "metadata": {},
   "source": [
    "### 1. Найти неопределенный интеграл:"
   ]
  },
  {
   "cell_type": "markdown",
   "metadata": {},
   "source": [
    "$$\\int\\left(2 x^{2}-2 x-1+\\sin x-\\cos x+\\ln x+e^{x}\\right) d x$$"
   ]
  },
  {
   "cell_type": "markdown",
   "metadata": {},
   "source": [
    "$$\\int \\ln x dx = x \\ln x - \\int (\\ln x)' x dx = x\\ln x - \\int \\frac{1}{x} x dx = x\\ln x - x + C$$"
   ]
  },
  {
   "cell_type": "markdown",
   "metadata": {},
   "source": [
    "$$\\int\\left(2 x^{2}-2 x-1+\\sin x-\\cos x+\\ln x+e^{x}\\right) d x = \\frac{2}{3} x^3 - x^2 - x - \\cos x - \\sin x + x\\ln x - x + e^x + C =$$"
   ]
  },
  {
   "cell_type": "markdown",
   "metadata": {},
   "source": [
    "$$ = \\frac{2}{3} x^3 - x^2 - 2x - \\cos x - \\sin x + x\\ln x + e^x + C$$"
   ]
  },
  {
   "cell_type": "markdown",
   "metadata": {},
   "source": [
    "### 2. Найти неопределенный интеграл:"
   ]
  },
  {
   "cell_type": "markdown",
   "metadata": {},
   "source": [
    "$$\\int\\left(2 x+6 x z^{2}-5 x^{2} y-3 \\ln z\\right) d x$$"
   ]
  },
  {
   "cell_type": "markdown",
   "metadata": {},
   "source": [
    "$$\\int\\left(2 x+6 x z^{2}-5 x^{2} y-3 \\ln z\\right) d x = x^2 + 3x^2 z^2 - \\frac{5}{3} x^3 y - 3 x \\ln z + C$$"
   ]
  },
  {
   "cell_type": "markdown",
   "metadata": {},
   "source": [
    "### 3. Вычислить определенный интеграл:"
   ]
  },
  {
   "cell_type": "markdown",
   "metadata": {},
   "source": [
    "$$\\int_{0}^{\\pi} 3 x^{2} \\sin (2 x) d x$$"
   ]
  },
  {
   "cell_type": "markdown",
   "metadata": {},
   "source": [
    "$$\\int 3 x^{2} \\sin (2 x) d x = - \\frac{3}{2}\\int x^{2} d \\cos (2 x) = - \\frac{3}{2} x^{2} \\cos (2 x) + \\frac{3}{2}\\int (x^{2})' \\cos (2 x) dx = - \\frac{3}{2} x^{2} \\cos (2 x) + \\frac{3}{2} \\int x d \\sin (2 x) =$$"
   ]
  },
  {
   "cell_type": "markdown",
   "metadata": {},
   "source": [
    "$$ = - \\frac{3}{2} x^{2} \\cos (2 x) + \\frac{3}{2} x \\sin (2 x) - \\frac{3}{2} \\int \\sin (2 x) dx  = - \\frac{3}{2} x^{2} \\cos (2 x) + \\frac{3}{2} x \\sin (2 x) + \\frac{3}{4} \\cos (2 x) + C$$"
   ]
  },
  {
   "cell_type": "markdown",
   "metadata": {},
   "source": [
    "$$\\int_{0}^{\\pi} 3 x^{2} \\sin (2 x) d x = - \\frac{3}{2} \\pi^{2} \\cos 2 \\pi + \\frac{3}{2} \\pi \\sin 2 \\pi + \\frac{3}{4} \\cos 2 \\pi + \\frac{3}{2} 0^{2} \\cos 0 - \\frac{3}{2} 0 \\sin 0 - \\frac{3}{4} \\cos 0 = $$"
   ]
  },
  {
   "cell_type": "markdown",
   "metadata": {},
   "source": [
    "$$ = - \\frac{3\\pi^2}{2} + \\frac{3}{4} - \\frac{3}{4} = - \\frac{3\\pi^2}{2}$$"
   ]
  },
  {
   "cell_type": "markdown",
   "metadata": {},
   "source": [
    "### 4. Найти неопределенный интеграл:"
   ]
  },
  {
   "cell_type": "markdown",
   "metadata": {},
   "source": [
    "$$\\int \\frac{1}{\\sqrt{x+1}} d x = 2\\sqrt{x + 1} + C$$"
   ]
  },
  {
   "cell_type": "markdown",
   "metadata": {},
   "source": [
    "Вывести это можно вот так, учитывая, что $x + 1 > 0$:"
   ]
  },
  {
   "cell_type": "markdown",
   "metadata": {},
   "source": [
    "$$\\int \\frac{1}{\\sqrt{x+1}} d x=\\int \\frac{1}{\\sqrt{x+1}} d(x+1)=\\int \\frac{1}{\\sqrt{x+1}} d \\sqrt{x+1} ^2=\\int \\frac{1}{\\sqrt{x+1}} 2 \\sqrt{x+1} d \\sqrt{x+1}=\\int 2 d \\sqrt{x+1}=2 \\sqrt{x+1}+C$$"
   ]
  }
 ],
 "metadata": {
  "kernelspec": {
   "display_name": "Python 3",
   "language": "python",
   "name": "python3"
  },
  "language_info": {
   "codemirror_mode": {
    "name": "ipython",
    "version": 3
   },
   "file_extension": ".py",
   "mimetype": "text/x-python",
   "name": "python",
   "nbconvert_exporter": "python",
   "pygments_lexer": "ipython3",
   "version": "3.7.3"
  }
 },
 "nbformat": 4,
 "nbformat_minor": 2
}
