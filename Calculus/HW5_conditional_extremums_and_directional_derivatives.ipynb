{
 "cells": [
  {
   "cell_type": "markdown",
   "metadata": {},
   "source": [
    "# Функция нескольких переменных. Часть 2"
   ]
  },
  {
   "cell_type": "markdown",
   "metadata": {},
   "source": [
    "## Условные экстремумы и производные по направлению"
   ]
  },
  {
   "cell_type": "markdown",
   "metadata": {},
   "source": [
    "#### 1. Исследовать функцию $U = 3 - 8x + 6y$ на условный экстремум, если $x^2 + y^2 = 36$"
   ]
  },
  {
   "cell_type": "markdown",
   "metadata": {},
   "source": [
    "$\\mathcal{L} = 3 - 8x + 6y + \\lambda(x^2 + y^2 - 36)$"
   ]
  },
  {
   "cell_type": "markdown",
   "metadata": {},
   "source": [
    "$\\left\\{\\begin{array}{l}\\mathcal{L}'_x = 0 \\\\ \\mathcal{L}'_y = 0 \\\\ \\phi(x;y)=0\\end{array}\\right. \\Leftrightarrow $\n",
    "$\\left\\{\\begin{array}{l}-8+2\\lambda x =0 \\\\ 6 + 2\\lambda y =0 \\\\ x^2 + y^2 - 36 = 0\\end{array}\\right. \\Leftrightarrow $\n",
    "$\\left\\{\\begin{array}{l}\\displaystyle x=\\frac{4}{\\lambda} \\\\ \\displaystyle y=-\\frac{3}{\\lambda}  \\\\ \\displaystyle \\frac{16}{\\lambda^2} + \\frac{9}{\\lambda^2} = 36\\end{array}\\right. \\Leftrightarrow $\n",
    "$\\left\\{\\begin{array}{l} \\displaystyle \\lambda_{1,2} = \\pm\\frac{5}{6} \\\\ \\displaystyle x = \\pm 4,8 \\\\ \\displaystyle y = \\mp 3,6\\end{array}\\right.$"
   ]
  },
  {
   "cell_type": "markdown",
   "metadata": {},
   "source": [
    "$|A|=\\left|\\begin{array}{ccc}0 & \\phi'_x & \\phi'_y \\\\ \\phi'_x & \\mathcal{L}''_{xx} & \\mathcal{L}''_{xy} \\\\ \\phi'_y & \\mathcal{L}''_{xy} & \\mathcal{L}''_{yy}\\end{array}\\right|=$\n",
    "$\\left|\\begin{array}{ccc}0 & 2x & 2y \\\\ 2x & 2\\lambda & 0 \\\\ 2y & 0 & 2\\lambda\\end{array}\\right|=$\n",
    "$-8\\lambda y^2 - 8\\lambda x^2 = -8\\lambda\\cdot(x^2 + y^2)$"
   ]
  },
  {
   "cell_type": "markdown",
   "metadata": {},
   "source": [
    "$|A| < 0$ при $\\lambda_1 = \\frac{5}{6}  \\Rightarrow (4,8; -3,6)$ - точка минимума<br>\n",
    "$|A| > 0$ при $\\lambda_2 = -\\frac{5}{6} \\Rightarrow (-4,8; 3,6)$ - точка максимума"
   ]
  },
  {
   "cell_type": "markdown",
   "metadata": {},
   "source": [
    "#### 2. Исследовать функцию $U = 2x^2 + 12xy + 32y^2 + 15$ на условный экстремум, если $x^2 + 16 y^2 = 64$"
   ]
  },
  {
   "cell_type": "markdown",
   "metadata": {},
   "source": [
    "$\\mathcal{L} = 2x^2 + 12xy + 32y^2 + 15 + \\lambda(x^2 + 16y^2 - 64)$"
   ]
  },
  {
   "cell_type": "markdown",
   "metadata": {},
   "source": [
    "$\\displaystyle \\left\\{\\begin{array}{l}\\mathcal{L}'_x = 0 \\\\ \\mathcal{L}'_y = 0 \\\\ \\phi(x;y)=0\\end{array}\\right. \\Leftrightarrow $\n",
    "$\\displaystyle \\left\\{\\begin{array}{l}4x + 12y + 2\\lambda x = 0 \\\\ 12x + 64y + 32\\lambda y =0 \\\\ x^2 + 16y^2 - 64 = 0\\end{array}\\right. \\Leftrightarrow $\n",
    "$ \\displaystyle\\left\\{\\begin{array}{l}2x(2 + \\lambda) = -12y \\\\ 32y(2 + \\lambda) = -12x  \\\\ x^2 + 16y^2 - 64 = 0\\end{array}\\right.$"
   ]
  },
  {
   "cell_type": "markdown",
   "metadata": {},
   "source": [
    "Заметим, что $x$, не равно $0$, так как в таком случае $y = 0$, и тогда не выполняется краевое условие. И по той же причине наоборот $y$ не равно $0$ и $2 + \\lambda$ не равно 0. Значит можем смело делить на $x$, $y$ и $2 + \\lambda$, не боясь потерять корни."
   ]
  },
  {
   "cell_type": "markdown",
   "metadata": {},
   "source": [
    "Рассмотрим отдельно систему из первых двух уравнений. Найдем $\\displaystyle \\frac{x}{y}$ из каждого уравнения."
   ]
  },
  {
   "cell_type": "markdown",
   "metadata": {},
   "source": [
    "$\\displaystyle \\left\\{\\begin{array}{l} \\displaystyle \\frac{x}{y} = -\\frac{6}{2 + \\lambda} \\\\ \\displaystyle \\frac{x}{y} = - \\frac{8(2 + \\lambda)}{3}  \\end{array}\\right.  \\Rightarrow 18 =8(2 + \\lambda)^2 \\Rightarrow \\displaystyle 2 + \\lambda = \\pm 1,5; \\frac{x}{y} = \\mp 4$"
   ]
  },
  {
   "cell_type": "markdown",
   "metadata": {},
   "source": [
    "$\\lambda_1 = -0,5; \\lambda_2 = -3,5$"
   ]
  },
  {
   "cell_type": "markdown",
   "metadata": {},
   "source": [
    "Из третьего уравнения и того, что $\\displaystyle \\frac{x}{y} = \\mp 4 \\Rightarrow x^2 = 16y^2$. Получим $x^2 = 32$ и $y^2 = 2$.<br> Итого 4 набора корней:"
   ]
  },
  {
   "cell_type": "markdown",
   "metadata": {},
   "source": [
    "$\\lambda_1 = -0,5; x_1 = 4\\sqrt{2}; y_1 = -\\sqrt{2}$<br>\n",
    "$\\lambda_2 = -0,5; x_2 = -4\\sqrt{2}; y_2 = \\sqrt{2}$<br>\n",
    "$\\lambda_3 = -3,5; x_3 = -4\\sqrt{2}; y_3 = -\\sqrt{2}$<br>\n",
    "$\\lambda_4 = -3,5; x_4 = 4\\sqrt{2}; y_4 = \\sqrt{2}$"
   ]
  },
  {
   "cell_type": "markdown",
   "metadata": {},
   "source": [
    "$|A|=\\left|\\begin{array}{ccc}0 & \\phi'_x & \\phi'_y \\\\ \\phi'_x & \\mathcal{L}''_{xx} & \\mathcal{L}''_{xy} \\\\ \\phi'_y & \\mathcal{L}''_{xy} & \\mathcal{L}''_{yy}\\end{array}\\right| = $ $\\left|\\begin{array}{ccc}0 & 2x & 32y \\\\ 2x & 4 + 2\\lambda & 12 \\\\ 32y & 12 & 64+32\\lambda\\end{array}\\right| = $"
   ]
  },
  {
   "cell_type": "markdown",
   "metadata": {},
   "source": [
    "$= 2\\cdot 2x \\cdot 12 \\cdot 32y - (32y)^2\\cdot (4 + 2\\lambda) - (2x)^2\\cdot (64 + 32\\lambda) = $"
   ]
  },
  {
   "cell_type": "markdown",
   "metadata": {},
   "source": [
    "$ = 128(12xy -(2+\\lambda)(x^2 + 16y^2)) = 128(12xy -(2+\\lambda)\\cdot 64) = 128(\\mp 12\\cdot 8 \\mp 96)$"
   ]
  },
  {
   "cell_type": "markdown",
   "metadata": {},
   "source": [
    "|A| < 0 при $\\lambda = -0,5$ <br>\n",
    "|A| > 0 при $\\lambda = -3,5$ "
   ]
  },
  {
   "cell_type": "markdown",
   "metadata": {},
   "source": [
    "Ответ: $(\\pm4\\sqrt{2};\\mp\\sqrt{2})$ - точки минимума, $(\\pm4\\sqrt{2};\\pm\\sqrt{2})$ - точки максимума. "
   ]
  },
  {
   "cell_type": "markdown",
   "metadata": {},
   "source": [
    "#### 3. Найти производную функции $U = x^2 + y^2 + z^2$ по направлению вектора $\\vec{c}(-9;8;-12)$ в точке $M(8;-12;9)$."
   ]
  },
  {
   "cell_type": "markdown",
   "metadata": {},
   "source": [
    "$\\displaystyle\\frac{\\delta U}{\\delta l} = \\frac{\\delta U}{\\delta x} \\cos\\alpha + \\frac{\\delta U}{\\delta y} \\cos\\beta + \\frac{\\delta U}{\\delta z} \\cos \\gamma$"
   ]
  },
  {
   "cell_type": "markdown",
   "metadata": {},
   "source": [
    "$\\displaystyle \\left.\\frac{\\delta U}{\\delta x}\\right|_{(8;-12;9)}$ = $2x|_{(8;-12;9)} = 16$"
   ]
  },
  {
   "cell_type": "markdown",
   "metadata": {},
   "source": [
    "$\\displaystyle \\left.\\frac{\\delta U}{\\delta y}\\right|_{(8;-12;9)}$ = $2y|_{(8;-12;9)} = -24$"
   ]
  },
  {
   "cell_type": "markdown",
   "metadata": {},
   "source": [
    "$\\displaystyle \\left.\\frac{\\delta U}{\\delta z}\\right|_{(8;-12;9)}$ = $2z|_{(8;-12;9)}= 18$"
   ]
  },
  {
   "cell_type": "markdown",
   "metadata": {},
   "source": [
    "$|\\vec{c}|=\\sqrt{81 + 64 + 144} = 17$"
   ]
  },
  {
   "cell_type": "markdown",
   "metadata": {},
   "source": [
    "$\\displaystyle \\cos\\alpha = \\frac{c_x}{|\\vec{c}|} = -\\frac{9}{17}$"
   ]
  },
  {
   "cell_type": "markdown",
   "metadata": {},
   "source": [
    "$\\displaystyle \\cos\\beta = \\frac{c_y}{|\\vec{c}|} = \\frac{8}{17}$"
   ]
  },
  {
   "cell_type": "markdown",
   "metadata": {},
   "source": [
    "$\\displaystyle \\cos\\gamma = \\frac{c_z}{|\\vec{c}|} = -\\frac{12}{17}$"
   ]
  },
  {
   "cell_type": "markdown",
   "metadata": {},
   "source": [
    "$\\displaystyle\\frac{\\delta U}{\\delta l} = -\\frac{16\\cdot 9}{17}-\\frac{24\\cdot 8}{17}-\\frac{18\\cdot 12}{17} = -32\\frac{8}{17}$"
   ]
  },
  {
   "cell_type": "markdown",
   "metadata": {},
   "source": [
    "#### 4. Найти производную функции $U = e^{x^2 + y^2 + z^2}$ по направлению вектора $\\vec{d}(4;-13;-16)$ в точке $L(-16;4;-13)$."
   ]
  },
  {
   "cell_type": "markdown",
   "metadata": {},
   "source": [
    "$\\displaystyle\\frac{\\delta U}{\\delta l} = \\frac{\\delta U}{\\delta x} \\cos\\alpha + \\frac{\\delta U}{\\delta y} \\cos\\beta + \\frac{\\delta U}{\\delta z} \\cos \\gamma$"
   ]
  },
  {
   "cell_type": "markdown",
   "metadata": {},
   "source": [
    "$\\displaystyle \\left.\\frac{\\delta U}{\\delta x}\\right|_{(-16;4;-13)}=$ $2x e^{x^2+y^2+z^2}|_{(-16;4;-13)} = -32e^{441}$"
   ]
  },
  {
   "cell_type": "markdown",
   "metadata": {},
   "source": [
    "$\\displaystyle \\left.\\frac{\\delta U}{\\delta y}\\right|_{(-16;4;-13)}=$ $2y e^{x^2+y^2+z^2}|_{(-16;4;-13)} = 8e^{441}$"
   ]
  },
  {
   "cell_type": "markdown",
   "metadata": {},
   "source": [
    "$\\displaystyle \\left.\\frac{\\delta U}{\\delta z}\\right|_{L}=$ $2z e^{x^2+y^2+z^2}|_{L} = -26e^{441}$"
   ]
  },
  {
   "cell_type": "markdown",
   "metadata": {},
   "source": [
    "$|\\vec{d}|=\\sqrt{441} = 21$"
   ]
  },
  {
   "cell_type": "markdown",
   "metadata": {},
   "source": [
    "$\\displaystyle \\cos\\alpha = \\frac{d_x}{|\\vec{d}|} = \\frac{4}{21}$"
   ]
  },
  {
   "cell_type": "markdown",
   "metadata": {},
   "source": [
    "$\\displaystyle \\cos\\beta = \\frac{d_y}{|\\vec{d}|} = -\\frac{13}{21}$"
   ]
  },
  {
   "cell_type": "markdown",
   "metadata": {},
   "source": [
    "$\\displaystyle \\cos\\gamma = \\frac{d_z}{|\\vec{d}|} = -\\frac{16}{21}$"
   ]
  },
  {
   "cell_type": "markdown",
   "metadata": {},
   "source": [
    "$\\displaystyle\\frac{\\delta U}{\\delta l} = e^{441}\\cdot\\frac{-32\\cdot4-8\\cdot13+26\\cdot16}{21} = 8\\frac{16}{21}\\cdot e^{441}$"
   ]
  }
 ],
 "metadata": {
  "kernelspec": {
   "display_name": "Python 3",
   "language": "python",
   "name": "python3"
  },
  "language_info": {
   "codemirror_mode": {
    "name": "ipython",
    "version": 3
   },
   "file_extension": ".py",
   "mimetype": "text/x-python",
   "name": "python",
   "nbconvert_exporter": "python",
   "pygments_lexer": "ipython3",
   "version": "3.7.3"
  }
 },
 "nbformat": 4,
 "nbformat_minor": 2
}
