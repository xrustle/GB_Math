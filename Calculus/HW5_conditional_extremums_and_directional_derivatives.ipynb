{
 "cells": [
  {
   "cell_type": "markdown",
   "metadata": {},
   "source": [
    "# Функция нескольких переменных. Часть 2"
   ]
  },
  {
   "cell_type": "markdown",
   "metadata": {},
   "source": [
    "## Условные экстремумы и производные по направлению"
   ]
  },
  {
   "cell_type": "markdown",
   "metadata": {},
   "source": [
    "#### 1. Исследовать функцию $U = 3 - 8x + 6y$ на условный экстремум, если $x^2 + y^2 = 36$"
   ]
  },
  {
   "cell_type": "markdown",
   "metadata": {},
   "source": [
    "$\\mathcal{L} = 3 - 8x + 6y + \\lambda(x^2 + y^2 - 36)$"
   ]
  },
  {
   "cell_type": "markdown",
   "metadata": {},
   "source": [
    "$\\left\\{\\begin{array}{l}\\mathcal{L}'_x = 0 \\\\ \\mathcal{L}'_y = 0 \\\\ \\phi(x;y)=0\\end{array}\\right. \\Leftrightarrow $\n",
    "$\\left\\{\\begin{array}{l}-8+2\\lambda x =0 \\\\ 6 + 2\\lambda y =0 \\\\ x^2 + y^2 - 36 = 0\\end{array}\\right. \\Leftrightarrow $\n",
    "$\\left\\{\\begin{array}{l}x=\\frac{4}{\\lambda} \\\\ y=-\\frac{3}{\\lambda}  \\\\ \\frac{16}{\\lambda^2} + \\frac{9}{\\lambda^2} = 36\\end{array}\\right. \\Leftrightarrow $\n",
    "$\\left\\{\\begin{array}{l}\\lambda = \\pm\\frac{5}{6} \\\\ x = \\pm 4,8 \\\\ y = \\mp 3,6\\end{array}\\right.$"
   ]
  },
  {
   "cell_type": "markdown",
   "metadata": {},
   "source": [
    "$|A|=\\left|\\begin{array}{ccc}0 & \\phi'_x & \\phi'_y \\\\ \\phi'_x & \\mathcal{L}''_{xx} & \\mathcal{L}''_{xy} \\\\ \\phi'_y & \\mathcal{L}''_{xy} & \\mathcal{L}''_{yy}\\end{array}\\right|=$\n",
    "$\\left|\\begin{array}{ccc}0 & 2x & 2y \\\\ 2x & 2\\lambda & 0 \\\\ 2y & 0 & 2\\lambda\\end{array}\\right|=$\n",
    "$-8\\lambda y^2 - 8\\lambda x^2 = -8\\lambda\\cdot(x^2 + y^2)$"
   ]
  },
  {
   "cell_type": "markdown",
   "metadata": {},
   "source": [
    "При $\\lambda = \\frac{5}{6}~~~~~~|A| < 0~~~~~~\\Rightarrow~~~~~~(4,8; -3,6)$ - точка минимума<br>\n",
    "При $\\lambda = -\\frac{5}{6}~~~~~~|A| > 0~~~~~~\\Rightarrow~~~~~~(-4,8; 3,6)$ - точка максимума"
   ]
  },
  {
   "cell_type": "markdown",
   "metadata": {},
   "source": [
    "#### 2. Исследовать функцию $U = 2x^2 + 12xy + 32y^2 + 15$ на условный экстремум, если $x^2 + 16 y^2 = 64$"
   ]
  },
  {
   "cell_type": "markdown",
   "metadata": {},
   "source": []
  },
  {
   "cell_type": "markdown",
   "metadata": {},
   "source": [
    "#### 3. Найти производную функции $U = x^2 + y^2 + z^2$ по направлению вектора $\\vec{c}(-9;8;-12)$ в точке $M(8;-12;9)$."
   ]
  },
  {
   "cell_type": "markdown",
   "metadata": {},
   "source": []
  },
  {
   "cell_type": "markdown",
   "metadata": {},
   "source": [
    "#### 4. Найти производную функции $U = e^{x^2 + y^2 + z^2}$ по направлению вектора $\\vec{d}(4;-13;-16)$ в точке $L(-16;4;-13)$."
   ]
  },
  {
   "cell_type": "markdown",
   "metadata": {},
   "source": []
  }
 ],
 "metadata": {
  "kernelspec": {
   "display_name": "Python 3",
   "language": "python",
   "name": "python3"
  },
  "language_info": {
   "codemirror_mode": {
    "name": "ipython",
    "version": 3
   },
   "file_extension": ".py",
   "mimetype": "text/x-python",
   "name": "python",
   "nbconvert_exporter": "python",
   "pygments_lexer": "ipython3",
   "version": "3.7.3"
  }
 },
 "nbformat": 4,
 "nbformat_minor": 2
}
