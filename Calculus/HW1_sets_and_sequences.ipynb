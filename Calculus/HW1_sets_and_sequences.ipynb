{
 "cells": [
  {
   "cell_type": "markdown",
   "metadata": {},
   "source": [
    "# Введение в математический анализ"
   ]
  },
  {
   "cell_type": "markdown",
   "metadata": {},
   "source": [
    "### 1.Как относятся друг к другу множество и последовательность? (в ответе использовать слова типа: часть, целое, общее, частное, родитель, дочерний субъект и т.д.)\n"
   ]
  },
  {
   "cell_type": "markdown",
   "metadata": {},
   "source": [
    "#### 1. Определение последовательности из Википедии ( Энциклопедический словарь юного математика / Сост. А. П. Савин. — М.: Педагогика, 1985. — С. 242-245. — 352 с.)"
   ]
  },
  {
   "cell_type": "markdown",
   "metadata": {},
   "source": [
    "Пусть задано некоторое множество $X$ элементов произвольной природы.\n",
    "\n",
    "Всякое отображение $f\\colon {\\mathbb  {N}}\\to X$ множества натуральных чисел $\\mathbb {N}$  в заданное множество $X$ называется `последовательностью` (элементов множества $X)$."
   ]
  },
  {
   "cell_type": "markdown",
   "metadata": {},
   "source": [
    "#### 2. Определение из моей университетской программы курса по мат. анализу (Лекции по математическому анализу/ Г.И. Архипов, В.А. Садовничий, В.Н. Чубариков. — М.: Дрофа, 2004. — С. 35)"
   ]
  },
  {
   "cell_type": "markdown",
   "metadata": {},
   "source": [
    "Сначала давалось определение функции. А последовательность опрелялось через функцию. Пусть $X$ также некоторое множество элементов произвольной природы."
   ]
  },
  {
   "cell_type": "markdown",
   "metadata": {},
   "source": [
    "`Последовательность` - это функция, определенная на множестве натуральных чисел $\\mathbb {N}$ и принимающая значения множества $X$."
   ]
  },
  {
   "cell_type": "markdown",
   "metadata": {},
   "source": [
    "### 2. Прочитать высказывания математической логики, построить их отрицания и установить истинность."
   ]
  },
  {
   "cell_type": "markdown",
   "metadata": {},
   "source": [
    "$\\begin{array}{l}{\\forall y \\in[0 ; 1] : \\operatorname{sgn}(y)=1} \n",
    "\\\\ {\\forall n \\in \\mathbb{N}>2 : \\exists x, y, z \\in \\mathbb{N} : x^{n}=y^{n}+z^{n}} \n",
    "\\\\ {\\forall x \\in \\mathbb{R} : \\exists X \\in \\mathbb{R} : X>x} \n",
    "\\\\ {\\forall x \\in \\mathbb{C} : \\nexists y \\in \\mathbb{C} : x>y \\| x<y} \n",
    "\\\\ {\\forall y \\in\\left[0 ; \\frac{\\pi}{2}\\right] : \\exists \\varepsilon>0 : \\sin y<\\sin (y+\\varepsilon)} \n",
    "\\\\ {\\forall y \\in[0 ; \\pi) : \\exists \\varepsilon>0 : \\cos y>\\cos (y+\\varepsilon)} \n",
    "\\\\ {\\exists x : x \\notin\\{\\mathbb{N}, \\mathbb{Z}, \\mathbb{Q}, \\mathbb{R}, \\mathbb{C}\\}}\\end{array}$"
   ]
  },
  {
   "cell_type": "markdown",
   "metadata": {},
   "source": [
    "#### 1) $\\forall y \\in[0 ; 1] : \\operatorname{sgn}(y)=1$"
   ]
  },
  {
   "cell_type": "markdown",
   "metadata": {},
   "source": [
    "Для любого $y$, принадлежащего множеству $[0; 1]$, сигнум от $y$ равен $1$."
   ]
  },
  {
   "cell_type": "markdown",
   "metadata": {},
   "source": [
    "Отрицание: $\\exists y \\in[0 ; 1] : \\operatorname{sgn}(y) \\neq 1$"
   ]
  },
  {
   "cell_type": "markdown",
   "metadata": {},
   "source": [
    "Это высказывание истинно, так как $sgn(0) = 0$"
   ]
  },
  {
   "cell_type": "markdown",
   "metadata": {},
   "source": [
    "#### 2) $\\forall n \\in \\mathbb{N}>2 : \\exists x, y, z \\in \\mathbb{N} : x^{n}=y^{n}+z^{n}$"
   ]
  },
  {
   "cell_type": "markdown",
   "metadata": {},
   "source": [
    "Для любого натурального $n$ больше двух, существуют натуральные числа $x$, $y$, $z$ такие, что $x^{n}=y^{n}+z^{n}$."
   ]
  },
  {
   "cell_type": "markdown",
   "metadata": {},
   "source": [
    "Отрицание: $\\exists n \\in \\mathbb{N} > 2 : \\forall x, y, z \\in \\mathbb{N} : x^{n}\\neq y^{n}+z^{n}$"
   ]
  },
  {
   "cell_type": "markdown",
   "metadata": {},
   "source": [
    "Это высказываение верно, так как по Великой теореме Ферма вообще для любого n > 2 верно утверждение $\\forall x, y, z \\in \\mathbb{N} : x^{n}\\neq y^{n}+z^{n}$"
   ]
  },
  {
   "cell_type": "markdown",
   "metadata": {},
   "source": [
    "#### 3) $\\forall x \\in \\mathbb{R} : \\exists X \\in \\mathbb{R} : X>x$"
   ]
  },
  {
   "cell_type": "markdown",
   "metadata": {},
   "source": [
    "Для любого вещественного числа, найдется вещественное число больше."
   ]
  },
  {
   "cell_type": "markdown",
   "metadata": {},
   "source": [
    "Отрицание: $\\exists x \\in \\mathbb{R} : \\forall X \\in \\mathbb{R} : X\\leqslant x$"
   ]
  },
  {
   "cell_type": "markdown",
   "metadata": {},
   "source": [
    "Это ложь, так как для любого вещественного числа, можно взять, например, число на единицу больше."
   ]
  },
  {
   "cell_type": "markdown",
   "metadata": {},
   "source": [
    "#### 4) $\\forall x \\in \\mathbb{C} : \\nexists y \\in \\mathbb{C} : x>y \\vee x<y$"
   ]
  },
  {
   "cell_type": "markdown",
   "metadata": {},
   "source": [
    "Для любого комплексного числа $x$, не существует комплексного числа $y$ такого, что $x > y$ или $x < y$."
   ]
  },
  {
   "cell_type": "markdown",
   "metadata": {},
   "source": [
    "Отрицание: $\\exists x \\in \\mathbb{C} : \\exists y \\in \\mathbb{C} : x>y \\vee x<y$"
   ]
  },
  {
   "cell_type": "markdown",
   "metadata": {},
   "source": [
    "Для комплексных чисел не определены операторы сравнения $>$, $\\leqslant$, $<$, $\\geqslant$, поэтому данные выражения некорректны."
   ]
  },
  {
   "cell_type": "markdown",
   "metadata": {},
   "source": [
    "#### 5) $\\forall y \\in\\left[0 ; \\frac{\\pi}{2}\\right] : \\exists \\varepsilon>0 : \\sin y<\\sin (y+\\varepsilon)$"
   ]
  },
  {
   "cell_type": "markdown",
   "metadata": {},
   "source": [
    "Для любого вещественного числа $y$ из отрезка $\\left[0 ; \\frac{\\pi}{2}\\right]$, существует число $\\varepsilon$ большее нуля, такое что, выполняется неравенство $\\sin y<\\sin (y+\\varepsilon)$"
   ]
  },
  {
   "cell_type": "markdown",
   "metadata": {},
   "source": [
    "Отрицание: $\\exists y \\in\\left[0 ; \\frac{\\pi}{2}\\right] : \\forall \\varepsilon>0 : \\sin y\\geqslant\\sin (y+\\varepsilon)$"
   ]
  },
  {
   "cell_type": "markdown",
   "metadata": {},
   "source": [
    "Выражение истинно, так как вообще $\\forall y \\in\\left[0 ; \\frac{\\pi}{2}\\right) : \\exists \\varepsilon>0 : \\sin y<\\sin (y+\\varepsilon)$"
   ]
  },
  {
   "cell_type": "markdown",
   "metadata": {},
   "source": [
    "#### Докажем это.\n",
    "Пусть, например, $\\varepsilon = \\frac{\\pi}{4} - \\frac{y}{2}$.<br>\n",
    "$\\varepsilon > 0$, так как $y \\in\\left[0 ; \\frac{\\pi}{2}\\right)$.<br> \n",
    "$y + \\varepsilon = \\frac y 2 + \\frac \\pi 4 < \\frac \\pi 4$, так как $y < \\frac{\\pi}{2}$.<br> \n",
    "Следовательно $\\frac{\\pi}2 > y + \\varepsilon >y+\\frac{\\varepsilon}{2} > 0$.<br> \n",
    "Значит $cos(y+\\frac{\\varepsilon}{2}) > 0$.<br> \n",
    "Так как $\\varepsilon > 0$, то $sin(\\frac{\\varepsilon}{2})$ тоже больше $0$.<br> \n",
    "Из последних двух выражений получим, что $2sin(\\frac{\\varepsilon}{2})cos(y+\\frac{\\varepsilon}{2}) > 0$.<br>\n",
    "Применим формулу вычитания для синусов: $2sin(\\frac{\\varepsilon}{2})cos(y+\\frac{\\varepsilon}{2}) = sin(y + \\varepsilon) - sin y > 0$.<br>\n",
    "То есть $sin y<\\sin (y+\\varepsilon)$, что и требовалось доказать."
   ]
  },
  {
   "cell_type": "markdown",
   "metadata": {},
   "source": [
    "#### 6) $\\forall y \\in[0 ; \\pi) : \\exists \\varepsilon>0 : \\cos y>\\cos (y+\\varepsilon)$"
   ]
  },
  {
   "cell_type": "markdown",
   "metadata": {},
   "source": [
    "Для любого вещественного числа $y$ из полуинтервала $[0 ; \\pi)$, существует число $\\varepsilon$ большее нуля, такое что, выполняется неравенство $\\cos y>\\cos (y+\\varepsilon)$"
   ]
  },
  {
   "cell_type": "markdown",
   "metadata": {},
   "source": [
    "Отрицание: $\\exists y \\in[0 ; \\pi) : \\forall \\varepsilon>0 : \\cos y\\leqslant\\cos (y+\\varepsilon)$"
   ]
  },
  {
   "cell_type": "markdown",
   "metadata": {},
   "source": [
    "Выражение ложно.\n",
    "#### Докажем противоположное выражение $\\forall y \\in[0 ; \\pi) : \\exists \\varepsilon>0 : \\cos y>\\cos (y+\\varepsilon)$"
   ]
  },
  {
   "cell_type": "markdown",
   "metadata": {},
   "source": [
    "Пусть, например, $\\varepsilon = \\frac{\\pi}{2} - \\frac{y}{2}$.<br>\n",
    "$\\varepsilon > 0$, так как $y \\in\\left[0 ; \\pi\\right)$.<br> \n",
    "$y + \\varepsilon = \\frac y 2 + \\frac \\pi 2 < \\frac \\pi 2$, так как $y < \\pi$.<br> \n",
    "Следовательно $\\pi > y + \\varepsilon >y+\\frac{\\varepsilon}{2} > 0$.<br> \n",
    "Значит $sin(y+\\frac{\\varepsilon}{2}) > 0$.<br> \n",
    "Так как $\\varepsilon > 0$, то $sin(\\frac{\\varepsilon}{2})$ тоже больше $0$.<br> \n",
    "Из последних двух выражений получим, что $2sin(y+\\frac{\\varepsilon}{2})sin(\\frac{\\varepsilon}{2}) > 0$.<br>\n",
    "Применим формулу вычитания для косинусов: $2sin(y+\\frac{\\varepsilon}{2})sin(\\frac{\\varepsilon}{2}) = cos(y) - cos(y + \\varepsilon) > 0$.<br>\n",
    "То есть $\\cos y>\\cos (y+\\varepsilon)$, что и требовалось доказать."
   ]
  },
  {
   "cell_type": "markdown",
   "metadata": {},
   "source": [
    "#### 7) $\\exists x : x \\notin\\{\\mathbb{N}, \\mathbb{Z}, \\mathbb{Q}, \\mathbb{R}, \\mathbb{C}\\}$"
   ]
  },
  {
   "cell_type": "markdown",
   "metadata": {},
   "source": [
    "Существует число не входящее ни в одно из перечисленных числовых множеств $\\mathbb{N}, \\mathbb{Z}, \\mathbb{Q}, \\mathbb{R}, \\mathbb{C}$."
   ]
  },
  {
   "cell_type": "markdown",
   "metadata": {},
   "source": [
    "Отрицание: $\\forall x : x \\in\\{\\mathbb{N}, \\mathbb{Z}, \\mathbb{Q}, \\mathbb{R}, \\mathbb{C}\\}$"
   ]
  },
  {
   "cell_type": "markdown",
   "metadata": {},
   "source": [
    "Выражение не является истинным. Для опровержения возьмем $x=k \\in \\mathbb{H}$ из множества кватернионов."
   ]
  }
 ],
 "metadata": {
  "kernelspec": {
   "display_name": "Python 3",
   "language": "python",
   "name": "python3"
  },
  "language_info": {
   "codemirror_mode": {
    "name": "ipython",
    "version": 3
   },
   "file_extension": ".py",
   "mimetype": "text/x-python",
   "name": "python",
   "nbconvert_exporter": "python",
   "pygments_lexer": "ipython3",
   "version": "3.7.3"
  }
 },
 "nbformat": 4,
 "nbformat_minor": 2
}
