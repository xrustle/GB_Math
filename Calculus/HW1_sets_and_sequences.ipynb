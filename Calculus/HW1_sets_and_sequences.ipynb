{
 "cells": [
  {
   "cell_type": "markdown",
   "metadata": {},
   "source": [
    "# Введение в математический анализ"
   ]
  },
  {
   "cell_type": "markdown",
   "metadata": {},
   "source": [
    "### 1. Как относятся друг к другу множество и последовательность? (в ответе использовать слова типа: часть, целое, общее, частное, родитель, дочерний субъект и т.д.)\n"
   ]
  },
  {
   "cell_type": "markdown",
   "metadata": {},
   "source": [
    "#### 1. Определение последовательности из Википедии ( Энциклопедический словарь юного математика / Сост. А. П. Савин. — М.: Педагогика, 1985. — С. 242-245. — 352 с.)"
   ]
  },
  {
   "cell_type": "markdown",
   "metadata": {},
   "source": [
    "Пусть задано некоторое множество $X$ элементов произвольной природы.\n",
    "\n",
    "Всякое отображение $f\\colon {\\mathbb  {N}}\\to X$ множества натуральных чисел $\\mathbb {N}$  в заданное множество $X$ называется `последовательностью` (элементов множества $X)$."
   ]
  },
  {
   "cell_type": "markdown",
   "metadata": {},
   "source": [
    "#### 2. Определение из моей университетской программы курса по мат. анализу (Лекции по математическому анализу/ Г.И. Архипов, В.А. Садовничий, В.Н. Чубариков. — М.: Дрофа, 2004. — С. 35)"
   ]
  },
  {
   "cell_type": "markdown",
   "metadata": {},
   "source": [
    "Сначала давалось определение функции. А последовательность опрелялось через функцию. Пусть $X$ также некоторое множество элементов произвольной природы."
   ]
  },
  {
   "cell_type": "markdown",
   "metadata": {},
   "source": [
    "`Последовательность` - это функция, определенная на множестве натуральных чисел $\\mathbb {N}$ и принимающая значения множества $X$."
   ]
  },
  {
   "cell_type": "markdown",
   "metadata": {},
   "source": [
    "### 2. Прочитать высказывания математической логики, построить их отрицания и установить истинность."
   ]
  },
  {
   "cell_type": "markdown",
   "metadata": {},
   "source": [
    "$\\begin{array}{l}{\\forall y \\in[0 ; 1] : \\operatorname{sgn}(y)=1} \n",
    "\\\\ {\\forall n \\in \\mathbb{N}>2 : \\exists x, y, z \\in \\mathbb{N} : x^{n}=y^{n}+z^{n}} \n",
    "\\\\ {\\forall x \\in \\mathbb{R} : \\exists X \\in \\mathbb{R} : X>x} \n",
    "\\\\ {\\forall x \\in \\mathbb{C} : \\nexists y \\in \\mathbb{C} : x>y \\vee x<y} \n",
    "\\\\ {\\forall y \\in\\left[0 ; \\frac{\\pi}{2}\\right] : \\exists \\varepsilon>0 : \\sin y<\\sin (y+\\varepsilon)} \n",
    "\\\\ {\\forall y \\in[0 ; \\pi) : \\exists \\varepsilon>0 : \\cos y>\\cos (y+\\varepsilon)} \n",
    "\\\\ {\\exists x : x \\notin\\{\\mathbb{N}, \\mathbb{Z}, \\mathbb{Q}, \\mathbb{R}, \\mathbb{C}\\}}\\end{array}$"
   ]
  },
  {
   "cell_type": "markdown",
   "metadata": {},
   "source": [
    "#### 1) $\\forall y \\in[0 ; 1] : \\operatorname{sgn}(y)=1$"
   ]
  },
  {
   "cell_type": "markdown",
   "metadata": {},
   "source": [
    "Для любого $y$, принадлежащего множеству $[0; 1]$, сигнум от $y$ равен $1$."
   ]
  },
  {
   "cell_type": "markdown",
   "metadata": {},
   "source": [
    "Отрицание: $\\exists y \\in[0 ; 1] : \\operatorname{sgn}(y) \\neq 1$"
   ]
  },
  {
   "cell_type": "markdown",
   "metadata": {},
   "source": [
    "Это высказывание истинно, так как $sgn(0) = 0$"
   ]
  },
  {
   "cell_type": "markdown",
   "metadata": {},
   "source": [
    "#### 2) $\\forall n \\in \\mathbb{N}>2 : \\exists x, y, z \\in \\mathbb{N} : x^{n}=y^{n}+z^{n}$"
   ]
  },
  {
   "cell_type": "markdown",
   "metadata": {},
   "source": [
    "Для любого натурального $n$ больше двух, существуют натуральные числа $x$, $y$, $z$ такие, что $x^{n}=y^{n}+z^{n}$."
   ]
  },
  {
   "cell_type": "markdown",
   "metadata": {},
   "source": [
    "Отрицание: $\\exists n \\in \\mathbb{N} > 2 : \\forall x, y, z \\in \\mathbb{N} : x^{n}\\neq y^{n}+z^{n}$"
   ]
  },
  {
   "cell_type": "markdown",
   "metadata": {},
   "source": [
    "Это высказываение верно, так как по Великой теореме Ферма вообще для любого n > 2 верно утверждение $\\forall x, y, z \\in \\mathbb{N} : x^{n}\\neq y^{n}+z^{n}$"
   ]
  },
  {
   "cell_type": "markdown",
   "metadata": {},
   "source": [
    "#### 3) $\\forall x \\in \\mathbb{R} : \\exists X \\in \\mathbb{R} : X>x$"
   ]
  },
  {
   "cell_type": "markdown",
   "metadata": {},
   "source": [
    "Для любого вещественного числа, найдется вещественное число больше."
   ]
  },
  {
   "cell_type": "markdown",
   "metadata": {},
   "source": [
    "Отрицание: $\\exists x \\in \\mathbb{R} : \\forall X \\in \\mathbb{R} : X\\leqslant x$"
   ]
  },
  {
   "cell_type": "markdown",
   "metadata": {},
   "source": [
    "Это ложь, так как для любого вещественного числа, можно взять, например, число на единицу больше."
   ]
  },
  {
   "cell_type": "markdown",
   "metadata": {},
   "source": [
    "#### 4) $\\forall x \\in \\mathbb{C} : \\nexists y \\in \\mathbb{C} : x>y \\vee x<y$"
   ]
  },
  {
   "cell_type": "markdown",
   "metadata": {},
   "source": [
    "Для любого комплексного числа $x$, не существует комплексного числа $y$ такого, что $x > y$ или $x < y$."
   ]
  },
  {
   "cell_type": "markdown",
   "metadata": {},
   "source": [
    "Отрицание: $\\exists x \\in \\mathbb{C} : \\exists y \\in \\mathbb{C} : x>y \\vee x<y$"
   ]
  },
  {
   "cell_type": "markdown",
   "metadata": {},
   "source": [
    "Для комплексных чисел не определены операторы сравнения $>$, $\\leqslant$, $<$, $\\geqslant$, поэтому данные выражения некорректны."
   ]
  },
  {
   "cell_type": "markdown",
   "metadata": {},
   "source": [
    "#### 5) $\\forall y \\in\\left[0 ; \\frac{\\pi}{2}\\right] : \\exists \\varepsilon>0 : \\sin y<\\sin (y+\\varepsilon)$"
   ]
  },
  {
   "cell_type": "markdown",
   "metadata": {},
   "source": [
    "Для любого вещественного числа $y$ из отрезка $\\left[0 ; \\frac{\\pi}{2}\\right]$, существует число $\\varepsilon$ большее нуля, такое что, выполняется неравенство $\\sin y<\\sin (y+\\varepsilon)$"
   ]
  },
  {
   "cell_type": "markdown",
   "metadata": {},
   "source": [
    "Отрицание: $\\exists y \\in\\left[0 ; \\frac{\\pi}{2}\\right] : \\forall \\varepsilon>0 : \\sin y\\geqslant\\sin (y+\\varepsilon)$"
   ]
  },
  {
   "cell_type": "markdown",
   "metadata": {},
   "source": [
    "Выражение истинно, так как вообще $\\forall y \\in\\left[0 ; \\frac{\\pi}{2}\\right) : \\exists \\varepsilon>0 : \\sin y<\\sin (y+\\varepsilon)$"
   ]
  },
  {
   "cell_type": "markdown",
   "metadata": {},
   "source": [
    "#### Докажем это.\n",
    "Пусть, например, $\\varepsilon = \\frac{\\pi}{4} - \\frac{y}{2}$.<br>\n",
    "$\\varepsilon > 0$, так как $y \\in\\left[0 ; \\frac{\\pi}{2}\\right)$.<br> \n",
    "$y + \\varepsilon = \\frac y 2 + \\frac \\pi 4 < \\frac \\pi 4$, так как $y < \\frac{\\pi}{2}$.<br> \n",
    "Следовательно $\\frac{\\pi}2 > y + \\varepsilon >y+\\frac{\\varepsilon}{2} > 0$.<br> \n",
    "Значит $cos(y+\\frac{\\varepsilon}{2}) > 0$.<br> \n",
    "Так как $\\varepsilon > 0$, то $sin(\\frac{\\varepsilon}{2})$ тоже больше $0$.<br> \n",
    "Из последних двух выражений получим, что $2sin(\\frac{\\varepsilon}{2})cos(y+\\frac{\\varepsilon}{2}) > 0$.<br>\n",
    "Применим формулу вычитания для синусов: $2sin(\\frac{\\varepsilon}{2})cos(y+\\frac{\\varepsilon}{2}) = sin(y + \\varepsilon) - sin y > 0$.<br>\n",
    "То есть $sin y<\\sin (y+\\varepsilon)$, что и требовалось доказать."
   ]
  },
  {
   "cell_type": "markdown",
   "metadata": {},
   "source": [
    "#### 6) $\\forall y \\in[0 ; \\pi) : \\exists \\varepsilon>0 : \\cos y>\\cos (y+\\varepsilon)$"
   ]
  },
  {
   "cell_type": "markdown",
   "metadata": {},
   "source": [
    "Для любого вещественного числа $y$ из полуинтервала $[0 ; \\pi)$, существует число $\\varepsilon$ большее нуля, такое что, выполняется неравенство $\\cos y>\\cos (y+\\varepsilon)$"
   ]
  },
  {
   "cell_type": "markdown",
   "metadata": {},
   "source": [
    "Отрицание: $\\exists y \\in[0 ; \\pi) : \\forall \\varepsilon>0 : \\cos y\\leqslant\\cos (y+\\varepsilon)$"
   ]
  },
  {
   "cell_type": "markdown",
   "metadata": {},
   "source": [
    "Выражение ложно.\n",
    "#### Докажем противоположное выражение $\\forall y \\in[0 ; \\pi) : \\exists \\varepsilon>0 : \\cos y>\\cos (y+\\varepsilon)$"
   ]
  },
  {
   "cell_type": "markdown",
   "metadata": {},
   "source": [
    "Пусть, например, $\\varepsilon = \\frac{\\pi}{2} - \\frac{y}{2}$.<br>\n",
    "$\\varepsilon > 0$, так как $y \\in\\left[0 ; \\pi\\right)$.<br> \n",
    "$y + \\varepsilon = \\frac y 2 + \\frac \\pi 2 < \\frac \\pi 2$, так как $y < \\pi$.<br> \n",
    "Следовательно $\\pi > y + \\varepsilon >y+\\frac{\\varepsilon}{2} > 0$.<br> \n",
    "Значит $sin(y+\\frac{\\varepsilon}{2}) > 0$.<br> \n",
    "Так как $\\varepsilon > 0$, то $sin(\\frac{\\varepsilon}{2})$ тоже больше $0$.<br> \n",
    "Из последних двух выражений получим, что $2sin(y+\\frac{\\varepsilon}{2})sin(\\frac{\\varepsilon}{2}) > 0$.<br>\n",
    "Применим формулу вычитания для косинусов: $2sin(y+\\frac{\\varepsilon}{2})sin(\\frac{\\varepsilon}{2}) = cos(y) - cos(y + \\varepsilon) > 0$.<br>\n",
    "То есть $\\cos y>\\cos (y+\\varepsilon)$, что и требовалось доказать."
   ]
  },
  {
   "cell_type": "markdown",
   "metadata": {},
   "source": [
    "#### 7) $\\exists x : x \\notin\\{\\mathbb{N}, \\mathbb{Z}, \\mathbb{Q}, \\mathbb{R}, \\mathbb{C}\\}$"
   ]
  },
  {
   "cell_type": "markdown",
   "metadata": {},
   "source": [
    "Существует число не входящее ни в одно из перечисленных числовых множеств $\\mathbb{N}, \\mathbb{Z}, \\mathbb{Q}, \\mathbb{R}, \\mathbb{C}$."
   ]
  },
  {
   "cell_type": "markdown",
   "metadata": {},
   "source": [
    "Отрицание: $\\forall x : x \\in\\{\\mathbb{N}, \\mathbb{Z}, \\mathbb{Q}, \\mathbb{R}, \\mathbb{C}\\}$"
   ]
  },
  {
   "cell_type": "markdown",
   "metadata": {},
   "source": [
    "Выражение не является истинным. Для опровержения возьмем $x=k \\in \\mathbb{H}$ из множества кватернионов."
   ]
  },
  {
   "cell_type": "markdown",
   "metadata": {},
   "source": [
    "# Множество"
   ]
  },
  {
   "cell_type": "markdown",
   "metadata": {},
   "source": [
    "### 1. Даны три множества a, b и с. Необходимо выполнить все изученные виды бинарных операций над всеми комбинациями множеств."
   ]
  },
  {
   "cell_type": "markdown",
   "metadata": {},
   "source": [
    "Пусть $a=\\{1,2,3\\}$, $b=\\{2,3,4,5\\}$, $c=\\{1,5\\}$."
   ]
  },
  {
   "cell_type": "markdown",
   "metadata": {},
   "source": [
    "#### Пересечение"
   ]
  },
  {
   "cell_type": "markdown",
   "metadata": {},
   "source": [
    "$a\\cap b = \\{2,3\\}$<br>\n",
    "$a\\cap c = \\{1\\}$<br>\n",
    "$b\\cap c = \\{5\\}$<br>\n",
    "$a\\cap a = a = \\{1,2,3\\}$<br>\n",
    "$b\\cap b = b = \\{2,3,4,5\\}$<br>\n",
    "$c\\cap c = c= \\{1,5\\}$"
   ]
  },
  {
   "cell_type": "markdown",
   "metadata": {},
   "source": [
    "#### Объединение"
   ]
  },
  {
   "cell_type": "markdown",
   "metadata": {},
   "source": [
    "$a\\cup b = \\{1,2,3,4,5\\}$<br>\n",
    "$a\\cup c = \\{1,2,3,5\\}$<br>\n",
    "$b\\cup c = \\{1,2,3,4,5\\}$<br>\n",
    "$a\\cup a = a = \\{1,2,3\\}$<br>\n",
    "$b\\cup b = b = \\{2,3,4,5\\}$<br>\n",
    "$c\\cup c = c= \\{1,5\\}$"
   ]
  },
  {
   "cell_type": "markdown",
   "metadata": {},
   "source": [
    "#### Разность"
   ]
  },
  {
   "cell_type": "markdown",
   "metadata": {},
   "source": [
    "$a\\setminus b = \\{1\\}$<br>\n",
    "$b\\setminus a = \\{4,5\\}$<br>\n",
    "$a\\setminus c = \\{2,3\\}$<br>\n",
    "$c\\setminus a = \\{5\\}$<br>\n",
    "$b\\setminus c = \\{2,3,4\\}$<br>\n",
    "$c\\setminus b = \\{1\\}$<br>\n",
    "$a\\setminus a = b\\setminus b = c\\setminus c = \\varnothing$<br>"
   ]
  },
  {
   "cell_type": "markdown",
   "metadata": {},
   "source": [
    "#### Симметрическая разность"
   ]
  },
  {
   "cell_type": "markdown",
   "metadata": {},
   "source": [
    "$a\\bigtriangleup b = \\{1,4,5\\}$<br>\n",
    "$a\\bigtriangleup c = \\{2,3,5\\}$<br>\n",
    "$b\\bigtriangleup c = \\{1,2,3,4\\}$<br>\n",
    "$a\\bigtriangleup a = b\\bigtriangleup b = c\\bigtriangleup c = \\varnothing$"
   ]
  },
  {
   "cell_type": "markdown",
   "metadata": {},
   "source": [
    "#### Декартово произведение"
   ]
  },
  {
   "cell_type": "markdown",
   "metadata": {},
   "source": [
    "$a\\times b = \\{\\{1,2\\}, \\{1,3\\}, \\{1,4\\}, \\{1,5\\}, \\{2,2\\}, \\{2,3\\}, \\{2,4\\}, \\{2,5\\}, \\{3,2\\}, \\{3,3\\}, \\{3,4\\}, \\{3,5\\}\\}$<br>\n",
    "$a\\times c = \\{\\{1,1\\}, \\{1,5\\}, \\{2,1\\}, \\{2,5\\}, \\{3,1\\}, \\{3,5\\}\\}  $<br>\n",
    "$b\\times c = \\{\\{2,1\\}, \\{2,5\\}, \\{3,1\\}, \\{3,5\\}, \\{4,1\\}, \\{4,5\\}, \\{5,1\\}, \\{5,5\\}\\}$<br>\n",
    "$a\\times a = \\{\\{1,1\\}, \\{1,2\\}, \\{1,3\\}, \\{2,1\\}, \\{2,2\\}, \\{2,3\\}, \\{3,1\\}, \\{3,2\\}, \\{3,3\\}\\}$<br>\n",
    "$b\\times b = \\{\\{2,2\\}, \\{2,3\\}, \\{2,4\\}, \\{2,5\\}, \\{3,2\\}, \\{3,3\\}, \\{3,4\\}, \\{3,5\\}, \\{4,2\\}, \\{4,3\\}, \\{4,4\\}, \\{4,5\\}, \\{5,2\\}, \\{5,3\\}, \\{5,4\\}, \\{5,5\\}\\}$<br>\n",
    "$c\\times c = \\{\\{1,1\\}, \\{1,5\\}, \\{5,1\\}, \\{5,5\\}\\}$"
   ]
  },
  {
   "cell_type": "markdown",
   "metadata": {},
   "source": [
    "### 2. *Выполнить задание 1 на языке Python"
   ]
  },
  {
   "cell_type": "code",
   "execution_count": 1,
   "metadata": {},
   "outputs": [],
   "source": [
    "a = {1, 2, 3}\n",
    "b = {2, 3, 4, 5}\n",
    "c = {1, 5}"
   ]
  },
  {
   "cell_type": "code",
   "execution_count": 2,
   "metadata": {},
   "outputs": [],
   "source": [
    "def cartesian(x, y):  # Декартово произведение\n",
    "    a = set()\n",
    "    for i in x:\n",
    "        for j in y:\n",
    "            a.add((i, j))\n",
    "    return a"
   ]
  },
  {
   "cell_type": "code",
   "execution_count": 3,
   "metadata": {},
   "outputs": [],
   "source": [
    "def _str(s):  # Функция создана, чтобы в случае вывода пустого множество, выводилосись скобки {} \n",
    "    if not s: # вместо имени класса set(). Просто для красоты\n",
    "        return '{}'\n",
    "    return s"
   ]
  },
  {
   "cell_type": "code",
   "execution_count": 4,
   "metadata": {},
   "outputs": [
    {
     "name": "stdout",
     "output_type": "stream",
     "text": [
      "Intersection\n",
      "\ta a: {1, 2, 3}\n",
      "\ta b: {2, 3}\n",
      "\ta c: {1}\n",
      "\tb a: {2, 3}\n",
      "\tb b: {2, 3, 4, 5}\n",
      "\tb c: {5}\n",
      "\tc a: {1}\n",
      "\tc b: {5}\n",
      "\tc c: {1, 5}\n",
      "Union\n",
      "\ta a: {1, 2, 3}\n",
      "\ta b: {1, 2, 3, 4, 5}\n",
      "\ta c: {1, 2, 3, 5}\n",
      "\tb a: {1, 2, 3, 4, 5}\n",
      "\tb b: {2, 3, 4, 5}\n",
      "\tb c: {1, 2, 3, 4, 5}\n",
      "\tc a: {1, 2, 3, 5}\n",
      "\tc b: {1, 2, 3, 4, 5}\n",
      "\tc c: {1, 5}\n",
      "Difference\n",
      "\ta a: {}\n",
      "\ta b: {1}\n",
      "\ta c: {2, 3}\n",
      "\tb a: {4, 5}\n",
      "\tb b: {}\n",
      "\tb c: {2, 3, 4}\n",
      "\tc a: {5}\n",
      "\tc b: {1}\n",
      "\tc c: {}\n",
      "Symmetric difference\n",
      "\ta a: {}\n",
      "\ta b: {1, 4, 5}\n",
      "\ta c: {2, 3, 5}\n",
      "\tb a: {1, 4, 5}\n",
      "\tb b: {}\n",
      "\tb c: {1, 2, 3, 4}\n",
      "\tc a: {2, 3, 5}\n",
      "\tc b: {1, 2, 3, 4}\n",
      "\tc c: {}\n",
      "Cartesian product\n",
      "\ta a: {(1, 2), (3, 2), (1, 3), (3, 3), (3, 1), (2, 1), (2, 3), (2, 2), (1, 1)}\n",
      "\ta b: {(1, 2), (3, 2), (1, 3), (3, 3), (1, 4), (1, 5), (2, 3), (2, 2), (2, 5), (3, 4), (2, 4), (3, 5)}\n",
      "\ta c: {(3, 1), (2, 1), (1, 5), (2, 5), (1, 1), (3, 5)}\n",
      "\tb a: {(3, 2), (5, 1), (3, 3), (3, 1), (5, 2), (2, 1), (2, 3), (4, 3), (2, 2), (4, 2), (4, 1), (5, 3)}\n",
      "\tb b: {(3, 2), (5, 4), (3, 3), (5, 5), (4, 5), (4, 4), (5, 2), (2, 3), (4, 3), (2, 2), (5, 3), (4, 2), (2, 5), (3, 4), (2, 4), (3, 5)}\n",
      "\tb c: {(5, 5), (4, 5), (3, 1), (2, 1), (5, 1), (2, 5), (4, 1), (3, 5)}\n",
      "\tc a: {(1, 2), (1, 3), (5, 1), (5, 2), (1, 1), (5, 3)}\n",
      "\tc b: {(1, 2), (5, 4), (1, 3), (5, 5), (1, 4), (1, 5), (5, 2), (5, 3)}\n",
      "\tc c: {(1, 5), (5, 1), (5, 5), (1, 1)}\n"
     ]
    }
   ],
   "source": [
    "import operator\n",
    "sets = {'a': a, 'b': b, 'c': c}\n",
    "operators = {'Intersection': operator.and_,  # &\n",
    "             'Union': operator.or_,  # |\n",
    "             'Difference': operator.sub,  # - \n",
    "             'Symmetric difference': operator.xor,  # ^\n",
    "             'Cartesian product': cartesian}\n",
    "\n",
    "for o in operators:\n",
    "    print(o)\n",
    "    for i in sets:\n",
    "        for j in sets:\n",
    "            print(f'\\t{i} {j}: {_str(operators[o](sets[i], sets[j]))}') "
   ]
  },
  {
   "cell_type": "markdown",
   "metadata": {},
   "source": [
    "# Последовательность"
   ]
  },
  {
   "cell_type": "markdown",
   "metadata": {},
   "source": [
    "#### 1. Даны 4 последовательности. Необходимо:"
   ]
  },
  {
   "cell_type": "markdown",
   "metadata": {},
   "source": [
    "* исследовать их на монотонность; \n",
    "* исследовать на ограниченность;\n",
    "* найти пятый по счету член.<br>\n",
    "$\\begin{array}{l}{\\left\\{a_{n}\\right\\}_{n=1}^{\\infty}=2^{n}-n} \n",
    "\\\\ {\\left\\{b_{n}\\right\\}_{n=2}^{\\infty}=\\frac{1}{1-n}} \n",
    "\\\\ {\\left\\{c_{n}\\right\\}_{n=1}^{\\infty}=(-1)^{n}+\\sqrt{2 n}} \n",
    "\\\\ {\\left\\{d_{n}\\right\\}_{n=1}^{\\infty}=(-1)^{2 n}+\\frac{1}{n^{2}}}\\end{array}$"
   ]
  },
  {
   "cell_type": "markdown",
   "metadata": {},
   "source": [
    "#### ${\\left\\{a_{n}\\right\\}_{n=1}^{\\infty}=2^{n}-n}$"
   ]
  },
  {
   "cell_type": "markdown",
   "metadata": {},
   "source": [
    "a) Последовательность монотонно возрастает, так как $a_{n+1} - a_n = 2^{n+1} - n - 1 - (2^n - n) = 2^n - 1 > 0$ при $n > 0$.<br>\n",
    "b) Последовательность ограничена снизу единицей ($\\inf(\\left\\{a_{n}\\right\\}_{n=1}^{\\infty}) = a_1 = 1$), но не ограничена сверху.<br>Докажем это.<br>\n",
    "Для любой сколь угодно большой верхней границы $C>0$, найдется $k: a_k > C$<br>\n",
    "Например, возьмем $k = log_2{(C+k + 1)}$<br>\n",
    "Имеем $k>\\log _{2}(C+k) \\Leftrightarrow 2^{k}>C+k \\Leftrightarrow 2^k - k > C \\Leftrightarrow a_k > C$<br>\n",
    "c) $a_5 = 2^5 - 5 = 32 - 5 = 27$"
   ]
  },
  {
   "cell_type": "markdown",
   "metadata": {},
   "source": [
    "#### ${\\left\\{b_{n}\\right\\}_{n=2}^{\\infty}=\\frac{1}{1-n}}$"
   ]
  },
  {
   "cell_type": "markdown",
   "metadata": {},
   "source": [
    "a) Последовательность монотонно возрастает, так как $b_{n+1} - b_n = \\frac{1}{1-(n+1)} - \\frac{1}{1-n} = \\frac{1}{n-1} - \\frac{1}{n} = \\frac{n-n+1}{n(n-1)} = \\frac{1}{n(n-1)} > 0$ при $n > 1$.<br>\n",
    "b) Последовательность ограничена снизу числом $\\inf(\\left\\{b_{n}\\right\\}_{n=2}^{\\infty}) = b_2 = -1$<br>\n",
    "Докажем, что $\\sup(\\left\\{b_{n}\\right\\}_{n=2}^{\\infty}) = 0$.<br>\n",
    "Во-первых, $\\frac{1}{1-n} < 0$ для любого $n > 1$.<br>\n",
    "А во-вторых, для любого $ -1 < C < 0$, найдется $k: b_k > C$.<br>\n",
    "Достаточно взять $k = [1-\\frac{1}{C}] + 1$, так как<br>\n",
    "$k > 1 - \\frac{1}{C} \\Leftrightarrow \\frac{C-1}{C} < k \\Leftrightarrow 1 - C < -kC \\Leftrightarrow 1 < C (1 - k) \\Leftrightarrow \\frac{1}{1-k} > C \\Leftrightarrow b_k > C$, что нам и требовалось.<br>\n",
    "c) $b_6 = -0,2$"
   ]
  },
  {
   "cell_type": "markdown",
   "metadata": {},
   "source": [
    "#### ${\\left\\{c_{n}\\right\\}_{n=1}^{\\infty}=(-1)^{n}+\\sqrt{2 n}}$"
   ]
  },
  {
   "cell_type": "markdown",
   "metadata": {},
   "source": [
    "a) Можно разбить на две подпоследовательности. Одна из четных элементов, другая из нечетных.\n",
    "Обе монотонно возрастают.<br>\n",
    "b) Обе подпоследовательности не ограничены сверху, но ограничены снизу первыми элементами.<br>\n",
    "с) $c_5 = -1 + \\sqrt{10}$"
   ]
  },
  {
   "cell_type": "markdown",
   "metadata": {},
   "source": [
    "#### ${\\left\\{d_{n}\\right\\}_{n=1}^{\\infty}=(-1)^{2 n}+\\frac{1}{n^{2}}}$"
   ]
  },
  {
   "cell_type": "markdown",
   "metadata": {},
   "source": [
    "a) ${\\left\\{d_{n}\\right\\}_{n=1}^{\\infty}=1+\\frac{1}{n^{2}}}$<br>\n",
    "Последовательность монотонно убывает<br>\n",
    "b) Сверху ограничена числом 2. Это значение первого элемента<br>\n",
    "Снизу ограничена числом 1. Это точная нижняя граница.<br>\n",
    "с) $d_5 = 1 + 1/25 = 1.04$"
   ]
  },
  {
   "cell_type": "markdown",
   "metadata": {},
   "source": [
    "#### 2. Найти 12-й член заданной неявно последовательности:"
   ]
  },
  {
   "cell_type": "markdown",
   "metadata": {},
   "source": [
    "$a_1 = 128, a_{n+1} - a_n = 6$"
   ]
  },
  {
   "cell_type": "markdown",
   "metadata": {},
   "source": [
    "$a_{12}=\\sum_{i=1}^{11}\\left(a_{i+1}-a_{i}\\right)+a_{1} = 11 \\cdot 6 + 128 = 194$"
   ]
  },
  {
   "cell_type": "markdown",
   "metadata": {},
   "source": [
    "#### 3. *На языке Python предложить алгоритм вычисляющий численно предел с точностью $\\varepsilon = 10^{-7}$\n",
    "$$\\lim _{n \\rightarrow+\\infty} \\frac{n}{\\sqrt[n]{n !}}$$"
   ]
  },
  {
   "cell_type": "markdown",
   "metadata": {},
   "source": [
    "Воспользуемся формулой Стирлинга: $\\ln n! = n\\ln n -n +O(\\ln n)$"
   ]
  },
  {
   "cell_type": "markdown",
   "metadata": {},
   "source": [
    "Посчитаем натуральный логарифм предела"
   ]
  },
  {
   "cell_type": "markdown",
   "metadata": {},
   "source": [
    "$$\\ln\\left(\\lim _{n \\rightarrow+\\infty} \\frac{n}{\\sqrt[n]{n !}}\\right) = \\lim _{n \\rightarrow+\\infty} \\ln\\left(\\frac{n}{\\sqrt[n]{n !}}\\right) = \\lim _{n \\rightarrow+\\infty} \\left( \\ln n - \\frac1n \\ln n!\\right) = \\lim _{n \\rightarrow+\\infty} \\left( \\ln n - \\frac1n (n\\ln n -n +O(\\ln n))\\right) = \\lim _{n \\rightarrow+\\infty} \\left(1 + O\\left(\\frac{\\ln n}n\\right)\\right) = 1$$"
   ]
  },
  {
   "cell_type": "markdown",
   "metadata": {},
   "source": [
    "Таким образом $$\\lim _{n \\rightarrow+\\infty} \\frac{n}{\\sqrt[n]{n !}} = e$$"
   ]
  },
  {
   "cell_type": "markdown",
   "metadata": {},
   "source": [
    "Как посчитать числинным методом в Python пока не придумал..."
   ]
  },
  {
   "cell_type": "markdown",
   "metadata": {},
   "source": [
    "Проблема в том, что зная разложение в ряд с точностью членов степени меньше единицы, предел на бесконечности можно посчитать точно, так как все члены со степенями меньше единицы будут стремиться к нулю."
   ]
  },
  {
   "cell_type": "markdown",
   "metadata": {},
   "source": [
    "А не раскладывая в ряд, не хватит вычислительных мощностей для подсчета сложных промежуточных значений. Факториала, например..."
   ]
  }
 ],
 "metadata": {
  "kernelspec": {
   "display_name": "Python 3",
   "language": "python",
   "name": "python3"
  },
  "language_info": {
   "codemirror_mode": {
    "name": "ipython",
    "version": 3
   },
   "file_extension": ".py",
   "mimetype": "text/x-python",
   "name": "python",
   "nbconvert_exporter": "python",
   "pygments_lexer": "ipython3",
   "version": "3.7.3"
  }
 },
 "nbformat": 4,
 "nbformat_minor": 2
}
