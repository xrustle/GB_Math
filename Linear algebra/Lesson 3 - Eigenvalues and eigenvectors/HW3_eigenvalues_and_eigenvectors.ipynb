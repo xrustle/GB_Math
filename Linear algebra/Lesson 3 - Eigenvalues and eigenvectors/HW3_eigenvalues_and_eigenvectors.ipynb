{
 "cells": [
  {
   "cell_type": "markdown",
   "metadata": {},
   "source": [
    "# Линейные преобразования\n",
    "### Собственные векторы и собственные значения операторов\n",
    "__1.__ Найти собственные векторы и собственные значения для линейного оператора, заданного матрицей\n",
    "\n",
    "$$A=\\left(\\begin{array}{cc}\n",
    "{-1} & {-6}\\\\ \n",
    "{2} & {6}\n",
    "\\end{array}\\right)$$\n",
    "\n",
    "#### Решение"
   ]
  },
  {
   "cell_type": "markdown",
   "metadata": {},
   "source": [
    "Найдем собственные значения линейного оператора, составив и решив характеристическое уравнение:\n",
    "\n",
    "$\\left|\\begin{array}{cc}\n",
    "{-1-\\lambda} & {-6}\\\\ \n",
    "{2} & {6-\\lambda}\n",
    "\\end{array}\\right| = 0$\n",
    "\n",
    "$(-1 -\\lambda)(6 - \\lambda) - (-12) = 0$\n",
    "\n",
    "$\\lambda^2 - 5\\lambda + 6 = 0$\n",
    "\n",
    "$\\lambda_1 = 3, \\:\\: \\lambda_2 = 2$\n",
    "\n",
    "1) $\\lambda_1 = 3$\n",
    "\n",
    "$\\left(\\begin{array}{cc}\n",
    "{-1 - 3}& {-6}\\\\ \n",
    "{2} & {6 -3}\n",
    "\\end{array}\\right)$ $\\left(\\begin{array}{c}\n",
    "{x_{1}}\\\\ \n",
    "{x_{2}}\n",
    "\\end{array}\\right)=0$\n",
    "\n",
    "$\\left(\\begin{array}{cc}\n",
    "{-4}& {-6}\\\\ \n",
    "{2} & {3}\n",
    "\\end{array}\\right)$ $\\left(\\begin{array}{c}\n",
    "{x_{1}}\\\\ \n",
    "{x_{2}}\n",
    "\\end{array}\\right)=0$\n",
    "\n",
    "$2 x_1 + 3 x_2 = 0$\n",
    "\n",
    "Собственный вектор, например, (3, -2)\n",
    "\n",
    "2) $\\lambda_1 = 2$\n",
    "\n",
    "$\\left(\\begin{array}{cc}\n",
    "{-1 - 2} & {-6}\\\\ \n",
    "{2} & {6 -2}\n",
    "\\end{array}\\right)$ $\\left(\\begin{array}{c}\n",
    "x_{1}\\\\ \n",
    "x_{2}\n",
    "\\end{array}\\right)=0$\n",
    "\n",
    "$\\left(\\begin{array}{cc}\n",
    "{-3} & {-6}\\\\ \n",
    "{2} & {4}\n",
    "\\end{array}\\right)$ $\\left(\\begin{array}{c}\n",
    "x_{1}\\\\ \n",
    "x_{2}\n",
    "\\end{array}\\right)=0$\n",
    "\n",
    "$x_1 + 2 x_2 = 0$\n",
    "\n",
    "Собственный вектор, например, (1, -2)\n",
    "\n",
    "#### Проверка"
   ]
  },
  {
   "cell_type": "code",
   "execution_count": 1,
   "metadata": {},
   "outputs": [
    {
     "name": "stdout",
     "output_type": "stream",
     "text": [
      "Матрица A:\n",
      "[[-1 -6]\n",
      " [ 2  6]]\n",
      "\n",
      "Собственные значения:\n",
      "[2. 3.]\n",
      "\n",
      "Собственные векторы:\n",
      "[[-0.89  0.83]\n",
      " [ 0.45 -0.55]]\n"
     ]
    }
   ],
   "source": [
    "import numpy as np\n",
    "np.set_printoptions(precision=2, suppress=True)\n",
    "\n",
    "a = np.array([[-1, -6], \n",
    "              [ 2,  6]])\n",
    "\n",
    "w, v = np.linalg.eig(a)\n",
    "\n",
    "print(f'Матрица A:\\n{a}\\n')\n",
    "print(f'Собственные значения:\\n{w}\\n')\n",
    "print(f'Собственные векторы:\\n{v}')"
   ]
  },
  {
   "cell_type": "markdown",
   "metadata": {},
   "source": [
    "#### Ответ\n",
    "$\\lambda_1 = 3, \\:\\: (3, -2)$ — соответствующий собственный вектор,\n",
    "\n",
    "$\\lambda_2 = 2, \\:\\: (1, -2)$ — соответствующий собственный вектор."
   ]
  },
  {
   "cell_type": "markdown",
   "metadata": {},
   "source": [
    "__2.__ Дан оператор поворота на 180 градусов, задаваемый матрицей \n",
    "\n",
    "$$A=\\left(\\begin{array}{cc}\n",
    "{-1} & {0}\\\\ \n",
    "{0} & {-1}\n",
    "\\end{array}\\right).$$\n",
    "\n",
    "Показать, что __любой__ вектор является для него собственным.\n",
    "\n",
    "#### Решение"
   ]
  },
  {
   "cell_type": "markdown",
   "metadata": {},
   "source": [
    "_Собственный вектор_ оператора $\\textbf{A}$ — это такой ненулевой вектор, действие оператора на который сводится к умножению его на число:\n",
    "\n",
    "$$\\textbf{A}x=\\lambda x.$$\n",
    "\n",
    "Это действительно так:\n",
    "\n",
    "$\\forall (x_1, x_2): \\left(\\begin{array}{cc}{-1} & {0}\\\\ {0} & {-1}\\end{array}\\right)$ $\\left(\\begin{array}{c}{x_1}\\\\{x_2}\\end{array}\\right) = $ $-1 \\left(\\begin{array}{c}{x_1}\\\\{x_2}\\end{array}\\right)$.\n",
    "\n",
    "Собственное значение $-1$."
   ]
  },
  {
   "cell_type": "markdown",
   "metadata": {},
   "source": [
    "__3.__ Пусть линейный оператор задан матрицей\n",
    "\n",
    "$$A=\\left(\\begin{array}{cc}\n",
    "{1} & {1}\\\\ \n",
    "{-1} & {3}\n",
    "\\end{array}\\right).$$\n",
    "\n",
    "Установить, является ли вектор $x=(1,1)$ собственным вектором этого линейного оператора.\n",
    "\n",
    "#### Решение"
   ]
  },
  {
   "cell_type": "markdown",
   "metadata": {},
   "source": [
    "Попробуем решить уравнение относительно $\\lambda$:\n",
    "\n",
    "$\\textbf{A}x=\\lambda x.$\n",
    "\n",
    "$\\left(\\begin{array}{cc}\n",
    "{1} & {1}\\\\ \n",
    "{-1} & {3}\n",
    "\\end{array}\\right)$ $\\left(\\begin{array}{c}{1}\\\\{1}\\end{array}\\right) = $ $\\lambda \\left(\\begin{array}{c}{1}\\\\{1}\\end{array}\\right)$\n",
    "\n",
    "$\\left\\{\\begin{array}{l}\n",
    "{1+1=\\lambda} \\\\\n",
    "{-1+3=\\lambda}\n",
    "\\end{array}\\right.$\n",
    "\n",
    "$\\left\\{\\begin{array}{l}\n",
    "{\\lambda = 2} \\\\\n",
    "{\\lambda = 2}\n",
    "\\end{array}\\right.$\n",
    "\n",
    "Вектор $(1, 1)$ является собственным для матрицы $\\textbf{A}$. Собственное значение $2$.\n",
    "\n",
    "#### Проверка"
   ]
  },
  {
   "cell_type": "code",
   "execution_count": 2,
   "metadata": {},
   "outputs": [
    {
     "name": "stdout",
     "output_type": "stream",
     "text": [
      "Матрица A:\n",
      "[[ 1  1]\n",
      " [-1  3]]\n",
      "\n",
      "Собственные значения:\n",
      "[2. 2.]\n",
      "\n",
      "Собственные векторы:\n",
      "[[ 0.71 -0.71]\n",
      " [ 0.71 -0.71]]\n"
     ]
    }
   ],
   "source": [
    "a = np.array([[ 1, 1], \n",
    "              [-1, 3]])\n",
    "\n",
    "w, v = np.linalg.eig(a)\n",
    "\n",
    "print(f'Матрица A:\\n{a}\\n')\n",
    "print(f'Собственные значения:\\n{w}\\n')\n",
    "print(f'Собственные векторы:\\n{v}')"
   ]
  },
  {
   "cell_type": "markdown",
   "metadata": {},
   "source": [
    "__4.__ Пусть линейный оператор задан матрицей\n",
    "\n",
    "$$A=\\left(\\begin{array}{ccc}\n",
    "{0} & {3} & {0}\\\\ \n",
    "{3} & {0} & {0}\\\\\n",
    "{0} & {0} & {3}\n",
    "\\end{array}\\right)$$\n",
    "\n",
    "Установить, является ли вектор $x=(3, -3, -4)$ собственным вектором этого линейного оператора.\n",
    "\n",
    "#### Решение"
   ]
  },
  {
   "cell_type": "markdown",
   "metadata": {},
   "source": [
    "$\\textbf{A}x=\\lambda x$\n",
    "\n",
    "$(\\textbf{A} - \\lambda)x=0$\n",
    "\n",
    "$\\left(\\begin{array}{ccc}\n",
    "{-\\lambda} & {3} & {0}\\\\ \n",
    "{3} & {-\\lambda} & {0}\\\\\n",
    "{0} & {0} & {3-\\lambda}\n",
    "\\end{array}\\right)$ $\\left(\\begin{array}{c}{3}\\\\{-3}\\\\{-4}\\end{array}\\right) = 0$"
   ]
  },
  {
   "cell_type": "markdown",
   "metadata": {},
   "source": [
    "$\\left\\{\\begin{array}{l}\n",
    "{- 3\\lambda - 9 = 0} \\\\\n",
    "{9 + 3\\lambda = 0} \\\\\n",
    "{-12 + 4\\lambda = 0}\n",
    "\\end{array}\\right.$\n",
    "\n",
    "$\\left\\{\\begin{array}{l}\n",
    "{\\lambda = -3} \\\\\n",
    "{\\lambda = -3} \\\\\n",
    "{\\lambda = 3}\n",
    "\\end{array}\\right.$\n",
    "\n",
    "Система несовместна, значит вектор $x=(3, -3, -4)$ не является собственным вектором линейного оператора $\\textbf{A}$.\n",
    "\n",
    "#### Проверка"
   ]
  },
  {
   "cell_type": "code",
   "execution_count": 3,
   "metadata": {},
   "outputs": [
    {
     "name": "stdout",
     "output_type": "stream",
     "text": [
      "Матрица A:\n",
      "[[0 3 0]\n",
      " [3 0 0]\n",
      " [0 0 3]]\n",
      "\n",
      "Собственные значения:\n",
      "[ 3. -3.  3.]\n",
      "\n",
      "Собственные векторы:\n",
      "[[ 0.71 -0.71  0.  ]\n",
      " [ 0.71  0.71  0.  ]\n",
      " [ 0.    0.    1.  ]]\n"
     ]
    }
   ],
   "source": [
    "a = np.array([[0, 3, 0], \n",
    "              [3, 0, 0], \n",
    "              [0, 0, 3]])\n",
    "\n",
    "w, v = np.linalg.eig(a)\n",
    "\n",
    "print(f'Матрица A:\\n{a}\\n')\n",
    "print(f'Собственные значения:\\n{w}\\n')\n",
    "print(f'Собственные векторы:\\n{v}')"
   ]
  },
  {
   "cell_type": "markdown",
   "metadata": {},
   "source": [
    "Все верно. $x=(3, -3, -4)$ не является собственным"
   ]
  }
 ],
 "metadata": {
  "kernelspec": {
   "display_name": "Python 3",
   "language": "python",
   "name": "python3"
  },
  "language_info": {
   "codemirror_mode": {
    "name": "ipython",
    "version": 3
   },
   "file_extension": ".py",
   "mimetype": "text/x-python",
   "name": "python",
   "nbconvert_exporter": "python",
   "pygments_lexer": "ipython3",
   "version": "3.7.5"
  }
 },
 "nbformat": 4,
 "nbformat_minor": 2
}
