{
 "cells": [
  {
   "cell_type": "markdown",
   "metadata": {
    "colab_type": "text",
    "id": "X2Z2Z_K5c7Zv"
   },
   "source": [
    "# Урок 2"
   ]
  },
  {
   "cell_type": "markdown",
   "metadata": {
    "colab_type": "text",
    "id": "c9EHjpDAc7Zy"
   },
   "source": [
    "# Линейное пространство. Основные понятия. Часть 2"
   ]
  },
  {
   "cell_type": "markdown",
   "metadata": {
    "colab_type": "text",
    "id": "wua5iO3ec7Zz"
   },
   "source": [
    "## Евклидово пространство"
   ]
  },
  {
   "cell_type": "markdown",
   "metadata": {
    "colab_type": "text",
    "id": "Z04nPQHDc7Z1"
   },
   "source": [
    "__Определение__\n",
    "\n",
    "Линейное пространство над полем вещественных чисел называется _евклидовым пространством_, если на нем введено правило, согласно которому каждой упорядоченной паре векторов $x$ и $y$ поставлено в соответствие вещественное число, называемое _скалярным произведением_ и обозначаемое символом $(x, y)$.\n",
    "\n",
    "При этом указанное правило должно подчиняться четырем аксиомам:<br>\n",
    "1) $(x,y)=(y,x);$<br>\n",
    "2) $(\\lambda x, y)=\\lambda(x, y);$<br>\n",
    "3) $(x_{1}+x_{2},y)=(x_{1},y)+(x_{2},y);$<br>\n",
    "4) $(x, x)\\geqslant0$, причем $(x,x)=0\\Leftrightarrow x=0.$\n",
    "\n"
   ]
  },
  {
   "cell_type": "markdown",
   "metadata": {
    "colab_type": "text",
    "id": "yQfL1Uz0c7Z2"
   },
   "source": [
    "__Пример__\n",
    "\n",
    "Из школьной программы известно, что в стандартном понимании в трехмерном пространстве скалярное произведение двух векторов определяется как произведение длин этих векторов на косинус угла между ними (см. рис.):\n",
    "\n",
    "$$(x, y) = \\left|x\\right|\\cdot\\left|y\\right|\\cdot cos\\alpha.$$"
   ]
  },
  {
   "cell_type": "code",
   "execution_count": 1,
   "metadata": {
    "colab": {},
    "colab_type": "code",
    "id": "MED517L-c7Z5"
   },
   "outputs": [],
   "source": [
    "# запустите последовательно код в ячейках, чтобы отобразить иллюстрации\n",
    "import matplotlib.pyplot as plt"
   ]
  },
  {
   "cell_type": "code",
   "execution_count": 2,
   "metadata": {
    "colab": {},
    "colab_type": "code",
    "id": "0XE1K47qc7Z_",
    "outputId": "2a641519-d245-4f52-f5f5-a3df4bec8458"
   },
   "outputs": [
    {
     "data": {
      "image/png": "[encoded data removed]",
      "text/plain": [
       "<Figure size 432x288 with 1 Axes>"
      ]
     },
     "metadata": {
      "needs_background": "light"
     },
     "output_type": "display_data"
    }
   ],
   "source": [
    "fig = plt.figure()\n",
    "ax = fig.add_subplot(1,1,1)\n",
    "\n",
    "ax.spines['left'].set_position('zero')\n",
    "ax.spines['bottom'].set_position('zero')\n",
    "\n",
    "ax.spines['right'].set_color('none')\n",
    "ax.spines['top'].set_color('none')\n",
    "\n",
    "plt.axis('scaled')\n",
    "plt.xlim(-2, 2)\n",
    "plt.ylim(-2, 2)\n",
    "\n",
    "ax.arrow(0, 0, 0.6, 2, head_width=0.15, head_length=0.2, length_includes_head=True, facecolor='black')\n",
    "ax.arrow(0, 0, 2, 0.4, head_width=0.15, head_length=0.2, length_includes_head=True, facecolor='black')\n",
    "ax.annotate(\"y\", xy=(1.8, 0.6))\n",
    "ax.annotate(\"x\", xy=(0.7, 1.8))\n",
    "ax.annotate(\"\\u03B1\", xy=(0.2, 0.2))\n",
    "\n",
    "plt.show()"
   ]
  },
  {
   "cell_type": "markdown",
   "metadata": {
    "colab_type": "text",
    "id": "gNaC1A6Kc7aJ"
   },
   "source": [
    "Данное правило удовлетворяет введенным ранее аксиомам скалярного произведения. Таким образом, приведенное в примере пространство всех свободных векторов с так определенным скалярным произведением является евклидовым пространством."
   ]
  },
  {
   "cell_type": "markdown",
   "metadata": {
    "colab_type": "text",
    "id": "dy6anLLgc7aK"
   },
   "source": [
    "__Пример__\n",
    "\n",
    "Примером евклидова пространства будет выступать $n$-мерное линейное пространство $\\mathbb{R}^{n}$ упорядоченных совокупностей $n$ вещественных чисел, скалярное произведение векторов $x=(a_{1},a_{2},...,a_{n})$ и $y=(b_{1},b_{2},...,b_{n})$ на котором определено как\n",
    "\n",
    "$$(x,y)=a_{1}b_{1}+a_{2}b_{2}+...+a_{n}b_{n}.$$"
   ]
  },
  {
   "cell_type": "markdown",
   "metadata": {
    "colab_type": "text",
    "id": "LrvAun4Zc7aL"
   },
   "source": [
    "Очевидно, что определенные ранее аксиомы выполняются для этого правила."
   ]
  },
  {
   "cell_type": "markdown",
   "metadata": {
    "colab_type": "text",
    "id": "xZm-Q3Wrc7aN"
   },
   "source": [
    "То есть скалярное произведение между двумя векторами $x=(1,2,3)$ и $y=(4,5,6)$, принадлежащими пространству $\\mathbb{R}^{3}$, будет равняться \n",
    "\n",
    "$$(x,y)=1\\cdot4+2\\cdot5+3\\cdot6=4 + 10 + 18=32.$$"
   ]
  },
  {
   "cell_type": "markdown",
   "metadata": {
    "colab_type": "text",
    "id": "CVVshT14c7aO"
   },
   "source": [
    "В Python cкалярное произведение двух векторов можно вычислять с помощью функции `numpy.dot(a, b)` или метода `vec1.dot(vec2)`, где `vec1` и `vec2` — исходные векторы."
   ]
  },
  {
   "cell_type": "code",
   "execution_count": 3,
   "metadata": {
    "colab": {},
    "colab_type": "code",
    "id": "DwrZVBJfc7aP"
   },
   "outputs": [],
   "source": [
    "import numpy as np"
   ]
  },
  {
   "cell_type": "code",
   "execution_count": 4,
   "metadata": {
    "colab": {},
    "colab_type": "code",
    "id": "JRX8Hr2ec7aU",
    "outputId": "6b295d64-47a6-4d03-b869-a1c55c4498d8"
   },
   "outputs": [
    {
     "name": "stdout",
     "output_type": "stream",
     "text": [
      "Скалярное произведение a и b:\n",
      "32\n"
     ]
    }
   ],
   "source": [
    "a = np.array([1, 2, 3])\n",
    "b = np.array([4, 5, 6])\n",
    "print(f'Скалярное произведение a и b:\\n{np.dot(a, b)}')"
   ]
  },
  {
   "cell_type": "markdown",
   "metadata": {
    "colab_type": "text",
    "id": "kHg_vsjhc7ad"
   },
   "source": [
    "Введем теперь такие важные понятия, как _метрика_, _норма_ (или _длина_) вектора и _угол_ между векторами в произвольном евклидовом пространстве. Для этого нужно ввести понятие _линейных нормированных пространств._"
   ]
  },
  {
   "cell_type": "markdown",
   "metadata": {
    "colab_type": "text",
    "id": "VasUbr7Qc7af"
   },
   "source": [
    "### Линейные нормированные пространства"
   ]
  },
  {
   "cell_type": "markdown",
   "metadata": {
    "colab_type": "text",
    "id": "QvHQeSnlc7ah"
   },
   "source": [
    "Для обобщения понятия длины вектора используется понятие _нормы_."
   ]
  },
  {
   "cell_type": "markdown",
   "metadata": {
    "colab_type": "text",
    "id": "7ijI-1nIc7ai"
   },
   "source": [
    "__Определение__\n",
    "\n",
    "Линейное пространтсво $R$ называется _нормированным_, если на нем введено правило, согласно которому каждому элементу $x$ ставится в соответствие число, называемое _нормой_ (или _длиной_) этого элемента и обозначаемое символом $\\left\\|x\\right\\|$.\n",
    "\n",
    "Оно должно подчиняться трем аксиомам:<br>\n",
    "1) $\\left\\|x\\right\\|\\geqslant0$, причем $\\left\\|x\\right\\|=0\\Leftrightarrow x=0;$<br>\n",
    "2) $\\left\\|\\lambda x\\right\\|$ = $|\\lambda|\\left\\|x\\right\\|$;<br>\n",
    "3) $\\left\\| x + y \\right\\| \\leqslant \\left\\|x\\right\\|$ + $\\left\\|y\\right\\|$.\n",
    "\n",
    "Последняя аксиома называется _неравенством треугольника_, или _неравенством Минковского_."
   ]
  },
  {
   "cell_type": "markdown",
   "metadata": {
    "colab_type": "text",
    "id": "Ey4wIr-fc7aj"
   },
   "source": [
    "__Примеры__\n",
    "\n",
    "Существует много способов определния нормы.\n",
    "\n",
    "- $p$-норма (норма Гёльдера) для вектора $x = (x_{1}, \\dots, x_{n}) \\in \\mathbb{R}^{n}$ вычисляется по формуле:\n",
    "\n",
    "$$\\left\\| x \\right\\|_{p} = \\left( \\sum_{i} \\left| x_{i} \\right|^{p} \\right)^{1 / p},~p \\geqslant 1.$$\n",
    "\n",
    "В частных случаях при:\n",
    "\n",
    "- $p = 1$ получаем $\\ell_{1}$ норму (_манхэттенская норма_, или _манхэттенское расстояние_)\n",
    "\n",
    "$$\\left\\|x\\right\\|_{1} = \\sum_{i}|x_{i}|;$$\n",
    "\n",
    "- $p = 2$ получаем $\\ell_{2}$ норму (_евклидова норма_, наиболее часто используемая)\n",
    "\n",
    "$$\\left\\|x\\right\\|_{2} = \\sqrt{\\sum_{i}|x_{i}|^{2}}.$$"
   ]
  },
  {
   "cell_type": "markdown",
   "metadata": {
    "colab_type": "text",
    "id": "5UOsib7Pc7am"
   },
   "source": [
    "Определим норму вектора вручную и при помощи Python.\n",
    "\n",
    "Для выполнения операций линейной алгебры в Python используется модуль `numpy.linalg`. Для вычисления различных норм используется функция `numpy.linalg.norm(x, ord=None)`, где `x` — исходный вектор, `ord` — параметр, обозначенный выше как $p$ и определяющий норму."
   ]
  },
  {
   "cell_type": "code",
   "execution_count": 5,
   "metadata": {
    "colab": {},
    "colab_type": "code",
    "id": "H9M6n4a6c7ao"
   },
   "outputs": [],
   "source": [
    "from numpy.linalg import norm"
   ]
  },
  {
   "cell_type": "markdown",
   "metadata": {
    "colab_type": "text",
    "id": "pDIsUYZoc7at"
   },
   "source": [
    "Зададим вектор $a=(1,2,-3)$:"
   ]
  },
  {
   "cell_type": "code",
   "execution_count": 6,
   "metadata": {
    "colab": {},
    "colab_type": "code",
    "id": "drdHOC5mc7au"
   },
   "outputs": [],
   "source": [
    "a = np.array([1, 2, -3])"
   ]
  },
  {
   "cell_type": "markdown",
   "metadata": {
    "colab_type": "text",
    "id": "KskdkMSkc7ay"
   },
   "source": [
    "Определим манхэттенскую норму вектора $a$:\n",
    "\n",
    "$$\\left\\|x\\right\\|_{1} = |1|+|2|+|-3|=6.$$"
   ]
  },
  {
   "cell_type": "code",
   "execution_count": 7,
   "metadata": {
    "colab": {},
    "colab_type": "code",
    "id": "aekUSsaCc7az",
    "outputId": "7f8198f9-0de4-44c9-b96c-b5381ee91256"
   },
   "outputs": [
    {
     "name": "stdout",
     "output_type": "stream",
     "text": [
      "l1 норма вектора a:\n",
      "6.0\n"
     ]
    }
   ],
   "source": [
    "print(f'l1 норма вектора a:\\n{norm(a, ord=1)}')"
   ]
  },
  {
   "cell_type": "markdown",
   "metadata": {
    "colab_type": "text",
    "id": "DmZb7h1Lc7a5"
   },
   "source": [
    "Определим евклидову норму вектора $a$:\n",
    "\n",
    "$$\\left\\|x\\right\\|_{2} = \\sqrt{1^{2}+2^{2}+(-3)^{2}}=\\sqrt{14}.$$"
   ]
  },
  {
   "cell_type": "code",
   "execution_count": 8,
   "metadata": {
    "colab": {},
    "colab_type": "code",
    "id": "3QfaU29wc7a7",
    "outputId": "6f25c67f-6da6-4b02-8f9f-78378003809f"
   },
   "outputs": [
    {
     "name": "stdout",
     "output_type": "stream",
     "text": [
      "l2 норма вектора a:\n",
      "3.7416573867739413\n"
     ]
    }
   ],
   "source": [
    "print(f'l2 норма вектора a:\\n{norm(a, ord=2)}')"
   ]
  },
  {
   "cell_type": "markdown",
   "metadata": {
    "colab_type": "text",
    "id": "0Rx5dazjc7bA"
   },
   "source": [
    "Можем убедиться, что различные нормы дают разные значения для одного и того же вектора."
   ]
  },
  {
   "cell_type": "markdown",
   "metadata": {
    "colab_type": "text",
    "id": "mtsZ1ln-c7bB"
   },
   "source": [
    "__Теорема__\n",
    "\n",
    "Всякое евклидово пространство является нормированным, если норму любого элемента $x$ в нем определить как\n",
    "\n",
    "$$\\left\\|x\\right\\| = \\sqrt{(x,x)}.$$"
   ]
  },
  {
   "cell_type": "markdown",
   "metadata": {
    "colab_type": "text",
    "id": "L72LpJQtc7bD"
   },
   "source": [
    "Для любых $x,y$, принадлежащих евклидову пространству $E$ с так определенной нормой, имеет место неравенство \n",
    "\n",
    "$$|(x,y)|\\leqslant\\left\\|x\\right\\| \\left\\|y\\right\\|.$$\n",
    "\n",
    "Это выражение называется _неравенством Коши — Буняковского_."
   ]
  },
  {
   "cell_type": "markdown",
   "metadata": {
    "colab_type": "text",
    "id": "bPumnjaJc7bE"
   },
   "source": [
    "Докажем его. Возьмем вещественный элемент $\\lambda$ и рассмотрим элемент $x- \\lambda y\\in E$. \n",
    "\n",
    "Согласно аксиоме 4 для евклидова пространства, \n",
    "\n",
    "$$0\\leqslant(x-\\lambda y, x-\\lambda y)=(x,x)-2(x,y)\\lambda +(y,y)\\lambda^{2}.$$\n",
    "\n",
    "Полученный квадратный трехчлен относительно $\\lambda$ является уравнением параболы. Геометрически тот факт, что он больше или равен нулю при всех $\\lambda$, означает, что квадратное уравнение \n",
    "\n",
    "$$(y,y)\\lambda^{2}-2(x,y)\\lambda +(x,x)=0$$\n",
    "\n",
    "либо вовсе не имеет корней, либо имеет один корень. А это возможно только тогда, когда дискриминант такого уравнения меньше или равен нулю:\n",
    "\n",
    "$$D=4(x,y)^{2}-4(x,x)(y,y)\\leqslant0,$$\n",
    "\n",
    "из чего следует, что\n",
    "\n",
    "$$(x,y)^{2}\\leqslant\\left\\|x\\right\\|^{2}\\left\\|y\\right\\|^{2}.$$\n",
    "\n",
    "Неравенство Коши — Буняковского доказано."
   ]
  },
  {
   "cell_type": "markdown",
   "metadata": {
    "colab_type": "text",
    "id": "3iEqrvecc7bF"
   },
   "source": [
    "__Определение__\n",
    "\n",
    "В любом вещественном евклидовом пространстве можно ввести понятие _угла_ между двумя произвольными элементами $x$ и $y$. Углом $\\varphi \\in [0, \\pi]$ между этими элементами назовем угол, косинус которого определяется соотношением\n",
    "\n",
    "$$cos\\varphi = \\frac{(x,y)}{\\left \\|x\\right \\|\\cdot\\left \\|y\\right \\|}.$$"
   ]
  },
  {
   "cell_type": "markdown",
   "metadata": {
    "colab_type": "text",
    "id": "-nJGUXBLc7bG"
   },
   "source": [
    "__Пример__\n",
    "\n",
    "Определим угол между векторами $a=(1,2,3)$, $b=(4,5,6)$."
   ]
  },
  {
   "cell_type": "code",
   "execution_count": 9,
   "metadata": {
    "colab": {},
    "colab_type": "code",
    "id": "Uefv3uBjc7bI"
   },
   "outputs": [],
   "source": [
    "a = np.array([1, 2, 3])\n",
    "b = np.array([4, 5, 6])"
   ]
  },
  {
   "cell_type": "markdown",
   "metadata": {
    "colab_type": "text",
    "id": "-SyO8gvJc7bO"
   },
   "source": [
    "$$cos\\varphi = \\frac{1\\cdot4+2\\cdot5+3\\cdot6}{\\sqrt{1^{2}+2^{2}+3^{2}}\\sqrt{4^{2}+5^{2}+6^{2}}}=\\frac{32}{\\sqrt{1078}}\\approx 0.97$$"
   ]
  },
  {
   "cell_type": "code",
   "execution_count": 10,
   "metadata": {
    "colab": {},
    "colab_type": "code",
    "id": "VIfTMQnjc7bP",
    "outputId": "3fc2a069-245e-4c11-d884-dee734edc70d"
   },
   "outputs": [
    {
     "name": "stdout",
     "output_type": "stream",
     "text": [
      "Косинус угла между a и b: 0.97\n",
      "Угол между a и b: 0.23\n"
     ]
    }
   ],
   "source": [
    "cos_phi = np.dot(a, b) / norm(a) / norm(b)\n",
    "print(f'Косинус угла между a и b: {cos_phi:.2f}')\n",
    "print(f'Угол между a и b: {np.arccos(cos_phi):.2f}')"
   ]
  },
  {
   "cell_type": "markdown",
   "metadata": {
    "colab_type": "text",
    "id": "x4_NxqYrc7bY"
   },
   "source": [
    "Два произвольных элемента $x$ и $y$ евклидова пространства $E$ называются _ортогональными_, если их скалярное произведение равно нулю (в этом случае косинус угла $\\varphi$ между этими элементами будет равен нулю)."
   ]
  },
  {
   "cell_type": "markdown",
   "metadata": {
    "colab_type": "text",
    "id": "ez9nUOZxc7ba"
   },
   "source": [
    "### Метрические пространства"
   ]
  },
  {
   "cell_type": "markdown",
   "metadata": {
    "colab_type": "text",
    "id": "JGDcLQzvc7bb"
   },
   "source": [
    "Понятие расстояния в контексте машинного обучения обобщается с помощью _метрики_."
   ]
  },
  {
   "cell_type": "markdown",
   "metadata": {
    "colab_type": "text",
    "id": "m7iu-UITc7be"
   },
   "source": [
    "__Определение__\n",
    "\n",
    "Пара $(E, d)$, где $E$ — множество, а $d: E\\times E \\rightarrow \\mathbb{R}$ — вещественнозначная функция, называется _метрическим пространством_, если для всех $x,y,z\\in E$ выполняются условия:<br>\n",
    "1) $d(x,y)=d(y,x);$<br>\n",
    "2) $d(x,x)=0$; $d(x,y)>0$, если $x \\neq y$;<br>\n",
    "3) $d(x,z) \\leqslant d(x,y) + d(y,z)$ (неравенство треугольника).\n",
    "\n",
    "Функция $d$ с такими свойствами иногда обозначается  $\\left | x-y \\right |$ и называется _метрикой_, а $d(x,y)$ — _расстоянием между точками $x,y$_."
   ]
  },
  {
   "cell_type": "markdown",
   "metadata": {
    "colab_type": "text",
    "id": "Ch3ftAD5c7bf"
   },
   "source": [
    "Любое нормированное пространство можно превратить в метрическое, определив $d(x,y) = \\left\\|x-y\\right\\|$."
   ]
  },
  {
   "cell_type": "markdown",
   "metadata": {
    "colab_type": "text",
    "id": "6fu25sQ4c7bi"
   },
   "source": [
    "__Пример__\n",
    "\n",
    "Как и в случае нормы, существует ряд различных методик определения метрики, например, _евклидова метрика_\n",
    " \n",
    "$$d_{2}(x,y) = \\sqrt{\\sum_{i}(x_{i}-y_{i})^{2}}$$\n",
    "\n",
    "и _манхэттенская метрика_:\n",
    "\n",
    "$$d_{1}(x,y) = \\sum_{i}|x_{i}-y_{i}|.$$"
   ]
  },
  {
   "cell_type": "markdown",
   "metadata": {
    "colab_type": "text",
    "id": "w-HqJgBUc7bj"
   },
   "source": [
    "Определим расстояние между векторами $a=(1,2,3)$, $b=(4,5,6)$."
   ]
  },
  {
   "cell_type": "code",
   "execution_count": 11,
   "metadata": {
    "colab": {},
    "colab_type": "code",
    "id": "XRaiV-Tgc7bk"
   },
   "outputs": [],
   "source": [
    "a = np.array([1, 2, 3])\n",
    "b = np.array([4, 5, 6])"
   ]
  },
  {
   "cell_type": "markdown",
   "metadata": {
    "colab_type": "text",
    "id": "Qs0Eqqrfc7bp"
   },
   "source": [
    "Один способ — посчитать метрику как $\\left\\|a-b\\right\\|$, как было сказано выше:"
   ]
  },
  {
   "cell_type": "code",
   "execution_count": 12,
   "metadata": {
    "colab": {},
    "colab_type": "code",
    "id": "XSaqNfk0c7bs",
    "outputId": "588d8200-be5f-44ef-a5c9-3daef17eeef3"
   },
   "outputs": [
    {
     "name": "stdout",
     "output_type": "stream",
     "text": [
      "l1 расстояние между векторами a и b:\n",
      "9.0\n"
     ]
    }
   ],
   "source": [
    "print(f'l1 расстояние между векторами a и b:\\n{norm(a - b, ord=1)}')"
   ]
  },
  {
   "cell_type": "code",
   "execution_count": 13,
   "metadata": {
    "colab": {},
    "colab_type": "code",
    "id": "FRKdP_7wc7by",
    "outputId": "2b34069c-10ca-48fd-a641-29393cfdca9e"
   },
   "outputs": [
    {
     "name": "stdout",
     "output_type": "stream",
     "text": [
      "l2 расстояние между векторами a и b:\n",
      "5.196152422706632\n"
     ]
    }
   ],
   "source": [
    "print(f'l2 расстояние между векторами a и b:\\n{norm(a - b, ord=2)}')"
   ]
  },
  {
   "cell_type": "markdown",
   "metadata": {
    "colab_type": "text",
    "id": "vufDAv6vc7b3"
   },
   "source": [
    "Второй способ посчитать расстояние — использовать функцию `scipy.spatial.distance.cdist(XA, XB, metric='euclidean', p=2, ...)` из модуля SciPy, предназначенного для выполнения научных расчетов. Параметры `XA, XB` — исходные векторы, а `metric` и `p` задают метрику расстояния.\n",
    "\n",
    "Эта функция требует, чтобы размерность массивов `XA` и `XB` была как минимум двумерная, поэтому для использования этой функции исходные векторы необходимо преобразовать в _вектор-строки_ (матрица размера $1\\times m$) или _вектор-столбцы_ (матрица размера $n\\times1$). Матрицы как струкутры данных будут рассмотрены нами в следующих уроках."
   ]
  },
  {
   "cell_type": "markdown",
   "metadata": {
    "colab_type": "text",
    "id": "N78Ehtojc7b4"
   },
   "source": [
    "Есть различные способы преобразования вектора в вектор-строку или вектор-столбец. Первый — использовать метод `array.reshape(shape)`, где кортеж `shape` задает размерность получаемого массива."
   ]
  },
  {
   "cell_type": "code",
   "execution_count": 14,
   "metadata": {
    "colab": {},
    "colab_type": "code",
    "id": "XlmcgaBvc7b5",
    "outputId": "f3d698d8-ea60-4f85-b368-e7ddfd8be55a"
   },
   "outputs": [
    {
     "name": "stdout",
     "output_type": "stream",
     "text": [
      "Вектор а: [1 2 3]\n",
      "Его размерность: (3,)\n",
      "Вектор b: [4 5 6]\n",
      "Его размерность: (3,)\n",
      "\n",
      "После применения метода reshape:\n",
      "Вектор-строка a: [[1 2 3]]\n",
      "Его размерность: (1, 3)\n",
      "Вектор-строка b: [[4 5 6]]\n",
      "Его размерность: (1, 3)\n"
     ]
    }
   ],
   "source": [
    "print(f'Вектор а: {a}')\n",
    "print(f'Его размерность: {a.shape}')\n",
    "print(f'Вектор b: {b}')\n",
    "print(f'Его размерность: {b.shape}')\n",
    "\n",
    "a = a.reshape((1, 3))\n",
    "b = b.reshape((1, 3))\n",
    "\n",
    "print('\\nПосле применения метода reshape:')\n",
    "print(f'Вектор-строка a: {a}')\n",
    "print(f'Его размерность: {a.shape}')\n",
    "print(f'Вектор-строка b: {b}')\n",
    "print(f'Его размерность: {b.shape}')"
   ]
  },
  {
   "cell_type": "code",
   "execution_count": 15,
   "metadata": {
    "colab": {},
    "colab_type": "code",
    "id": "9xAeyZDtc7b_",
    "outputId": "c1b784d8-9f80-4016-86a5-d8968faeebce"
   },
   "outputs": [
    {
     "name": "stdout",
     "output_type": "stream",
     "text": [
      "Манхэттенское расстояние между a и b:\n",
      "[[9.]]\n"
     ]
    }
   ],
   "source": [
    "from scipy.spatial.distance import cdist\n",
    "print(f'Манхэттенское расстояние между a и b:\\n{cdist(a, b, metric=\"cityblock\")}')"
   ]
  },
  {
   "cell_type": "markdown",
   "metadata": {
    "colab_type": "text",
    "id": "Lz3T0A-Uc7cE"
   },
   "source": [
    "Еще один способ преобразования вектора для получения возможности определения расстояния при помощи cdist — использование функции `np.newaxis`."
   ]
  },
  {
   "cell_type": "code",
   "execution_count": 16,
   "metadata": {
    "colab": {},
    "colab_type": "code",
    "id": "nr-_mbJhc7cG",
    "outputId": "3857497d-1b9f-4324-df1f-991c826a89a2"
   },
   "outputs": [
    {
     "name": "stdout",
     "output_type": "stream",
     "text": [
      "Преобразование вектора a в вектор-строку:\n",
      "[[1 2 3]]\n",
      "Полученная размерность:(1, 3)\n",
      "Преобразование вектора b в вектор-столбец:\n",
      "[[4]\n",
      " [5]\n",
      " [6]]\n",
      "Полученная размерность:(3, 1)\n"
     ]
    }
   ],
   "source": [
    "a = np.array([1, 2, 3])\n",
    "b = np.array([4, 5, 6])\n",
    "print(f'Преобразование вектора a в вектор-строку:\\n{a[np.newaxis, :]}')\n",
    "print(f'Полученная размерность:{a[np.newaxis, :].shape}')\n",
    "\n",
    "print(f'Преобразование вектора b в вектор-столбец:\\n{b[:, np.newaxis]}')\n",
    "print(f'Полученная размерность:{b[:, np.newaxis].shape}')"
   ]
  },
  {
   "cell_type": "code",
   "execution_count": 17,
   "metadata": {
    "colab": {},
    "colab_type": "code",
    "id": "svciKKAPc7cQ",
    "outputId": "0a92d846-9dac-43c5-cfb5-8ed415bb539c"
   },
   "outputs": [
    {
     "name": "stdout",
     "output_type": "stream",
     "text": [
      "Евклидово расстояние между a и b:\n",
      "[[5.19615242]]\n"
     ]
    }
   ],
   "source": [
    "print(f'Евклидово расстояние между a и b:\\n{cdist(a[np.newaxis, :], b[np.newaxis, :], metric=\"euclidean\")}')"
   ]
  },
  {
   "cell_type": "markdown",
   "metadata": {
    "colab_type": "text",
    "id": "oOWx-qfJc7cW"
   },
   "source": [
    "### Базис в евклидовом пространстве"
   ]
  },
  {
   "cell_type": "markdown",
   "metadata": {
    "colab_type": "text",
    "id": "O0LP3TnJc7cX"
   },
   "source": [
    "Как было сказано ранее, в евклидовом пространстве $E$ элементы $x$ и $y$ называются _ортогональными_, если\n",
    "\n",
    "$$(x,y)=0.$$"
   ]
  },
  {
   "cell_type": "markdown",
   "metadata": {
    "colab_type": "text",
    "id": "-_C1u_e8c7ca"
   },
   "source": [
    "То есть можно заключить, что данное равенство означает, что угол между векторами должен равняться $90^{\\circ}$. Это же справедливо и для произвольного евклидова пространства, а также отсюда следует, что нулевой элемент евклидова пространства ортогонален любому элементу."
   ]
  },
  {
   "cell_type": "markdown",
   "metadata": {
    "colab_type": "text",
    "id": "10MxUo4Dc7cc"
   },
   "source": [
    "__Определение.__ В конечномерном евклидовом пространстве базис $\\{e_{1},e_{2},...,e_{n}\\}$ называется ортонормированным, если \n",
    "\n",
    "$(e_{i}, e_{j})=0$ $\\forall$ $i\\neq j$ и $(e_{i},e_{i})=1$ $\\forall$ $i\\in[1, n].$"
   ]
  },
  {
   "cell_type": "markdown",
   "metadata": {
    "colab_type": "text",
    "id": "0OK9PGgXc7cd"
   },
   "source": [
    "Это означает, что ортонормированный базис является ортогональным и состоит из векторов единичной длины."
   ]
  },
  {
   "cell_type": "markdown",
   "metadata": {
    "colab_type": "text",
    "id": "UT6PV7xlc7ce"
   },
   "source": [
    "Часто на практике возникает необходимость произвести переход от произвольного базиса $\\{a_{1}, a_{2}, ...,a_{n}\\}$ в определенном евклидовом пространстве к ортонормированному. Для этого нужно сперва _ортогонализировать_ его, а затем _нормировать_:\n",
    "\n",
    "- первая часть называется процесс ортогонализации Грама-Шмидта. Она производится следующим образом.\n",
    "\n",
    "    Возьмем вначале $e_{1}=a_{1}$.<br>\n",
    "    Второй элемент нового ортогонального базиса будем искать в виде $e_{2}=a_{2}+\\alpha_{1}e_{1}.$\n",
    "    \n",
    "    $\\alpha_{1}$ подберем из условия ортогонального базиса $(e_{1}, e_{2})=0$. Из этого следует, что \n",
    "    \n",
    "    $$(e_{1}, a_{2}+\\alpha_{1}e_{1})=(e_{1}, a_{2})+(e_{1},\\alpha_{1}e_{1})=0,$$\n",
    "    \n",
    "    \n",
    "$$\\alpha_{1}=-\\frac{(e_{1}, a_{2})}{(e_{1},e_{1})}.$$\n",
    "    \n",
    "\n",
    "    \n",
    "    "
   ]
  },
  {
   "cell_type": "markdown",
   "metadata": {
    "colab_type": "text",
    "id": "52bJc9E4c7cf"
   },
   "source": [
    "    \n",
    "   k-й элемент нового базиса будет иметь вид \n",
    "   \n",
    "   $$e_{k}=a_{k}+\\sum_{j=1}^{k-1}\\alpha_{j}e_{j},$$\n",
    "    \n",
    "   а $\\alpha_{i}$ —\n",
    "    \n",
    "   $$\\alpha_{i}=-\\frac{(e_{i}, a_{k})}{(e_{i},e_{i})}, i\\in[1, k-1].$$\n",
    "    \n",
    "   Ортогонализация продолжается до окончания множества исходных элементов, после чего следует вторая часть:\n",
    "    \n",
    "- элементы $e_{i}$ достаточно пронормировать для получения ортонормированного базиса:\n",
    "    \n",
    "    $$e_{i}'=\\frac{e_{i}}{|e_{i}|}.$$"
   ]
  },
  {
   "cell_type": "markdown",
   "metadata": {
    "colab_type": "text",
    "id": "1p3yEbsYc7cg"
   },
   "source": [
    "Примером ортонормированного базиса может служить декартов прямоугольный базис евклидова пространства $E^{n}$:\n",
    "\n",
    "$$e_{1}=(1,0,0,...,0),$$\n",
    "$$e_{2}=(0,1,0,...,0),$$\n",
    "$$...$$\n",
    "$$e_{n}=(0,0,0,...,1).$$"
   ]
  },
  {
   "cell_type": "markdown",
   "metadata": {
    "colab_type": "text",
    "id": "wYEipVAZc7ch"
   },
   "source": [
    "Рассмотрим плюсы ортонормированного базиса по сравнению с обычным неортогональным."
   ]
  },
  {
   "cell_type": "markdown",
   "metadata": {
    "colab_type": "text",
    "id": "gl49-J4sc7cn"
   },
   "source": [
    "Возьмем некоторое пространство с ортонормированным базисом $\\{e_{1},e_{2},...,e_{n}\\}$, выберем два произвольных вектора $x$ и $y$ в нем и разложим их по базису: \n",
    "\n",
    "$$x=\\xi_{1} e_{1}+ \\xi_{2} e_{2}+...+\\xi_{n} e_{n},$$\n",
    "$$y=\\eta_{1} e_{1}+ \\eta_{2} e_{2}+...+\\eta_{n} e_{n}.$$"
   ]
  },
  {
   "cell_type": "markdown",
   "metadata": {
    "colab_type": "text",
    "id": "EjmrQcUoc7cq"
   },
   "source": [
    "Коэффициенты $\\xi_{i}$ и $\\eta_{i}$ будут координатами соответствующих векторов в существующем базисе. Вычислим их скалярное произведение:\n",
    "\n",
    "$$(x,y)=(\\xi_{1} e_{1}+ \\xi_{2} e_{2}+...+\\xi_{n} e_{n},\\eta_{1} e_{1}+ \\eta_{2} e_{2}+...+\\eta_{n} e_{n}).$$\n",
    "\n",
    "Учитывая свойства ортонормированного базиса (обнуление всех скалярных произведений $(e_{i}, e_{j})=0$) и $(e_{i}, e_{i})=1$, получим, что \n",
    "\n",
    "$$(x,y)=\\xi_{1}\\eta_{1} + \\xi_{2} \\eta_{2}+...+\\xi_{n}\\eta_{n}.$$"
   ]
  },
  {
   "cell_type": "markdown",
   "metadata": {
    "colab_type": "text",
    "id": "DoG0Hea-c7cr"
   },
   "source": [
    "Таким образом, _в евклидовом пространстве с ортонормированным базисом скалярное произведение двух векторов равняется сумме произведений соответствующих координат этих векторов в этом базисе_."
   ]
  },
  {
   "cell_type": "markdown",
   "metadata": {
    "colab_type": "text",
    "id": "B6bf-1D-c7ct"
   },
   "source": [
    "Также особенностью ортонормированного базиса является то, что _координаты произвольного элемента относительно ортонормированного базиса равны скалярным произведениям этого элемента на соответствующие базисные элементы._"
   ]
  },
  {
   "cell_type": "markdown",
   "metadata": {
    "colab_type": "text",
    "id": "rnPVQP84c7cu"
   },
   "source": [
    "## Практическое задание"
   ]
  },
  {
   "cell_type": "markdown",
   "metadata": {
    "colab_type": "text",
    "id": "81d4BnNXc7cy"
   },
   "source": [
    "__1.__ Найти скалярное произведение векторов $x, y \\in \\mathbb{R}$:<br>\n",
    "а) $x=(0,-3, 6),~y=(-4, 7, 9);$<br>\n",
    "б) $x=(7, -4, 0, 1),~y=(-3, 1, 11, 2).$\n",
    "\n",
    "__2.__ Найти нормы векторов $(4, 2, 4)$ и $(12, 3, 4)$ и угол между ними.\n",
    "\n",
    "\n",
    "__3.__ Будет ли линейное пространство евклидовым, если за скалярное произведение принять:<br>\n",
    "а) произведение длин векторов;<br>\n",
    "б) утроенное обычное скалярное произведение векторов?\n",
    "   \n",
    "   \n",
    "__4.__ Какие из нижеперечисленных векторов образуют ортонормированный базис в линейном пространстве $\\mathbb{R}^{3}$:<br>\n",
    "а) $(1,0,0),(0,0,1);$ <br>\n",
    "б) $(1/\\sqrt{2},-1/\\sqrt{2},0),(1/\\sqrt{2},1/\\sqrt{2},0), (0,0,1);$<br>\n",
    "в) $(1/2, -1/2, 0), (0, 1/2, 1/2), (0,0,1);$<br>\n",
    "г) $(1,0,0),(0,1,0),(0,0,1)?$ "
   ]
  },
  {
   "cell_type": "markdown",
   "metadata": {
    "colab_type": "text",
    "id": "Dy-9B3Uwc7cz"
   },
   "source": [
    "## Литература"
   ]
  },
  {
   "cell_type": "markdown",
   "metadata": {
    "colab_type": "text",
    "id": "OXmdG8f3c7c0"
   },
   "source": [
    "1. Ильин В. А., Позняк Э. Г. Линейная алгебра: Учеб. для вузов. — 6-е изд. — М.: Физматлит, 2005.\n",
    "2. Кострикин А. И., Манин Ю. И. Линейная алгебра и геометрия. Учеб. пособие для вузов. — 2-е изд. — М.: Наука, Главная редакция физико-математической литературы, 1986.\n",
    "3. Шерстнева А. И., Янущик О. В. Линейные пространства. Линейные операторы: учебное пособие. Томск: Изд-во Томского политехнического университета, 2010."
   ]
  },
  {
   "cell_type": "markdown",
   "metadata": {
    "colab_type": "text",
    "id": "JOAQaPnDc7c1"
   },
   "source": [
    "## Дополнительные материалы"
   ]
  },
  {
   "cell_type": "markdown",
   "metadata": {
    "colab_type": "text",
    "id": "sSWpQjS6c7c2"
   },
   "source": [
    "1. [Манхэттенская метрика](https://ru.wikipedia.org/wiki/Расстояние_городских_кварталов).\n",
    "\n",
    "2. [Евклидова метрика](https://ru.wikipedia.org/wiki/Евклидова_метрика).\n",
    "\n",
    "3. [Скалярное произведение в Python](http://docs.scipy.org/doc/numpy/reference/routines.linalg.html#matrix-and-vector-products).\n",
    "\n",
    "4. [Документация по нормам в NumPy](http://docs.scipy.org/doc/numpy-1.10.0/reference/generated/numpy.linalg.norm.html)\n",
    "\n",
    "5. [Документация по метрикам в SciPy](http://docs.scipy.org/doc/scipy-0.16.0/reference/generated/scipy.spatial.distance.cdist.html)"
   ]
  }
 ],
 "metadata": {
  "colab": {
   "collapsed_sections": [],
   "name": "Copy of Lesson_2-REVISED.ipynb",
   "provenance": []
  },
  "kernelspec": {
   "display_name": "Python 3",
   "language": "python",
   "name": "python3"
  },
  "language_info": {
   "codemirror_mode": {
    "name": "ipython",
    "version": 3
   },
   "file_extension": ".py",
   "mimetype": "text/x-python",
   "name": "python",
   "nbconvert_exporter": "python",
   "pygments_lexer": "ipython3",
   "version": "3.7.5"
  }
 },
 "nbformat": 4,
 "nbformat_minor": 1
}
