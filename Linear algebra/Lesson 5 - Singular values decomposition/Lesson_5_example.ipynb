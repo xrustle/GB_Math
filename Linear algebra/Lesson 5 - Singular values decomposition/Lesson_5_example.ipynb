{
 "cells": [
  {
   "cell_type": "code",
   "execution_count": 1,
   "metadata": {},
   "outputs": [
    {
     "name": "stdout",
     "output_type": "stream",
     "text": [
      "Матрица A:\n",
      "[[ -8.27 -51.6 ]\n",
      " [  7.89  11.95]\n",
      " [ 27.81  53.8 ]\n",
      " [ -0.7  -28.85]\n",
      " [-11.97 -63.53]\n",
      " [-10.84  -9.88]\n",
      " [-13.81 -16.55]\n",
      " [  8.72  29.61]\n",
      " [-26.24 -55.93]\n",
      " [ 10.97  60.01]\n",
      " [-28.85 -86.56]\n",
      " [ -0.76  15.06]\n",
      " [-11.12 -60.11]\n",
      " [-17.23 -30.56]\n",
      " [ -6.21 -44.28]\n",
      " [ -7.57   1.84]\n",
      " [  7.99  28.8 ]\n",
      " [ -2.87 -17.56]\n",
      " [ -6.32 -48.66]\n",
      " [-17.37 -49.99]\n",
      " [ -8.35 -52.59]\n",
      " [-19.21 -48.78]\n",
      " [-19.17 -42.62]\n",
      " [ 12.76  33.75]\n",
      " [ 29.05  79.53]\n",
      " [ 15.57  71.19]\n",
      " [-15.58 -24.51]\n",
      " [ 13.83  70.08]\n",
      " [ 16.54  43.56]\n",
      " [ -2.4   18.64]]\n"
     ]
    }
   ],
   "source": [
    "import matplotlib.pyplot as plt\n",
    "import numpy as np\n",
    "np.set_printoptions(precision=2, suppress=True)\n",
    "\n",
    "\n",
    "x = np.random.uniform(-30, 30, 30) \n",
    "q = np.random.uniform(-30, 30, 30) \n",
    "y = 3*x+1*q \n",
    "\n",
    "\n",
    "A =np.array( [x]+[y]).T\n",
    "\n",
    "print(f'Матрица A:\\n{A}')"
   ]
  },
  {
   "cell_type": "markdown",
   "metadata": {},
   "source": [
    "попытка1 - найти вектор методом МНК "
   ]
  },
  {
   "cell_type": "code",
   "execution_count": 2,
   "metadata": {},
   "outputs": [],
   "source": [
    "MNK=np.vstack([A.T[0], np.ones(len(A))]).T"
   ]
  },
  {
   "cell_type": "code",
   "execution_count": 3,
   "metadata": {
    "scrolled": true
   },
   "outputs": [
    {
     "data": {
      "text/plain": [
       "(2.8116404228145124, 0.6876968626775376)"
      ]
     },
     "execution_count": 3,
     "metadata": {},
     "output_type": "execute_result"
    }
   ],
   "source": [
    "m, c = np.linalg.lstsq(MNK, A.T[1], rcond=None)[0]\n",
    "m, c"
   ]
  },
  {
   "cell_type": "code",
   "execution_count": 4,
   "metadata": {},
   "outputs": [],
   "source": [
    "U, s, V = np.linalg.svd(A)"
   ]
  },
  {
   "cell_type": "code",
   "execution_count": 5,
   "metadata": {},
   "outputs": [],
   "source": [
    "D = np.eye(2)*s"
   ]
  },
  {
   "cell_type": "code",
   "execution_count": 6,
   "metadata": {},
   "outputs": [
    {
     "name": "stdout",
     "output_type": "stream",
     "text": [
      "Матрица D:\n",
      "[[267.57   0.  ]\n",
      " [  0.    34.82]]\n"
     ]
    }
   ],
   "source": [
    "print(f'Матрица D:\\n{D}')"
   ]
  },
  {
   "cell_type": "code",
   "execution_count": 7,
   "metadata": {},
   "outputs": [
    {
     "name": "stdout",
     "output_type": "stream",
     "text": [
      "Матрица A_:\n",
      "[[ 6772.81 18985.14]\n",
      " [18985.14 66033.44]]\n",
      "Собственные значения:\n",
      "[ 1212.35 71593.9 ]\n",
      "Собственные векторы:\n",
      "[[-0.96 -0.28]\n",
      " [ 0.28 -0.96]]\n",
      "Собственные значения:\n",
      "[71593.9   1212.35]\n",
      "Матрица U:\n",
      "[[-0.28 -0.96]\n",
      " [-0.96  0.28]]\n",
      "Собственные вектор, найденный по первому собственному значению:\n",
      "[-0.28 -0.96]\n",
      "Собственные вектор, найденный по второму собственному значению:\n",
      "[-0.96  0.28]\n",
      "Матрица V:\n",
      "[[-0.28 -0.96]\n",
      " [-0.96  0.28]]\n",
      "Матрица d:\n",
      "[-0.96  0.28]\n"
     ]
    }
   ],
   "source": [
    "A_=np.array([[A.T[0].dot(A.T[0]), A.T[0].dot(A.T[1])], [A.T[1].dot(A.T[0]), A.T[1].dot(A.T[1])]])\n",
    "w, v = np.linalg.eig(A_)\n",
    "print(f'Матрица A_:\\n{A_}')\n",
    "print(f'Собственные значения:\\n{w}')\n",
    "print(f'Собственные векторы:\\n{v}')\n",
    "\n",
    "U, s, V = np.linalg.svd(A_)\n",
    "D = np.eye(2)*s\n",
    "print(f'Собственные значения:\\n{s}')\n",
    "print(f'Матрица U:\\n{U}')\n",
    "print(f'Собственные вектор, найденный по первому собственному значению:\\n{U[0]}')\n",
    "print(f'Собственные вектор, найденный по второму собственному значению:\\n{U[1]}')\n",
    "print(f'Матрица V:\\n{V}')\n",
    "\n",
    "\n",
    "print(f'Матрица d:\\n{v[:,0]}')"
   ]
  },
  {
   "cell_type": "markdown",
   "metadata": {},
   "source": [
    "судя по всему не совсем удалось"
   ]
  },
  {
   "cell_type": "code",
   "execution_count": 8,
   "metadata": {},
   "outputs": [
    {
     "data": {
      "image/png": "[encoded data removed]",
      "text/plain": [
       "<Figure size 576x576 with 1 Axes>"
      ]
     },
     "metadata": {
      "needs_background": "light"
     },
     "output_type": "display_data"
    }
   ],
   "source": [
    "import matplotlib.pyplot as plt\n",
    "\n",
    "plt.figure(figsize=(8,8))\n",
    "plt.xlim([-33, 33])\n",
    "plt.ylim([-33, 33])\n",
    "plt.yticks(np.arange(-30, 31, 3))\n",
    "plt.xticks(np.arange(-30, 31, 3))\n",
    "plt.gca().set_aspect('equal', adjustable='box')\n",
    "\n",
    "\n",
    "plt.scatter(A.T[0], A.T[1], c='black')\n",
    "\n",
    "origin = [0], [0] # origin point\n",
    "plt.quiver(*origin, U[:,0], U[:,1], color=['g','r'], scale=3)\n",
    "plt.xlabel(\"x\")\n",
    "plt.ylabel(\"y\")\n",
    "\n",
    "plt.show()"
   ]
  }
 ],
 "metadata": {
  "kernelspec": {
   "display_name": "Python 3",
   "language": "python",
   "name": "python3"
  },
  "language_info": {
   "codemirror_mode": {
    "name": "ipython",
    "version": 3
   },
   "file_extension": ".py",
   "mimetype": "text/x-python",
   "name": "python",
   "nbconvert_exporter": "python",
   "pygments_lexer": "ipython3",
   "version": "3.7.5"
  }
 },
 "nbformat": 4,
 "nbformat_minor": 2
}
