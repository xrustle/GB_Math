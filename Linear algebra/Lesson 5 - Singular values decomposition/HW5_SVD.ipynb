{
 "cells": [
  {
   "cell_type": "markdown",
   "metadata": {},
   "source": [
    "# Сингулярное разложение матриц. Часть 1\n",
    "__1.__ Найти с помощью NumPy SVD для матрицы\n",
    "\n",
    "$$\\left(\\begin{array}{ccc}\n",
    "{1} & {2} & {0}\\\\ \n",
    "{0} & {0} & {5}\\\\ \n",
    "{3} & {-4} & {2}\\\\ \n",
    "{1} & {6} & {5}\\\\ \n",
    "{0} & {1} & {0}\n",
    "\\end{array}\\right)$$\n",
    "\n",
    "### Решение"
   ]
  },
  {
   "cell_type": "code",
   "execution_count": 1,
   "metadata": {},
   "outputs": [
    {
     "name": "stdout",
     "output_type": "stream",
     "text": [
      "Populating the interactive namespace from numpy and matplotlib\n"
     ]
    }
   ],
   "source": [
    "import numpy as np\n",
    "np.set_printoptions(precision=2, suppress=True, threshold=10)\n",
    "%pylab inline"
   ]
  },
  {
   "cell_type": "code",
   "execution_count": 2,
   "metadata": {},
   "outputs": [],
   "source": [
    "A = np.array([[1,  2, 0],\n",
    "              [0,  0, 5],\n",
    "              [3, -4, 2],\n",
    "              [1,  6, 5],\n",
    "              [0,  1, 0]])\n",
    "\n",
    "U, d, V_T = np.linalg.svd(A)\n",
    "\n",
    "V = V_T.T\n",
    "\n",
    "D = np.zeros_like(A, dtype=float)\n",
    "D[np.diag_indices(min(A.shape))] = d"
   ]
  },
  {
   "cell_type": "code",
   "execution_count": 3,
   "metadata": {},
   "outputs": [],
   "source": [
    "def print_matrix(name, M):\n",
    "    print(f'{name} = {M[0]}')\n",
    "    for i in range(1, len(M)):\n",
    "        print(M[i])"
   ]
  },
  {
   "cell_type": "code",
   "execution_count": 4,
   "metadata": {},
   "outputs": [
    {
     "name": "stdout",
     "output_type": "stream",
     "text": [
      "[[ 0.17  0.16 -0.53 -0.8  -0.16]\n",
      " [ 0.39 -0.53  0.61 -0.43  0.03]\n",
      " [-0.14 -0.82 -0.52  0.14  0.07]\n",
      " [ 0.89  0.06 -0.25  0.38 -0.06]\n",
      " [ 0.08  0.11 -0.08 -0.11  0.98]]\n"
     ]
    }
   ],
   "source": [
    "print(U)\n",
    "# Матрица U"
   ]
  },
  {
   "cell_type": "code",
   "execution_count": 5,
   "metadata": {},
   "outputs": [
    {
     "name": "stdout",
     "output_type": "stream",
     "text": [
      "[[8.82 0.   0.  ]\n",
      " [0.   6.14 0.  ]\n",
      " [0.   0.   2.53]\n",
      " [0.   0.   0.  ]\n",
      " [0.   0.   0.  ]]\n"
     ]
    }
   ],
   "source": [
    "print(D)\n",
    "# Матрица D"
   ]
  },
  {
   "cell_type": "code",
   "execution_count": 6,
   "metadata": {},
   "outputs": [
    {
     "name": "stdout",
     "output_type": "stream",
     "text": [
      "[[ 0.07 -0.37 -0.93]\n",
      " [ 0.72  0.67 -0.21]\n",
      " [ 0.69 -0.65  0.31]]\n"
     ]
    }
   ],
   "source": [
    "print(V)\n",
    "# Матрица V"
   ]
  },
  {
   "cell_type": "markdown",
   "metadata": {},
   "source": [
    "Проверим:"
   ]
  },
  {
   "cell_type": "code",
   "execution_count": 7,
   "metadata": {},
   "outputs": [
    {
     "name": "stdout",
     "output_type": "stream",
     "text": [
      "[[ 1.  2.  0.]\n",
      " [ 0. -0.  5.]\n",
      " [ 3. -4.  2.]\n",
      " [ 1.  6.  5.]\n",
      " [-0.  1.  0.]]\n"
     ]
    }
   ],
   "source": [
    "print(U @ D @ V_T)"
   ]
  },
  {
   "cell_type": "markdown",
   "metadata": {},
   "source": [
    "__2.__ Для матрицы из предыдущего задания найти:\n",
    "\n",
    "    а) евклидову норму,\n",
    "    \n",
    "    б) норму Фробениуса.\n",
    "    \n",
    "### Решение"
   ]
  },
  {
   "cell_type": "markdown",
   "metadata": {},
   "source": [
    "    а) Евклидова норма\n",
    "\n",
    "$\\left \\| A \\right \\|_{E}=\\mu_{1}.$"
   ]
  },
  {
   "cell_type": "code",
   "execution_count": 8,
   "metadata": {},
   "outputs": [
    {
     "name": "stdout",
     "output_type": "stream",
     "text": [
      "8.82\n"
     ]
    }
   ],
   "source": [
    "eucl_norm = D[0][0]\n",
    "\n",
    "print(f'{eucl_norm:.2f}')"
   ]
  },
  {
   "cell_type": "markdown",
   "metadata": {},
   "source": [
    "Проверим"
   ]
  },
  {
   "cell_type": "code",
   "execution_count": 9,
   "metadata": {},
   "outputs": [
    {
     "name": "stdout",
     "output_type": "stream",
     "text": [
      "8.82\n"
     ]
    }
   ],
   "source": [
    "eucl_norm = np.linalg.norm(A, ord=2)\n",
    "\n",
    "print(f'{eucl_norm:.2f}')"
   ]
  },
  {
   "cell_type": "markdown",
   "metadata": {},
   "source": [
    "    б) норму Фробениуса.\n",
    "\n",
    "$\\left \\| A \\right \\|_{F}=\\sqrt{\\sum_{k=1}^{r}\\mu_{k}^{2}}.$"
   ]
  },
  {
   "cell_type": "code",
   "execution_count": 10,
   "metadata": {},
   "outputs": [
    {
     "name": "stdout",
     "output_type": "stream",
     "text": [
      "11.05\n"
     ]
    }
   ],
   "source": [
    "frob_norm = np.sqrt(sum([D[i][i]**2 for i in range(min(D.shape))]))\n",
    "\n",
    "print(f'{frob_norm:.2f}')"
   ]
  },
  {
   "cell_type": "code",
   "execution_count": 11,
   "metadata": {},
   "outputs": [
    {
     "name": "stdout",
     "output_type": "stream",
     "text": [
      "11.05\n"
     ]
    }
   ],
   "source": [
    "frob_norm = np.linalg.norm(A, ord=\"fro\")\n",
    "\n",
    "print(f'{frob_norm:.2f}')"
   ]
  },
  {
   "cell_type": "markdown",
   "metadata": {},
   "source": [
    "# Часть 2"
   ]
  },
  {
   "cell_type": "markdown",
   "metadata": {},
   "source": [
    "__1.__ На примере данных о цветках Ириса:\n",
    "\n",
    "* Разложть матрицу с помощью сингулярного разложения\n",
    "* Избавиться от признаков, которые незначительно повлияют на выборку\n",
    "* Вычислить значения признаков в новом базисе\n",
    "\n",
    "### Решение"
   ]
  },
  {
   "cell_type": "code",
   "execution_count": 12,
   "metadata": {},
   "outputs": [],
   "source": [
    "import pandas as pd\n",
    "\n",
    "from mpl_toolkits.mplot3d import Axes3D\n",
    "import matplotlib.pyplot as plt\n",
    "import seaborn as sns\n",
    "\n",
    "from sklearn import datasets\n",
    "from sklearn import metrics\n",
    "from sklearn.model_selection import train_test_split\n",
    "from sklearn.preprocessing import StandardScaler\n",
    "from sklearn.cluster import KMeans\n",
    "from sklearn.manifold import TSNE"
   ]
  },
  {
   "cell_type": "markdown",
   "metadata": {},
   "source": [
    "#### Загрузим данные по цветкам ириса"
   ]
  },
  {
   "cell_type": "code",
   "execution_count": 13,
   "metadata": {},
   "outputs": [],
   "source": [
    "iris = datasets.load_iris()"
   ]
  },
  {
   "cell_type": "code",
   "execution_count": 14,
   "metadata": {},
   "outputs": [
    {
     "data": {
      "text/html": [
       "<div>\n",
       "<style scoped>\n",
       "    .dataframe tbody tr th:only-of-type {\n",
       "        vertical-align: middle;\n",
       "    }\n",
       "\n",
       "    .dataframe tbody tr th {\n",
       "        vertical-align: top;\n",
       "    }\n",
       "\n",
       "    .dataframe thead th {\n",
       "        text-align: right;\n",
       "    }\n",
       "</style>\n",
       "<table border=\"1\" class=\"dataframe\">\n",
       "  <thead>\n",
       "    <tr style=\"text-align: right;\">\n",
       "      <th></th>\n",
       "      <th>sepal length (cm)</th>\n",
       "      <th>sepal width (cm)</th>\n",
       "      <th>petal length (cm)</th>\n",
       "      <th>petal width (cm)</th>\n",
       "      <th>target</th>\n",
       "      <th>name</th>\n",
       "    </tr>\n",
       "  </thead>\n",
       "  <tbody>\n",
       "    <tr>\n",
       "      <th>94</th>\n",
       "      <td>5.6</td>\n",
       "      <td>2.7</td>\n",
       "      <td>4.2</td>\n",
       "      <td>1.3</td>\n",
       "      <td>1</td>\n",
       "      <td>versicolor</td>\n",
       "    </tr>\n",
       "    <tr>\n",
       "      <th>73</th>\n",
       "      <td>6.1</td>\n",
       "      <td>2.8</td>\n",
       "      <td>4.7</td>\n",
       "      <td>1.2</td>\n",
       "      <td>1</td>\n",
       "      <td>versicolor</td>\n",
       "    </tr>\n",
       "    <tr>\n",
       "      <th>143</th>\n",
       "      <td>6.8</td>\n",
       "      <td>3.2</td>\n",
       "      <td>5.9</td>\n",
       "      <td>2.3</td>\n",
       "      <td>2</td>\n",
       "      <td>virginica</td>\n",
       "    </tr>\n",
       "    <tr>\n",
       "      <th>117</th>\n",
       "      <td>7.7</td>\n",
       "      <td>3.8</td>\n",
       "      <td>6.7</td>\n",
       "      <td>2.2</td>\n",
       "      <td>2</td>\n",
       "      <td>virginica</td>\n",
       "    </tr>\n",
       "    <tr>\n",
       "      <th>54</th>\n",
       "      <td>6.5</td>\n",
       "      <td>2.8</td>\n",
       "      <td>4.6</td>\n",
       "      <td>1.5</td>\n",
       "      <td>1</td>\n",
       "      <td>versicolor</td>\n",
       "    </tr>\n",
       "    <tr>\n",
       "      <th>...</th>\n",
       "      <td>...</td>\n",
       "      <td>...</td>\n",
       "      <td>...</td>\n",
       "      <td>...</td>\n",
       "      <td>...</td>\n",
       "      <td>...</td>\n",
       "    </tr>\n",
       "    <tr>\n",
       "      <th>40</th>\n",
       "      <td>5.0</td>\n",
       "      <td>3.5</td>\n",
       "      <td>1.3</td>\n",
       "      <td>0.3</td>\n",
       "      <td>0</td>\n",
       "      <td>setosa</td>\n",
       "    </tr>\n",
       "    <tr>\n",
       "      <th>137</th>\n",
       "      <td>6.4</td>\n",
       "      <td>3.1</td>\n",
       "      <td>5.5</td>\n",
       "      <td>1.8</td>\n",
       "      <td>2</td>\n",
       "      <td>virginica</td>\n",
       "    </tr>\n",
       "    <tr>\n",
       "      <th>106</th>\n",
       "      <td>4.9</td>\n",
       "      <td>2.5</td>\n",
       "      <td>4.5</td>\n",
       "      <td>1.7</td>\n",
       "      <td>2</td>\n",
       "      <td>virginica</td>\n",
       "    </tr>\n",
       "    <tr>\n",
       "      <th>51</th>\n",
       "      <td>6.4</td>\n",
       "      <td>3.2</td>\n",
       "      <td>4.5</td>\n",
       "      <td>1.5</td>\n",
       "      <td>1</td>\n",
       "      <td>versicolor</td>\n",
       "    </tr>\n",
       "    <tr>\n",
       "      <th>10</th>\n",
       "      <td>5.4</td>\n",
       "      <td>3.7</td>\n",
       "      <td>1.5</td>\n",
       "      <td>0.2</td>\n",
       "      <td>0</td>\n",
       "      <td>setosa</td>\n",
       "    </tr>\n",
       "  </tbody>\n",
       "</table>\n",
       "<p>150 rows × 6 columns</p>\n",
       "</div>"
      ],
      "text/plain": [
       "     sepal length (cm)  sepal width (cm)  petal length (cm)  petal width (cm)  \\\n",
       "94                 5.6               2.7                4.2               1.3   \n",
       "73                 6.1               2.8                4.7               1.2   \n",
       "143                6.8               3.2                5.9               2.3   \n",
       "117                7.7               3.8                6.7               2.2   \n",
       "54                 6.5               2.8                4.6               1.5   \n",
       "..                 ...               ...                ...               ...   \n",
       "40                 5.0               3.5                1.3               0.3   \n",
       "137                6.4               3.1                5.5               1.8   \n",
       "106                4.9               2.5                4.5               1.7   \n",
       "51                 6.4               3.2                4.5               1.5   \n",
       "10                 5.4               3.7                1.5               0.2   \n",
       "\n",
       "     target        name  \n",
       "94        1  versicolor  \n",
       "73        1  versicolor  \n",
       "143       2   virginica  \n",
       "117       2   virginica  \n",
       "54        1  versicolor  \n",
       "..      ...         ...  \n",
       "40        0      setosa  \n",
       "137       2   virginica  \n",
       "106       2   virginica  \n",
       "51        1  versicolor  \n",
       "10        0      setosa  \n",
       "\n",
       "[150 rows x 6 columns]"
      ]
     },
     "execution_count": 14,
     "metadata": {},
     "output_type": "execute_result"
    }
   ],
   "source": [
    "df_iris = pd.DataFrame(iris.data)\n",
    "\n",
    "df_iris.columns = iris.feature_names\n",
    "df_iris['target'] = iris.target\n",
    "df_iris['name'] = df_iris.target.apply(lambda x : iris.target_names[x])\n",
    "\n",
    "df_iris = df_iris.sample(frac=1)\n",
    "\n",
    "df_iris"
   ]
  },
  {
   "cell_type": "code",
   "execution_count": 15,
   "metadata": {},
   "outputs": [],
   "source": [
    "feature_names = [iris.feature_names]  # Сюда буду складывать имена признаком для дальнейшей оценки"
   ]
  },
  {
   "cell_type": "code",
   "execution_count": 16,
   "metadata": {},
   "outputs": [],
   "source": [
    "A = iris.data"
   ]
  },
  {
   "cell_type": "markdown",
   "metadata": {},
   "source": [
    "#### Разложим матрицу A, используя сингулярное разложение"
   ]
  },
  {
   "cell_type": "code",
   "execution_count": 17,
   "metadata": {},
   "outputs": [],
   "source": [
    "U, d, V_T = np.linalg.svd(A)\n",
    "\n",
    "V = V_T.T\n",
    "\n",
    "D = np.zeros_like(A, dtype=float)\n",
    "D[np.diag_indices(min(A.shape))] = d"
   ]
  },
  {
   "cell_type": "code",
   "execution_count": 18,
   "metadata": {},
   "outputs": [
    {
     "name": "stdout",
     "output_type": "stream",
     "text": [
      "[[-0.06  0.13  0.   ... -0.09 -0.1  -0.08]\n",
      " [-0.06  0.11  0.07 ...  0.04 -0.03  0.01]\n",
      " [-0.06  0.12  0.   ...  0.03  0.2   0.14]\n",
      " ...\n",
      " [-0.09 -0.05 -0.04 ...  0.98 -0.02 -0.01]\n",
      " [-0.09 -0.06 -0.21 ... -0.02  0.94 -0.03]\n",
      " [-0.09 -0.05 -0.1  ... -0.01 -0.03  0.97]]\n"
     ]
    }
   ],
   "source": [
    "print(U)\n",
    "# Матрица U"
   ]
  },
  {
   "cell_type": "code",
   "execution_count": 19,
   "metadata": {},
   "outputs": [
    {
     "name": "stdout",
     "output_type": "stream",
     "text": [
      "[[95.96  0.    0.    0.  ]\n",
      " [ 0.   17.76  0.    0.  ]\n",
      " [ 0.    0.    3.46  0.  ]\n",
      " [ 0.    0.    0.    1.88]\n",
      " [ 0.    0.    0.    0.  ]]\n"
     ]
    }
   ],
   "source": [
    "print(D[:5])\n",
    "# 5 строк матрицы D"
   ]
  },
  {
   "cell_type": "code",
   "execution_count": 20,
   "metadata": {},
   "outputs": [
    {
     "name": "stdout",
     "output_type": "stream",
     "text": [
      "[[-0.75  0.28  0.5   0.32]\n",
      " [-0.38  0.55 -0.68 -0.32]\n",
      " [-0.51 -0.71 -0.06 -0.48]\n",
      " [-0.17 -0.34 -0.54  0.75]]\n"
     ]
    }
   ],
   "source": [
    "print(V)\n",
    "# Матрица V"
   ]
  },
  {
   "cell_type": "markdown",
   "metadata": {},
   "source": [
    "#### Понижаем ранг матрицы с данными на 1 с минимальными потерями\n",
    "\n",
    "Для этого зануляем самое мелкое сингулярное число в матрице $D$"
   ]
  },
  {
   "cell_type": "code",
   "execution_count": 21,
   "metadata": {},
   "outputs": [],
   "source": [
    "n = min(D.shape) - 1\n",
    "D[n][n] = 0"
   ]
  },
  {
   "cell_type": "markdown",
   "metadata": {},
   "source": [
    "#### Найдем новые значения признаков"
   ]
  },
  {
   "cell_type": "code",
   "execution_count": 22,
   "metadata": {},
   "outputs": [
    {
     "name": "stdout",
     "output_type": "stream",
     "text": [
      "[[5.1  3.5  1.4  0.2 ]\n",
      " [4.87 3.03 1.45 0.13]\n",
      " [4.69 3.21 1.31 0.19]\n",
      " ...\n",
      " [6.46 3.04 5.27 1.9 ]\n",
      " [6.19 3.41 5.42 2.27]\n",
      " [5.95 2.95 5.02 1.92]]\n"
     ]
    }
   ],
   "source": [
    "A_1 = U @ D @ V_T\n",
    "print(A_1)\n",
    "# Матрица A с рангом, пониженным с минимальными потерями"
   ]
  },
  {
   "cell_type": "markdown",
   "metadata": {},
   "source": [
    "#### Найдем матрицу перехода к новому базису $V$ вторым способом, используя выражение\n",
    "\n",
    "$$A^{T}AV=VD^{2}.$$"
   ]
  },
  {
   "cell_type": "code",
   "execution_count": 23,
   "metadata": {},
   "outputs": [],
   "source": [
    "A_T_A = A.T @ A"
   ]
  },
  {
   "cell_type": "code",
   "execution_count": 24,
   "metadata": {},
   "outputs": [
    {
     "name": "stdout",
     "output_type": "stream",
     "text": [
      "[[5223.85 2673.43 3483.76 1128.14]\n",
      " [2673.43 1430.4  1674.3   531.89]\n",
      " [3483.76 1674.3  2582.71  869.11]\n",
      " [1128.14  531.89  869.11  302.33]]\n"
     ]
    }
   ],
   "source": [
    "print(A_T_A)\n",
    "# Матрица A_T * A"
   ]
  },
  {
   "cell_type": "code",
   "execution_count": 25,
   "metadata": {},
   "outputs": [],
   "source": [
    "U2, d2, V2_T = np.linalg.svd(A_T_A)\n",
    "\n",
    "V2 = V2_T.T\n",
    "\n",
    "D2 = np.zeros_like(A_T_A, dtype=float)\n",
    "D2[np.diag_indices(min(A_T_A.shape))] = d2"
   ]
  },
  {
   "cell_type": "code",
   "execution_count": 26,
   "metadata": {},
   "outputs": [
    {
     "name": "stdout",
     "output_type": "stream",
     "text": [
      "[[-0.75 -0.28  0.5   0.32]\n",
      " [-0.38 -0.55 -0.68 -0.32]\n",
      " [-0.51  0.71 -0.06 -0.48]\n",
      " [-0.17  0.34 -0.54  0.75]]\n"
     ]
    }
   ],
   "source": [
    "print(U2)\n",
    "# Матрица U из разложения матрицы A_T * A"
   ]
  },
  {
   "cell_type": "code",
   "execution_count": 27,
   "metadata": {},
   "outputs": [
    {
     "name": "stdout",
     "output_type": "stream",
     "text": [
      "[[9208.31    0.      0.      0.  ]\n",
      " [   0.    315.45    0.      0.  ]\n",
      " [   0.      0.     11.98    0.  ]\n",
      " [   0.      0.      0.      3.55]]\n"
     ]
    }
   ],
   "source": [
    "print(D2)\n",
    "# Матрица D из разложения матрицы A_T * A"
   ]
  },
  {
   "cell_type": "code",
   "execution_count": 28,
   "metadata": {},
   "outputs": [
    {
     "name": "stdout",
     "output_type": "stream",
     "text": [
      "[[-0.75 -0.28  0.5   0.32]\n",
      " [-0.38 -0.55 -0.68 -0.32]\n",
      " [-0.51  0.71 -0.06 -0.48]\n",
      " [-0.17  0.34 -0.54  0.75]]\n"
     ]
    }
   ],
   "source": [
    "print(V2)\n",
    "# Матрица D из разложения матрицы A_T * A"
   ]
  },
  {
   "cell_type": "markdown",
   "metadata": {},
   "source": [
    "#### Переведем новые значения признаков после оптимизации к новому базису\n",
    "\n",
    "Один из признаков должен занулиться.\n",
    "\n",
    "Матрица перехода к новому базису это $V$, матрица правых сингулярных векторов из SVD разложения $A$ или $V$ из SVD разложения $A^{T}A$."
   ]
  },
  {
   "cell_type": "code",
   "execution_count": 29,
   "metadata": {},
   "outputs": [
    {
     "name": "stdout",
     "output_type": "stream",
     "text": [
      "[[-5.91  2.3   0.01 -0.  ]\n",
      " [-5.57  1.97  0.24 -0.  ]\n",
      " [-5.45  2.1   0.02 -0.  ]\n",
      " ...\n",
      " [-9.03 -0.89 -0.14 -0.  ]\n",
      " [-9.11 -1.   -0.74 -0.  ]\n",
      " [-8.49 -0.92 -0.33 -0.  ]]\n"
     ]
    }
   ],
   "source": [
    "print(A_1 @ V)"
   ]
  },
  {
   "cell_type": "markdown",
   "metadata": {},
   "source": [
    "#### Избавимся также и от двух признаков для сравнения"
   ]
  },
  {
   "cell_type": "code",
   "execution_count": 30,
   "metadata": {},
   "outputs": [
    {
     "name": "stdout",
     "output_type": "stream",
     "text": [
      "[[95.96  0.    0.    0.  ]\n",
      " [ 0.   17.76  0.    0.  ]\n",
      " [ 0.    0.    0.    0.  ]\n",
      " [ 0.    0.    0.    0.  ]]\n"
     ]
    }
   ],
   "source": [
    "D[n - 1][n - 1] = 0\n",
    "print(D[:4])"
   ]
  },
  {
   "cell_type": "code",
   "execution_count": 31,
   "metadata": {},
   "outputs": [
    {
     "name": "stdout",
     "output_type": "stream",
     "text": [
      "[[5.1  3.51 1.4  0.2 ]\n",
      " [4.75 3.2  1.46 0.26]\n",
      " [4.69 3.22 1.31 0.19]\n",
      " ...\n",
      " [6.53 2.95 5.26 1.82]\n",
      " [6.56 2.92 5.38 1.87]\n",
      " [6.12 2.73 5.   1.74]]\n"
     ]
    }
   ],
   "source": [
    "A_2 = U @ D @ V_T\n",
    "print(A_2)"
   ]
  },
  {
   "cell_type": "code",
   "execution_count": 32,
   "metadata": {},
   "outputs": [
    {
     "name": "stdout",
     "output_type": "stream",
     "text": [
      "[[-5.91  2.3  -0.   -0.  ]\n",
      " [-5.57  1.97 -0.   -0.  ]\n",
      " [-5.45  2.1  -0.   -0.  ]\n",
      " ...\n",
      " [-9.03 -0.89 -0.   -0.  ]\n",
      " [-9.11 -1.   -0.   -0.  ]\n",
      " [-8.49 -0.92 -0.   -0.  ]]\n"
     ]
    }
   ],
   "source": [
    "print(A_2 @ V)"
   ]
  },
  {
   "cell_type": "markdown",
   "metadata": {},
   "source": [
    "#### Сформируем новый датасет из трех новых признаков и также из двух"
   ]
  },
  {
   "cell_type": "code",
   "execution_count": 33,
   "metadata": {},
   "outputs": [
    {
     "data": {
      "text/plain": [
       "array([[-5.91,  2.3 ,  0.01],\n",
       "       [-5.57,  1.97,  0.24],\n",
       "       [-5.45,  2.1 ,  0.02],\n",
       "       ...,\n",
       "       [-9.03, -0.89, -0.14],\n",
       "       [-9.11, -1.  , -0.74],\n",
       "       [-8.49, -0.92, -0.33]])"
      ]
     },
     "execution_count": 33,
     "metadata": {},
     "output_type": "execute_result"
    }
   ],
   "source": [
    "np.delete(A_1 @ V, 3, axis=1)"
   ]
  },
  {
   "cell_type": "code",
   "execution_count": 34,
   "metadata": {},
   "outputs": [],
   "source": [
    "new_features_1 = []\n",
    "for i in range(3):\n",
    "    new_features_1.append(f'Feature {i}')\n",
    "feature_names.append(new_features_1)\n",
    "    \n",
    "df_iris_1 = pd.DataFrame(np.delete(A_1 @ V, 3, 1), columns=new_features_1)\n",
    "df_iris_1['target'] = df_iris['target']\n",
    "df_iris_1['name'] = df_iris_1.target.apply(lambda x : iris.target_names[x])"
   ]
  },
  {
   "cell_type": "code",
   "execution_count": 35,
   "metadata": {},
   "outputs": [
    {
     "data": {
      "text/html": [
       "<div>\n",
       "<style scoped>\n",
       "    .dataframe tbody tr th:only-of-type {\n",
       "        vertical-align: middle;\n",
       "    }\n",
       "\n",
       "    .dataframe tbody tr th {\n",
       "        vertical-align: top;\n",
       "    }\n",
       "\n",
       "    .dataframe thead th {\n",
       "        text-align: right;\n",
       "    }\n",
       "</style>\n",
       "<table border=\"1\" class=\"dataframe\">\n",
       "  <thead>\n",
       "    <tr style=\"text-align: right;\">\n",
       "      <th></th>\n",
       "      <th>Feature 0</th>\n",
       "      <th>Feature 1</th>\n",
       "      <th>Feature 2</th>\n",
       "      <th>target</th>\n",
       "      <th>name</th>\n",
       "    </tr>\n",
       "  </thead>\n",
       "  <tbody>\n",
       "    <tr>\n",
       "      <th>0</th>\n",
       "      <td>-5.912747</td>\n",
       "      <td>2.302033</td>\n",
       "      <td>0.007402</td>\n",
       "      <td>0</td>\n",
       "      <td>setosa</td>\n",
       "    </tr>\n",
       "    <tr>\n",
       "      <th>1</th>\n",
       "      <td>-5.572482</td>\n",
       "      <td>1.971826</td>\n",
       "      <td>0.244592</td>\n",
       "      <td>0</td>\n",
       "      <td>setosa</td>\n",
       "    </tr>\n",
       "    <tr>\n",
       "      <th>2</th>\n",
       "      <td>-5.446977</td>\n",
       "      <td>2.095206</td>\n",
       "      <td>0.015029</td>\n",
       "      <td>0</td>\n",
       "      <td>setosa</td>\n",
       "    </tr>\n",
       "    <tr>\n",
       "      <th>3</th>\n",
       "      <td>-5.436459</td>\n",
       "      <td>1.870382</td>\n",
       "      <td>0.020505</td>\n",
       "      <td>0</td>\n",
       "      <td>setosa</td>\n",
       "    </tr>\n",
       "    <tr>\n",
       "      <th>4</th>\n",
       "      <td>-5.875645</td>\n",
       "      <td>2.328290</td>\n",
       "      <td>-0.110338</td>\n",
       "      <td>0</td>\n",
       "      <td>setosa</td>\n",
       "    </tr>\n",
       "    <tr>\n",
       "      <th>...</th>\n",
       "      <td>...</td>\n",
       "      <td>...</td>\n",
       "      <td>...</td>\n",
       "      <td>...</td>\n",
       "      <td>...</td>\n",
       "    </tr>\n",
       "    <tr>\n",
       "      <th>145</th>\n",
       "      <td>-9.226517</td>\n",
       "      <td>-0.931293</td>\n",
       "      <td>-0.204095</td>\n",
       "      <td>2</td>\n",
       "      <td>virginica</td>\n",
       "    </tr>\n",
       "    <tr>\n",
       "      <th>146</th>\n",
       "      <td>-8.566265</td>\n",
       "      <td>-1.039134</td>\n",
       "      <td>0.159305</td>\n",
       "      <td>2</td>\n",
       "      <td>virginica</td>\n",
       "    </tr>\n",
       "    <tr>\n",
       "      <th>147</th>\n",
       "      <td>-9.025923</td>\n",
       "      <td>-0.885027</td>\n",
       "      <td>-0.143421</td>\n",
       "      <td>2</td>\n",
       "      <td>virginica</td>\n",
       "    </tr>\n",
       "    <tr>\n",
       "      <th>148</th>\n",
       "      <td>-9.105599</td>\n",
       "      <td>-0.996416</td>\n",
       "      <td>-0.737103</td>\n",
       "      <td>2</td>\n",
       "      <td>virginica</td>\n",
       "    </tr>\n",
       "    <tr>\n",
       "      <th>149</th>\n",
       "      <td>-8.490375</td>\n",
       "      <td>-0.915931</td>\n",
       "      <td>-0.331394</td>\n",
       "      <td>2</td>\n",
       "      <td>virginica</td>\n",
       "    </tr>\n",
       "  </tbody>\n",
       "</table>\n",
       "<p>150 rows × 5 columns</p>\n",
       "</div>"
      ],
      "text/plain": [
       "     Feature 0  Feature 1  Feature 2  target       name\n",
       "0    -5.912747   2.302033   0.007402       0     setosa\n",
       "1    -5.572482   1.971826   0.244592       0     setosa\n",
       "2    -5.446977   2.095206   0.015029       0     setosa\n",
       "3    -5.436459   1.870382   0.020505       0     setosa\n",
       "4    -5.875645   2.328290  -0.110338       0     setosa\n",
       "..         ...        ...        ...     ...        ...\n",
       "145  -9.226517  -0.931293  -0.204095       2  virginica\n",
       "146  -8.566265  -1.039134   0.159305       2  virginica\n",
       "147  -9.025923  -0.885027  -0.143421       2  virginica\n",
       "148  -9.105599  -0.996416  -0.737103       2  virginica\n",
       "149  -8.490375  -0.915931  -0.331394       2  virginica\n",
       "\n",
       "[150 rows x 5 columns]"
      ]
     },
     "execution_count": 35,
     "metadata": {},
     "output_type": "execute_result"
    }
   ],
   "source": [
    "df_iris_1"
   ]
  },
  {
   "cell_type": "code",
   "execution_count": 36,
   "metadata": {},
   "outputs": [
    {
     "data": {
      "text/plain": [
       "array([[-5.91,  2.3 ],\n",
       "       [-5.57,  1.97],\n",
       "       [-5.45,  2.1 ],\n",
       "       ...,\n",
       "       [-9.03, -0.89],\n",
       "       [-9.11, -1.  ],\n",
       "       [-8.49, -0.92]])"
      ]
     },
     "execution_count": 36,
     "metadata": {},
     "output_type": "execute_result"
    }
   ],
   "source": [
    "np.delete(A_2 @ V, [2, 3], axis=1)"
   ]
  },
  {
   "cell_type": "code",
   "execution_count": 37,
   "metadata": {},
   "outputs": [],
   "source": [
    "new_features_2 = new_features_1[:2]\n",
    "feature_names.append(new_features_2)\n",
    "\n",
    "df_iris_2 = pd.DataFrame(np.delete(A_2 @ V, [2, 3], axis=1), columns=new_features_2)\n",
    "df_iris_2['target'] = df_iris['target']\n",
    "df_iris_2['name'] = df_iris_2.target.apply(lambda x : iris.target_names[x])"
   ]
  },
  {
   "cell_type": "code",
   "execution_count": 38,
   "metadata": {},
   "outputs": [
    {
     "data": {
      "text/html": [
       "<div>\n",
       "<style scoped>\n",
       "    .dataframe tbody tr th:only-of-type {\n",
       "        vertical-align: middle;\n",
       "    }\n",
       "\n",
       "    .dataframe tbody tr th {\n",
       "        vertical-align: top;\n",
       "    }\n",
       "\n",
       "    .dataframe thead th {\n",
       "        text-align: right;\n",
       "    }\n",
       "</style>\n",
       "<table border=\"1\" class=\"dataframe\">\n",
       "  <thead>\n",
       "    <tr style=\"text-align: right;\">\n",
       "      <th></th>\n",
       "      <th>Feature 0</th>\n",
       "      <th>Feature 1</th>\n",
       "      <th>target</th>\n",
       "      <th>name</th>\n",
       "    </tr>\n",
       "  </thead>\n",
       "  <tbody>\n",
       "    <tr>\n",
       "      <th>0</th>\n",
       "      <td>-5.912747</td>\n",
       "      <td>2.302033</td>\n",
       "      <td>0</td>\n",
       "      <td>setosa</td>\n",
       "    </tr>\n",
       "    <tr>\n",
       "      <th>1</th>\n",
       "      <td>-5.572482</td>\n",
       "      <td>1.971826</td>\n",
       "      <td>0</td>\n",
       "      <td>setosa</td>\n",
       "    </tr>\n",
       "    <tr>\n",
       "      <th>2</th>\n",
       "      <td>-5.446977</td>\n",
       "      <td>2.095206</td>\n",
       "      <td>0</td>\n",
       "      <td>setosa</td>\n",
       "    </tr>\n",
       "    <tr>\n",
       "      <th>3</th>\n",
       "      <td>-5.436459</td>\n",
       "      <td>1.870382</td>\n",
       "      <td>0</td>\n",
       "      <td>setosa</td>\n",
       "    </tr>\n",
       "    <tr>\n",
       "      <th>4</th>\n",
       "      <td>-5.875645</td>\n",
       "      <td>2.328290</td>\n",
       "      <td>0</td>\n",
       "      <td>setosa</td>\n",
       "    </tr>\n",
       "    <tr>\n",
       "      <th>...</th>\n",
       "      <td>...</td>\n",
       "      <td>...</td>\n",
       "      <td>...</td>\n",
       "      <td>...</td>\n",
       "    </tr>\n",
       "    <tr>\n",
       "      <th>145</th>\n",
       "      <td>-9.226517</td>\n",
       "      <td>-0.931293</td>\n",
       "      <td>2</td>\n",
       "      <td>virginica</td>\n",
       "    </tr>\n",
       "    <tr>\n",
       "      <th>146</th>\n",
       "      <td>-8.566265</td>\n",
       "      <td>-1.039134</td>\n",
       "      <td>2</td>\n",
       "      <td>virginica</td>\n",
       "    </tr>\n",
       "    <tr>\n",
       "      <th>147</th>\n",
       "      <td>-9.025923</td>\n",
       "      <td>-0.885027</td>\n",
       "      <td>2</td>\n",
       "      <td>virginica</td>\n",
       "    </tr>\n",
       "    <tr>\n",
       "      <th>148</th>\n",
       "      <td>-9.105599</td>\n",
       "      <td>-0.996416</td>\n",
       "      <td>2</td>\n",
       "      <td>virginica</td>\n",
       "    </tr>\n",
       "    <tr>\n",
       "      <th>149</th>\n",
       "      <td>-8.490375</td>\n",
       "      <td>-0.915931</td>\n",
       "      <td>2</td>\n",
       "      <td>virginica</td>\n",
       "    </tr>\n",
       "  </tbody>\n",
       "</table>\n",
       "<p>150 rows × 4 columns</p>\n",
       "</div>"
      ],
      "text/plain": [
       "     Feature 0  Feature 1  target       name\n",
       "0    -5.912747   2.302033       0     setosa\n",
       "1    -5.572482   1.971826       0     setosa\n",
       "2    -5.446977   2.095206       0     setosa\n",
       "3    -5.436459   1.870382       0     setosa\n",
       "4    -5.875645   2.328290       0     setosa\n",
       "..         ...        ...     ...        ...\n",
       "145  -9.226517  -0.931293       2  virginica\n",
       "146  -8.566265  -1.039134       2  virginica\n",
       "147  -9.025923  -0.885027       2  virginica\n",
       "148  -9.105599  -0.996416       2  virginica\n",
       "149  -8.490375  -0.915931       2  virginica\n",
       "\n",
       "[150 rows x 4 columns]"
      ]
     },
     "execution_count": 38,
     "metadata": {},
     "output_type": "execute_result"
    }
   ],
   "source": [
    "df_iris_2"
   ]
  },
  {
   "cell_type": "markdown",
   "metadata": {},
   "source": [
    "#### Посмотрим на матрицы корреляций "
   ]
  },
  {
   "cell_type": "code",
   "execution_count": 39,
   "metadata": {},
   "outputs": [
    {
     "data": {
      "image/png": "[encoded data removed]",
      "text/plain": [
       "<Figure size 1080x288 with 6 Axes>"
      ]
     },
     "metadata": {
      "needs_background": "light"
     },
     "output_type": "display_data"
    }
   ],
   "source": [
    "corr = df_iris[iris.feature_names].corr()\n",
    "corr_1 = df_iris_1[new_features_1].corr()\n",
    "corr_2 = df_iris_2[new_features_2].corr()\n",
    "\n",
    "fig, ax = plt.subplots(1, 3, figsize=(15, 4))\n",
    "\n",
    "sns.heatmap(corr, annot=True, ax=ax[0], vmin=-1, vmax=1)\n",
    "sns.heatmap(corr_1, annot=True, ax=ax[1], vmin=-1, vmax=1)\n",
    "sns.heatmap(corr_2, annot=True, ax=ax[2], vmin=-1, vmax=1)\n",
    "\n",
    "plt.show()"
   ]
  },
  {
   "cell_type": "markdown",
   "metadata": {},
   "source": [
    "#### Узнаем потерю точности"
   ]
  },
  {
   "cell_type": "code",
   "execution_count": 40,
   "metadata": {},
   "outputs": [],
   "source": [
    "model = KMeans(n_clusters=3)\n",
    "\n",
    "scaler = StandardScaler()"
   ]
  },
  {
   "cell_type": "code",
   "execution_count": 41,
   "metadata": {},
   "outputs": [
    {
     "data": {
      "image/png": "[encoded data removed]",
      "text/plain": [
       "<Figure size 1152x230.4 with 4 Axes>"
      ]
     },
     "metadata": {
      "needs_background": "light"
     },
     "output_type": "display_data"
    }
   ],
   "source": [
    "scores = []\n",
    "\n",
    "my_metrics = {'ARI': metrics.adjusted_rand_score, \n",
    "              'AMI': metrics.adjusted_mutual_info_score, \n",
    "              'Homogenity': metrics.homogeneity_score,\n",
    "              'Completeness': metrics.completeness_score,\n",
    "              'V-measure': metrics.v_measure_score\n",
    "             }\n",
    "\n",
    "fig = plt.figure(figsize=plt.figaspect(0.2))\n",
    "\n",
    "for i, df in enumerate([df_iris, df_iris_1, df_iris_2]):\n",
    "    X = df[feature_names[i]]\n",
    "    y = df['target']\n",
    "\n",
    "    X_train, X_test, y_train, y_test = train_test_split(X, y, test_size=0.3, random_state=42)\n",
    "\n",
    "    X_train_scaled = pd.DataFrame(scaler.fit_transform(X_train), columns=X_train.columns)\n",
    "    X_test_scaled = pd.DataFrame(scaler.transform(X_test), columns=X_test.columns)\n",
    "\n",
    "    if i == 0:\n",
    "        tsne_3 = TSNE(n_components=3, learning_rate=250, random_state=10)\n",
    "        X_train_tsne_3 = tsne_3.fit_transform(X_test_scaled)\n",
    "        \n",
    "        ax = fig.add_subplot(1, 4, 1, projection='3d')\n",
    "        ax.scatter(X_train_tsne_3[:, 0], X_train_tsne_3[:, 1], X_train_tsne_3[:, 2], c=y[-45:], s=60)\n",
    "    \n",
    "    model.fit(X_train_scaled)\n",
    "\n",
    "    y_pred = model.predict(X_test_scaled)\n",
    "\n",
    "    temp_dict = {}\n",
    "    for metric in my_metrics:\n",
    "        temp_dict[metric] = my_metrics[metric](y_pred, y_test)\n",
    "\n",
    "    scores.append(temp_dict)\n",
    "    \n",
    "    ax = fig.add_subplot(1, 4, i + 2, projection='3d')\n",
    "    ax.scatter(X_train_tsne_3[:, 0], X_train_tsne_3[:, 1], X_train_tsne_3[:, 2], c=y_pred, s=60)\n",
    "    \n",
    "    \n",
    "results = pd.DataFrame(data=scores, columns=my_metrics.keys(), index=['Original', '3 features', '2 features'])"
   ]
  },
  {
   "cell_type": "code",
   "execution_count": 43,
   "metadata": {},
   "outputs": [
    {
     "data": {
      "text/html": [
       "<div>\n",
       "<style scoped>\n",
       "    .dataframe tbody tr th:only-of-type {\n",
       "        vertical-align: middle;\n",
       "    }\n",
       "\n",
       "    .dataframe tbody tr th {\n",
       "        vertical-align: top;\n",
       "    }\n",
       "\n",
       "    .dataframe thead th {\n",
       "        text-align: right;\n",
       "    }\n",
       "</style>\n",
       "<table border=\"1\" class=\"dataframe\">\n",
       "  <thead>\n",
       "    <tr style=\"text-align: right;\">\n",
       "      <th></th>\n",
       "      <th>ARI</th>\n",
       "      <th>AMI</th>\n",
       "      <th>Homogenity</th>\n",
       "      <th>Completeness</th>\n",
       "      <th>V-measure</th>\n",
       "    </tr>\n",
       "  </thead>\n",
       "  <tbody>\n",
       "    <tr>\n",
       "      <th>Original</th>\n",
       "      <td>0.587005</td>\n",
       "      <td>0.635684</td>\n",
       "      <td>0.649500</td>\n",
       "      <td>0.654455</td>\n",
       "      <td>0.651968</td>\n",
       "    </tr>\n",
       "    <tr>\n",
       "      <th>3 features</th>\n",
       "      <td>0.760450</td>\n",
       "      <td>0.727948</td>\n",
       "      <td>0.740607</td>\n",
       "      <td>0.739435</td>\n",
       "      <td>0.740021</td>\n",
       "    </tr>\n",
       "    <tr>\n",
       "      <th>2 features</th>\n",
       "      <td>0.843550</td>\n",
       "      <td>0.840248</td>\n",
       "      <td>0.853598</td>\n",
       "      <td>0.841345</td>\n",
       "      <td>0.847427</td>\n",
       "    </tr>\n",
       "  </tbody>\n",
       "</table>\n",
       "</div>"
      ],
      "text/plain": [
       "                 ARI       AMI  Homogenity  Completeness  V-measure\n",
       "Original    0.587005  0.635684    0.649500      0.654455   0.651968\n",
       "3 features  0.760450  0.727948    0.740607      0.739435   0.740021\n",
       "2 features  0.843550  0.840248    0.853598      0.841345   0.847427"
      ]
     },
     "execution_count": 43,
     "metadata": {},
     "output_type": "execute_result"
    }
   ],
   "source": [
    "results"
   ]
  },
  {
   "cell_type": "markdown",
   "metadata": {},
   "source": [
    "Странно, но почему-то при удалении признаков оценка улучшается. Хотелось бы понять почему..."
   ]
  }
 ],
 "metadata": {
  "kernelspec": {
   "display_name": "Python 3",
   "language": "python",
   "name": "python3"
  },
  "language_info": {
   "codemirror_mode": {
    "name": "ipython",
    "version": 3
   },
   "file_extension": ".py",
   "mimetype": "text/x-python",
   "name": "python",
   "nbconvert_exporter": "python",
   "pygments_lexer": "ipython3",
   "version": "3.7.5"
  }
 },
 "nbformat": 4,
 "nbformat_minor": 2
}
