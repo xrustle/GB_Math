{
 "cells": [
  {
   "cell_type": "markdown",
   "metadata": {},
   "source": [
    "# Описательная статистика. Качественные и количественные характеристики популяции.Графическое представление данных\n",
    "### Задача 1\n",
    "\n",
    "Даны значения зарплат из выборки выпускников:\n",
    "\n",
    "`100, 80, 75, 77, 89, 33, 45, 25, 65, 17, 30, 230, 24, 57, 55, 70, 75, 65, 84, 90, 150`\n",
    "\n",
    "Своими руками (т.е. без использования статистических функций вроде `mean`, `std`, `var`) посчитать среднее арифметическое, смещённую и несмещённую оценки дисперсии, среднее квадратичное отклонение для данной выборки.\n",
    "\n",
    "Можно затем посчитать те же значения с использованием статистических функций, чтобы проверить себя."
   ]
  },
  {
   "cell_type": "markdown",
   "metadata": {},
   "source": [
    "#### Решение\n",
    "\n",
    "$\\overline{x} = \\dfrac{1}{n} \\displaystyle\\sum_{i = 1}^{n} x_i$ — среднее арифметическое"
   ]
  },
  {
   "cell_type": "code",
   "execution_count": 1,
   "metadata": {},
   "outputs": [
    {
     "name": "stdout",
     "output_type": "stream",
     "text": [
      "Среднее арифметическое = 73.14285714285714\n"
     ]
    }
   ],
   "source": [
    "import numpy as np\n",
    "import pandas as pd\n",
    "from matplotlib import pyplot as plt\n",
    "\n",
    "x = np.array([100, 80, 75, 77, 89, 33, 45, 25, 65, 17, 30, 230, 24, 57, 55, 70, 75, 65, 84, 90, 150])\n",
    "\n",
    "x_mean = sum(x)/len(x)\n",
    "print('Среднее арифметическое = {}'.format(x_mean))"
   ]
  },
  {
   "cell_type": "markdown",
   "metadata": {},
   "source": [
    "$\\sigma^2 = \\dfrac{1}{n} \\displaystyle\\sum_{i = 1}^{n} \\left( x_i - \\overline{x} \\right)^2$ — смещенная оценка дисперсии"
   ]
  },
  {
   "cell_type": "code",
   "execution_count": 2,
   "metadata": {},
   "outputs": [
    {
     "name": "stdout",
     "output_type": "stream",
     "text": [
      "Смещенная оценка дисперсии = 2135.074829931973\n"
     ]
    }
   ],
   "source": [
    "print('Смещенная оценка дисперсии = {}'.format(sum((x - x_mean)**2 / len(x))))"
   ]
  },
  {
   "cell_type": "markdown",
   "metadata": {},
   "source": [
    "$\\sigma^2_{unbiased}  = \\dfrac{1}{n - 1} \\displaystyle\\sum_{i = 1}^{n} \\left( x_i - \\overline{x} \\right)^2$ — несмещенная оценка дисперсии"
   ]
  },
  {
   "cell_type": "code",
   "execution_count": 3,
   "metadata": {},
   "outputs": [
    {
     "name": "stdout",
     "output_type": "stream",
     "text": [
      "Несмещенная оценка дисперсии = 2241.8285714285716\n"
     ]
    }
   ],
   "source": [
    "print('Несмещенная оценка дисперсии = {}'.format(sum((x - x_mean)**2 / (len(x) - 1))))"
   ]
  },
  {
   "cell_type": "markdown",
   "metadata": {},
   "source": [
    "$\\sigma =  \\sqrt{\\dfrac{1}{n} \\displaystyle\\sum_{i = 1}^{n} \\left( x_i - \\overline{x} \\right)^2}$ — смещенное среднее квадратическое отклонение"
   ]
  },
  {
   "cell_type": "code",
   "execution_count": 4,
   "metadata": {},
   "outputs": [
    {
     "name": "stdout",
     "output_type": "stream",
     "text": [
      "Смещенное среднее квадратическое отклонение = 46.20686994302874\n"
     ]
    }
   ],
   "source": [
    "print('Смещенное среднее квадратическое отклонение = {}'.format(np.sqrt(sum((x - x_mean)**2 / len(x)))))"
   ]
  },
  {
   "cell_type": "markdown",
   "metadata": {},
   "source": [
    "$\\sigma_{unbiased} = \\sqrt{\\dfrac{1}{n - 1} \\displaystyle\\sum_{i = 1}^{n} \\left( x_i - \\overline{x} \\right)^2}$ — несмещенное среднее квадратическое отклонение"
   ]
  },
  {
   "cell_type": "code",
   "execution_count": 5,
   "metadata": {},
   "outputs": [
    {
     "name": "stdout",
     "output_type": "stream",
     "text": [
      "Несмещенное среднее квадратическое отклонение = 47.34795213553139\n"
     ]
    }
   ],
   "source": [
    "print('Несмещенное среднее квадратическое отклонение = {}'.format(np.sqrt(sum((x - x_mean)**2 / (len(x) - 1)))))"
   ]
  },
  {
   "cell_type": "markdown",
   "metadata": {},
   "source": [
    "#### Проверка\n",
    "\n"
   ]
  },
  {
   "cell_type": "code",
   "execution_count": 6,
   "metadata": {},
   "outputs": [
    {
     "data": {
      "text/plain": [
       "73.14285714285714"
      ]
     },
     "execution_count": 6,
     "metadata": {},
     "output_type": "execute_result"
    }
   ],
   "source": [
    "x.mean()"
   ]
  },
  {
   "cell_type": "code",
   "execution_count": 7,
   "metadata": {},
   "outputs": [
    {
     "data": {
      "text/plain": [
       "2135.0748299319725"
      ]
     },
     "execution_count": 7,
     "metadata": {},
     "output_type": "execute_result"
    }
   ],
   "source": [
    "x.var()"
   ]
  },
  {
   "cell_type": "code",
   "execution_count": 8,
   "metadata": {},
   "outputs": [
    {
     "data": {
      "text/plain": [
       "2241.828571428571"
      ]
     },
     "execution_count": 8,
     "metadata": {},
     "output_type": "execute_result"
    }
   ],
   "source": [
    "x.var(ddof=1)"
   ]
  },
  {
   "cell_type": "code",
   "execution_count": 9,
   "metadata": {},
   "outputs": [
    {
     "data": {
      "text/plain": [
       "46.206869943028735"
      ]
     },
     "execution_count": 9,
     "metadata": {},
     "output_type": "execute_result"
    }
   ],
   "source": [
    "x.std()"
   ]
  },
  {
   "cell_type": "code",
   "execution_count": 10,
   "metadata": {},
   "outputs": [
    {
     "data": {
      "text/plain": [
       "47.347952135531386"
      ]
     },
     "execution_count": 10,
     "metadata": {},
     "output_type": "execute_result"
    }
   ],
   "source": [
    "x.std(ddof=1)"
   ]
  },
  {
   "cell_type": "markdown",
   "metadata": {},
   "source": [
    "### Задача 2\n",
    "\n",
    "Для выборки из задачи 1 найти (также без использования статистических функций) медиану, первый и третий квартили, интерквартильное расстояние. Найти выбросы в выборке, используя для этого \"усы\" из `boxplot`.\n",
    "\n",
    "В этой задаче неоднозначности в вычислении квантилей можно разрешать любым способом."
   ]
  },
  {
   "cell_type": "code",
   "execution_count": 11,
   "metadata": {},
   "outputs": [
    {
     "name": "stdout",
     "output_type": "stream",
     "text": [
      "17 24 25 30 33 45 55 57 65 65 70 75 75 77 80 84 89 90 100 150 230\n"
     ]
    }
   ],
   "source": [
    "x.sort()\n",
    "print(*x)"
   ]
  },
  {
   "cell_type": "code",
   "execution_count": 12,
   "metadata": {},
   "outputs": [
    {
     "name": "stdout",
     "output_type": "stream",
     "text": [
      "Количество элементов в выборке = 21\n"
     ]
    }
   ],
   "source": [
    "l = len(x)\n",
    "print(f'Количество элементов в выборке = {l}')"
   ]
  },
  {
   "cell_type": "code",
   "execution_count": 13,
   "metadata": {},
   "outputs": [
    {
     "name": "stdout",
     "output_type": "stream",
     "text": [
      "Медиана = 70\n"
     ]
    }
   ],
   "source": [
    "print(f'Медиана = {x[l // 2]}')"
   ]
  },
  {
   "cell_type": "code",
   "execution_count": 14,
   "metadata": {},
   "outputs": [
    {
     "name": "stdout",
     "output_type": "stream",
     "text": [
      "Первый квартиль = 45\n"
     ]
    }
   ],
   "source": [
    "q1 = x[l // 4]\n",
    "print(f'Первый квартиль = {q1}')"
   ]
  },
  {
   "cell_type": "code",
   "execution_count": 15,
   "metadata": {},
   "outputs": [
    {
     "name": "stdout",
     "output_type": "stream",
     "text": [
      "Третий квартиль = 84\n"
     ]
    }
   ],
   "source": [
    "q3 = x[l * 3 // 4]\n",
    "print(f'Третий квартиль = {q3}')"
   ]
  },
  {
   "cell_type": "code",
   "execution_count": 16,
   "metadata": {},
   "outputs": [
    {
     "name": "stdout",
     "output_type": "stream",
     "text": [
      "Интерквартильное расстояние = 39\n"
     ]
    }
   ],
   "source": [
    "iqr = q3 - q1\n",
    "print(f'Интерквартильное расстояние = {iqr}')"
   ]
  },
  {
   "cell_type": "code",
   "execution_count": 17,
   "metadata": {},
   "outputs": [
    {
     "data": {
      "text/plain": [
       "(-13.5, 142.5)"
      ]
     },
     "execution_count": 17,
     "metadata": {},
     "output_type": "execute_result"
    }
   ],
   "source": [
    "q1 - 1.5 * iqr, q3 + 1.5 * iqr"
   ]
  },
  {
   "cell_type": "markdown",
   "metadata": {},
   "source": [
    "Будем сичтать выбросами элементы выборки за пределами отрезка $\\left[ Q1 - 1.5 \\times IQR, \\: Q3 + 1.5 \\times IQR \\right]$, то есть в нашем случае $[-13.5, 142.5]$\n",
    "То есть выбросы - это $150$ и $230$"
   ]
  },
  {
   "cell_type": "markdown",
   "metadata": {},
   "source": [
    "А теперь с помощью `boxplot`"
   ]
  },
  {
   "cell_type": "code",
   "execution_count": 18,
   "metadata": {},
   "outputs": [],
   "source": [
    "df = pd.DataFrame({'x': x})"
   ]
  },
  {
   "cell_type": "code",
   "execution_count": 19,
   "metadata": {},
   "outputs": [
    {
     "data": {
      "image/png": "[encoded data removed]",
      "text/plain": [
       "<Figure size 432x288 with 1 Axes>"
      ]
     },
     "metadata": {
      "needs_background": "light"
     },
     "output_type": "display_data"
    }
   ],
   "source": [
    "df.boxplot();"
   ]
  },
  {
   "cell_type": "markdown",
   "metadata": {},
   "source": [
    "### Задача 3\n",
    "\n",
    "В университет на факультеты `A` и `B` поступило равное количество студентов, а на факультет `C` студентов поступило столько же, сколько на `A` и `B` вместе. Вероятность того, что студент факультета `A` сдаст первую сессию, равна 0.8. Для студента факультета B эта вероятность равна 0.7, а для студента факультета `C` - 0.9. Студент сдал первую сессию. Какова вероятность, что он учится: a) на факультете `A`? б) на факультете `B`? в) на факультете `C`?"
   ]
  },
  {
   "cell_type": "markdown",
   "metadata": {},
   "source": [
    "### Решение\n",
    "Обозначим события.\n",
    "\n",
    "$X$ – студент сдал первую сессию,\n",
    "\n",
    "$A, B, C$ – студент учится на факультете `A`, `B`, `C` соответственно.\n",
    "\n",
    "$P(X|A) = 0.8$ – вероятность того, что студент факультета `A` сдаст первую сессию,\n",
    "\n",
    "$P(X|B) = 0.7$ – вероятность того, что студент факультета `B` сдаст первую сессию,\n",
    "\n",
    "$P(X|C) = 0.9$ – вероятность того, что студент факультета `C` сдаст первую сессию,\n",
    "\n",
    "$P(A) = 0.25$ – вероятность того, что случайный студент с факультета `A`,\n",
    "\n",
    "$P(B) = 0.25$ – вероятность того, что случайный студент с факультета `B`,\n",
    "\n",
    "$P(C) = 0.5$ – вероятность того, что случайный студент с факультета `C`.\n",
    "\n",
    "По формуле полной вероятности $P(X) = P(X|A)P(A) + P(X|B)P(B) + P(X|C)P(C) = 0.8 \\cdot 0.25 + 0.7 \\cdot 0.25 + 0.9 \\cdot 0.5 = 0.825$\n",
    "\n",
    "а) $P(A|X) = \\dfrac{P(X|A)P(A)}{P(X)} = \\dfrac{0.8 \\cdot 0.25}{0.825} = \\dfrac{8}{33}$ – вероятность того, что студент, сдавший сессию, оказался с факультета `A`.\n",
    "\n",
    "б) $P(B|X) = \\dfrac{P(X|B)P(B)}{P(X)} = \\dfrac{0.7 \\cdot 0.25}{0.825} = \\dfrac{7}{33}$ – вероятность того, что студент, сдавший сессию, оказался с факультета `B`.\n",
    "\n",
    "в) $P(C|X) = \\dfrac{P(X|C)P(C)}{P(X)} = \\dfrac{0.9 \\cdot 0.5}{0.825} = \\dfrac{18}{33}$ – вероятность того, что студент, сдавший сессию, оказался с факультета `C`."
   ]
  }
 ],
 "metadata": {
  "kernelspec": {
   "display_name": "Python 3",
   "language": "python",
   "name": "python3"
  },
  "language_info": {
   "codemirror_mode": {
    "name": "ipython",
    "version": 3
   },
   "file_extension": ".py",
   "mimetype": "text/x-python",
   "name": "python",
   "nbconvert_exporter": "python",
   "pygments_lexer": "ipython3",
   "version": "3.7.3"
  }
 },
 "nbformat": 4,
 "nbformat_minor": 2
}
