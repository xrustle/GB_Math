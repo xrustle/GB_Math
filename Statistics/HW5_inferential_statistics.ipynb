{
 "cells": [
  {
   "cell_type": "markdown",
   "metadata": {},
   "source": [
    "# Проверка статистических гипотез. Доверительные интервалы. A/B-тестирование\n",
    "### Задача 1\n",
    "\n",
    "Утверждается, что шарики для подшипников, изготовленные автоматическим станком, имеют средний диаметр 17 мм. Используя уровень значимости 0.025 и правостороннюю критическую область, проверить данную гипотезу при условии, что в выборке из 100 шариков средний диаметр оказался равным 17.5 мм, а дисперсия известна и равна 4 мм."
   ]
  },
  {
   "cell_type": "markdown",
   "metadata": {},
   "source": [
    "#### Решение\n",
    "$H_0$ — нулевая гипотеза. Предположение того, что средний размер шариков равен a = 17 мм\n",
    "\n",
    "Используем статистику $T(X) = \\dfrac{\\overline{X} - a}{\\sigma \\left/ \\sqrt{n}\\right.} = \\dfrac{\\overline{X} - 17}{\\sqrt{4} / 10} = 5(\\overline{X} - 17)$\n",
    "\n",
    "$\\alpha = 0.025$"
   ]
  },
  {
   "cell_type": "markdown",
   "metadata": {},
   "source": [
    "Правосторонняя область: $\\Omega_\\alpha = (t_{1 - \\alpha}, +\\infty) \\approx (2, +\\infty)$, так как для стандартного нормального распределения попасть в область $(-\\infty, -2) \\cup (2, \\infty)$ равна $0.05$.\n",
    "\n",
    "В нашем эксперименте $\\overline{X} = 17.5$\n",
    "\n",
    "Значит $T(X) = 5\\cdot(17.5 - 17) = 2.5$\n",
    "Получается, что мы попали в критическую область, значит отвергаем гипотезу."
   ]
  },
  {
   "cell_type": "markdown",
   "metadata": {},
   "source": [
    "### Задача 2\n",
    "\n",
    "Известно, что генеральная совокупность распределена нормально с известным средним квадратическим отклонением 16. Найти доверительный интервал для оценки математического ожидания a с надёжностью 0.95, если выборочное среднее равно 80, а объём равен 256."
   ]
  },
  {
   "cell_type": "markdown",
   "metadata": {},
   "source": [
    "#### Решение\n",
    "$\\dfrac{\\sigma}{\\sqrt{n}} = 1$\n",
    "\n",
    "$\\overline{X} = 80$\n",
    "\n",
    "Для нормального распределени используем статистику $T(X) = \\dfrac{\\overline{X} - a}{\\sigma \\left/ \\sqrt{n}\\right.}$.\n",
    "\n",
    "$T$ имеет стандартное нормальное распределение.\n",
    "\n",
    "$0.95 \\approx P(-2 \\leqslant T \\leqslant 2) = P \\left(\\overline{X} - 2 \\cdot \\dfrac{\\sigma}{\\sqrt{n}} \\leqslant a \\leqslant \\overline{X} + 2 \\cdot \\dfrac{\\sigma}{\\sqrt{n}}\\right) = P \\left(\\overline{X} - 2  \\leqslant a \\leqslant \\overline{X} + 2 \\right) = P(78  \\leqslant a \\leqslant 82)$"
   ]
  },
  {
   "cell_type": "markdown",
   "metadata": {},
   "source": [
    "Доверительный интервал примерно $(78, 82)$"
   ]
  },
  {
   "cell_type": "markdown",
   "metadata": {},
   "source": [
    "### Задача 3\n",
    "\n",
    "Продавец утверждает, что средний вес пачки печенья составляет 200 г. Из партии извлечена выборка из 10 пачек. Вес каждой пачки составляет:\n",
    "\n",
    "`202, 203, 199, 197, 195, 201, 200, 204, 194, 190`\n",
    "\n",
    "Известно, что их веса распределены нормально. Верно ли утверждение продавца, если учитывать, что уровень значимости равен 1%?"
   ]
  },
  {
   "cell_type": "markdown",
   "metadata": {},
   "source": [
    "#### Решение"
   ]
  },
  {
   "cell_type": "markdown",
   "metadata": {},
   "source": [
    "$\\alpha = 0.01$"
   ]
  },
  {
   "cell_type": "code",
   "execution_count": 1,
   "metadata": {},
   "outputs": [
    {
     "data": {
      "text/plain": [
       "(10, 198.5, 4.453463071962462)"
      ]
     },
     "execution_count": 1,
     "metadata": {},
     "output_type": "execute_result"
    }
   ],
   "source": [
    "import numpy as np\n",
    "from scipy.stats import norm, t\n",
    "\n",
    "alpha = 0.01\n",
    "samples = np.array([202, 203, 199, 197, 195, 201, 200, 204, 194, 190])\n",
    "n = len(samples)\n",
    "mean = samples.mean()\n",
    "std = samples.std(ddof=1)\n",
    "\n",
    "n, mean, std"
   ]
  },
  {
   "cell_type": "code",
   "execution_count": 2,
   "metadata": {},
   "outputs": [],
   "source": [
    "t_ = t.ppf(1 - alpha / 2, n - 1)"
   ]
  },
  {
   "cell_type": "code",
   "execution_count": 3,
   "metadata": {},
   "outputs": [
    {
     "data": {
      "text/plain": [
       "(193.92322840036354, 203.07677159963646)"
      ]
     },
     "execution_count": 3,
     "metadata": {},
     "output_type": "execute_result"
    }
   ],
   "source": [
    "(mean - t_ * std / np.sqrt(n), mean + t_ * std / np.sqrt(n))"
   ]
  },
  {
   "cell_type": "markdown",
   "metadata": {},
   "source": [
    "200 попадает в этот интервал, значит можно считать утверждение продавца верным"
   ]
  }
 ],
 "metadata": {
  "kernelspec": {
   "display_name": "Python 3",
   "language": "python",
   "name": "python3"
  },
  "language_info": {
   "codemirror_mode": {
    "name": "ipython",
    "version": 3
   },
   "file_extension": ".py",
   "mimetype": "text/x-python",
   "name": "python",
   "nbconvert_exporter": "python",
   "pygments_lexer": "ipython3",
   "version": "3.7.3"
  }
 },
 "nbformat": 4,
 "nbformat_minor": 2
}
