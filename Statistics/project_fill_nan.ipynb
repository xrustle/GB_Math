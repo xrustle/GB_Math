{
 "cells": [
  {
   "cell_type": "code",
   "execution_count": 39,
   "metadata": {},
   "outputs": [],
   "source": [
    "import numpy as np\n",
    "import pandas as pd\n",
    "from scipy import stats\n",
    "from matplotlib import pyplot as plt\n",
    "import warnings\n",
    "from sklearn.experimental import enable_iterative_imputer\n",
    "from sklearn.impute import IterativeImputer\n",
    "from sklearn.ensemble import RandomForestRegressor\n",
    "from sklearn.model_selection import train_test_split, GridSearchCV\n",
    "warnings.filterwarnings('ignore')\n",
    "pd.options.display.max_columns = 100"
   ]
  },
  {
   "cell_type": "code",
   "execution_count": 40,
   "metadata": {},
   "outputs": [],
   "source": [
    "data = pd.read_csv('movie_metadata.csv')"
   ]
  },
  {
   "cell_type": "code",
   "execution_count": 41,
   "metadata": {},
   "outputs": [],
   "source": [
    "cols = data.columns[((data.dtypes.values == np.dtype('float64')) | (data.dtypes.values == np.dtype('int64')))]\n",
    "# cols = data.columns"
   ]
  },
  {
   "cell_type": "code",
   "execution_count": 42,
   "metadata": {},
   "outputs": [],
   "source": [
    "imputer = IterativeImputer(random_state=100, n_nearest_features=5)\n",
    "imp_train_data = data[cols]\n",
    "full_completed_data = pd.DataFrame(imputer.fit_transform(imp_train_data), columns=cols)"
   ]
  },
  {
   "cell_type": "code",
   "execution_count": 43,
   "metadata": {},
   "outputs": [],
   "source": [
    "data = data.fillna(full_completed_data)"
   ]
  },
  {
   "cell_type": "code",
   "execution_count": 44,
   "metadata": {},
   "outputs": [],
   "source": [
    "df = data"
   ]
  },
  {
   "cell_type": "code",
   "execution_count": 45,
   "metadata": {},
   "outputs": [
    {
     "name": "stdout",
     "output_type": "stream",
     "text": [
      "Action, Adventure, Fantasy, Sci-Fi, Thriller, Romance, Comedy, Family, Mystery, Drama, Crime, Horror\n"
     ]
    }
   ],
   "source": [
    "number_of_movies = {}\n",
    "for genres in df.genres:\n",
    "    for genre in genres.split('|'):\n",
    "        if genre in number_of_movies:\n",
    "            number_of_movies[genre] += 1\n",
    "        else:\n",
    "            number_of_movies[genre] = 0\n",
    "\n",
    "genres = []\n",
    "for genre in number_of_movies:\n",
    "    if number_of_movies[genre] > 400:\n",
    "        genres.append(genre)\n",
    "\n",
    "print(*genres, sep=', ')"
   ]
  },
  {
   "cell_type": "code",
   "execution_count": 46,
   "metadata": {},
   "outputs": [
    {
     "data": {
      "image/png": "[encoded data removed]",
      "text/plain": [
       "<Figure size 432x288 with 1 Axes>"
      ]
     },
     "metadata": {
      "needs_background": "light"
     },
     "output_type": "display_data"
    }
   ],
   "source": [
    "df['imdb_score'].hist(bins=20);"
   ]
  },
  {
   "cell_type": "code",
   "execution_count": 47,
   "metadata": {},
   "outputs": [
    {
     "data": {
      "text/html": [
       "<div>\n",
       "<style scoped>\n",
       "    .dataframe tbody tr th:only-of-type {\n",
       "        vertical-align: middle;\n",
       "    }\n",
       "\n",
       "    .dataframe tbody tr th {\n",
       "        vertical-align: top;\n",
       "    }\n",
       "\n",
       "    .dataframe thead th {\n",
       "        text-align: right;\n",
       "    }\n",
       "</style>\n",
       "<table border=\"1\" class=\"dataframe\">\n",
       "  <thead>\n",
       "    <tr style=\"text-align: right;\">\n",
       "      <th></th>\n",
       "      <th>genre</th>\n",
       "      <th>mean</th>\n",
       "      <th>std</th>\n",
       "      <th>D</th>\n",
       "      <th>p-value</th>\n",
       "    </tr>\n",
       "  </thead>\n",
       "  <tbody>\n",
       "    <tr>\n",
       "      <th>9</th>\n",
       "      <td>Drama</td>\n",
       "      <td>6.763763</td>\n",
       "      <td>0.957354</td>\n",
       "      <td>0.035518</td>\n",
       "      <td>0.001402</td>\n",
       "    </tr>\n",
       "    <tr>\n",
       "      <th>10</th>\n",
       "      <td>Crime</td>\n",
       "      <td>6.564792</td>\n",
       "      <td>1.026456</td>\n",
       "      <td>0.027802</td>\n",
       "      <td>0.248391</td>\n",
       "    </tr>\n",
       "    <tr>\n",
       "      <th>8</th>\n",
       "      <td>Mystery</td>\n",
       "      <td>6.486400</td>\n",
       "      <td>1.090759</td>\n",
       "      <td>0.032237</td>\n",
       "      <td>0.346285</td>\n",
       "    </tr>\n",
       "    <tr>\n",
       "      <th>5</th>\n",
       "      <td>Romance</td>\n",
       "      <td>6.450587</td>\n",
       "      <td>0.996035</td>\n",
       "      <td>0.038059</td>\n",
       "      <td>0.039448</td>\n",
       "    </tr>\n",
       "    <tr>\n",
       "      <th>1</th>\n",
       "      <td>Adventure</td>\n",
       "      <td>6.441170</td>\n",
       "      <td>1.131196</td>\n",
       "      <td>0.026844</td>\n",
       "      <td>0.259754</td>\n",
       "    </tr>\n",
       "    <tr>\n",
       "      <th>4</th>\n",
       "      <td>Thriller</td>\n",
       "      <td>6.314245</td>\n",
       "      <td>1.054334</td>\n",
       "      <td>0.023237</td>\n",
       "      <td>0.214541</td>\n",
       "    </tr>\n",
       "    <tr>\n",
       "      <th>2</th>\n",
       "      <td>Fantasy</td>\n",
       "      <td>6.307049</td>\n",
       "      <td>1.160686</td>\n",
       "      <td>0.028683</td>\n",
       "      <td>0.359632</td>\n",
       "    </tr>\n",
       "    <tr>\n",
       "      <th>3</th>\n",
       "      <td>Sci-Fi</td>\n",
       "      <td>6.281818</td>\n",
       "      <td>1.210816</td>\n",
       "      <td>0.028123</td>\n",
       "      <td>0.370490</td>\n",
       "    </tr>\n",
       "    <tr>\n",
       "      <th>7</th>\n",
       "      <td>Family</td>\n",
       "      <td>6.245055</td>\n",
       "      <td>1.201598</td>\n",
       "      <td>0.028225</td>\n",
       "      <td>0.411259</td>\n",
       "    </tr>\n",
       "    <tr>\n",
       "      <th>0</th>\n",
       "      <td>Action</td>\n",
       "      <td>6.239896</td>\n",
       "      <td>1.118835</td>\n",
       "      <td>0.033225</td>\n",
       "      <td>0.076695</td>\n",
       "    </tr>\n",
       "    <tr>\n",
       "      <th>6</th>\n",
       "      <td>Comedy</td>\n",
       "      <td>6.195246</td>\n",
       "      <td>1.090714</td>\n",
       "      <td>0.037505</td>\n",
       "      <td>0.005030</td>\n",
       "    </tr>\n",
       "    <tr>\n",
       "      <th>11</th>\n",
       "      <td>Horror</td>\n",
       "      <td>5.843540</td>\n",
       "      <td>1.130469</td>\n",
       "      <td>0.021765</td>\n",
       "      <td>0.577163</td>\n",
       "    </tr>\n",
       "  </tbody>\n",
       "</table>\n",
       "</div>"
      ],
      "text/plain": [
       "        genre      mean       std         D   p-value\n",
       "9       Drama  6.763763  0.957354  0.035518  0.001402\n",
       "10      Crime  6.564792  1.026456  0.027802  0.248391\n",
       "8     Mystery  6.486400  1.090759  0.032237  0.346285\n",
       "5     Romance  6.450587  0.996035  0.038059  0.039448\n",
       "1   Adventure  6.441170  1.131196  0.026844  0.259754\n",
       "4    Thriller  6.314245  1.054334  0.023237  0.214541\n",
       "2     Fantasy  6.307049  1.160686  0.028683  0.359632\n",
       "3      Sci-Fi  6.281818  1.210816  0.028123  0.370490\n",
       "7      Family  6.245055  1.201598  0.028225  0.411259\n",
       "0      Action  6.239896  1.118835  0.033225  0.076695\n",
       "6      Comedy  6.195246  1.090714  0.037505  0.005030\n",
       "11     Horror  5.843540  1.130469  0.021765  0.577163"
      ]
     },
     "execution_count": 47,
     "metadata": {},
     "output_type": "execute_result"
    }
   ],
   "source": [
    "genres_df = pd.DataFrame(columns=['genre', 'mean', 'std', 'D', 'p-value'])\n",
    "i = 0\n",
    "for genre in genres:\n",
    "    data = df[df['genres'].str.contains(genre)]\n",
    "    \n",
    "    a = data['imdb_score'].mean()\n",
    "    sigma = data['imdb_score'].std()\n",
    "    \n",
    "    cdf = stats.norm(loc=a, scale=sigma).cdf\n",
    "    kstest = stats.kstest(rvs=data['imdb_score'], cdf=cdf, alternative='greater')\n",
    "    genres_df.loc[i] = [genre, a, sigma, *kstest]\n",
    "    i += 1\n",
    "    \n",
    "genres_df.sort_values(by=['mean'], ascending=False)"
   ]
  },
  {
   "cell_type": "code",
   "execution_count": null,
   "metadata": {},
   "outputs": [],
   "source": []
  },
  {
   "cell_type": "code",
   "execution_count": null,
   "metadata": {},
   "outputs": [],
   "source": []
  }
 ],
 "metadata": {
  "kernelspec": {
   "display_name": "Python 3",
   "language": "python",
   "name": "python3"
  },
  "language_info": {
   "codemirror_mode": {
    "name": "ipython",
    "version": 3
   },
   "file_extension": ".py",
   "mimetype": "text/x-python",
   "name": "python",
   "nbconvert_exporter": "python",
   "pygments_lexer": "ipython3",
   "version": "3.7.3"
  }
 },
 "nbformat": 4,
 "nbformat_minor": 2
}
