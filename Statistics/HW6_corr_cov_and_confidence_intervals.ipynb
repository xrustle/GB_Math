{
 "cells": [
  {
   "cell_type": "markdown",
   "metadata": {},
   "source": [
    "# Взаимосвязь величин. Показатели корреляции. Корреляционный анализ\n",
    "### Задача 1\n",
    "\n",
    "Даны значения величины заработной платы заемщиков банка `salary` и значения их поведенческого кредитного скоринга `scoring`:\n",
    "\n",
    "`salary = [35, 45, 190, 200, 40, 70, 54, 150, 120, 110]`\n",
    "\n",
    "`scoring = [401, 574, 874, 919, 459, 739, 653, 902, 746, 832]`\n",
    "\n",
    "Без использования сторонних библиотек (вроде `numpy`, `pandas` и др.) найдите:\n",
    "* ковариацию (смещённую и несмещённую) этих двух величин,\n",
    "* коэффициент корреляции Пирсона.\n",
    "\n",
    "Можно затем посчитать те же значения с использованием библиотек, чтобы проверить себя.\n",
    "#### Решение"
   ]
  },
  {
   "cell_type": "code",
   "execution_count": 1,
   "metadata": {},
   "outputs": [
    {
     "name": "stdout",
     "output_type": "stream",
     "text": [
      "Ковариация смещённая:  9157.84\n",
      "Ковариация несмещённая:  10175.377777777778\n"
     ]
    }
   ],
   "source": [
    "# salary\n",
    "X = [35, 45, 190, 200, 40, 70, 54, 150, 120, 110]\n",
    "\n",
    "# scoring\n",
    "Y = [401, 574, 874, 919, 459, 739, 653, 902, 746, 832]\n",
    "\n",
    "n = len(X)\n",
    "\n",
    "MX = sum(X) / n\n",
    "MY = sum(Y) / n\n",
    "\n",
    "cov_biased = sum((X[i] - MX) * (Y[i] - MY) for i in range(n)) / n\n",
    "cov_unbiased = sum((X[i] - MX) * (Y[i] - MY) for i in range(n)) / (n - 1)\n",
    "\n",
    "print('Ковариация смещённая: ', cov_biased)\n",
    "print('Ковариация несмещённая: ', cov_unbiased)"
   ]
  },
  {
   "cell_type": "code",
   "execution_count": 2,
   "metadata": {},
   "outputs": [
    {
     "name": "stdout",
     "output_type": "stream",
     "text": [
      "Коэффициент корреляции Пирсона:  0.8874900920739162\n"
     ]
    }
   ],
   "source": [
    "from math import sqrt\n",
    "\n",
    "std_X = sqrt(sum((X[i] - MX) ** 2 for i in range(n)) / (n - 1))\n",
    "std_Y = sqrt(sum((Y[i] - MY) ** 2 for i in range(n)) / (n - 1))\n",
    "\n",
    "corr = cov_unbiased / std_X / std_Y\n",
    "print('Коэффициент корреляции Пирсона: ', corr)"
   ]
  },
  {
   "cell_type": "markdown",
   "metadata": {},
   "source": [
    "#### Проверка"
   ]
  },
  {
   "cell_type": "code",
   "execution_count": 3,
   "metadata": {},
   "outputs": [
    {
     "name": "stdout",
     "output_type": "stream",
     "text": [
      "Ковариация смещённая:  9157.84\n",
      "Ковариация несмещённая:  10175.377777777776\n"
     ]
    }
   ],
   "source": [
    "import numpy as np\n",
    "\n",
    "# salary\n",
    "X = np.array([35, 45, 190, 200, 40, 70, 54, 150, 120, 110])\n",
    "\n",
    "# scoring\n",
    "Y = np.array([401, 574, 874, 919, 459, 739, 653, 902, 746, 832])\n",
    "\n",
    "print('Ковариация смещённая: ', np.cov(X, Y, bias=True)[0][1])\n",
    "print('Ковариация несмещённая: ', np.cov(X, Y)[0][1])"
   ]
  },
  {
   "cell_type": "code",
   "execution_count": 4,
   "metadata": {},
   "outputs": [
    {
     "name": "stdout",
     "output_type": "stream",
     "text": [
      "Коэффициент корреляции Пирсона:  0.8874900920739162\n"
     ]
    }
   ],
   "source": [
    "print('Коэффициент корреляции Пирсона: ', np.corrcoef(X, Y)[0][1])"
   ]
  },
  {
   "cell_type": "markdown",
   "metadata": {},
   "source": [
    "### Задача 2\n",
    "\n",
    "Измерены значения `IQ` выборки студентов, обучающихся в местных технических вузах:\n",
    "\n",
    "`131, 125, 115, 122, 131, 115, 107, 99, 125, 111`\n",
    "\n",
    "Известно, что в генеральной совокупности `IQ` распределен нормально. Найдите доверительный интервал для математического ожидания с надежностью `0.95`.\n",
    "#### Решение\n",
    "Требуется построить доверительный интервал для математического ожидания нормально распределнной случайной величины $X$ с неизвестным средним квадратическим отклонением.\n",
    "\n",
    "$$P\\left(\\overline{X} + t_{\\alpha / 2, n - 1} \\cdot \\dfrac{\\sigma_{X}}{\\sqrt{n}} \\leqslant a \\leqslant \\overline{X} + t_{1 -\\alpha / 2, n - 1} \\cdot \\dfrac{\\sigma_{X}}{\\sqrt{n}}\\right) = p,$$\n",
    "\n",
    "где $\\alpha = 1 - p = 0.05$, $t_{\\alpha / 2, n - 1}$ — квантиль распределения Стьюдента."
   ]
  },
  {
   "cell_type": "code",
   "execution_count": 5,
   "metadata": {},
   "outputs": [
    {
     "name": "stdout",
     "output_type": "stream",
     "text": [
      "Доверительный интервал: (110.9432125583706, 125.25678744162938)\n"
     ]
    }
   ],
   "source": [
    "from scipy import stats\n",
    "\n",
    "X = np.array([131, 125, 115, 122, 131, 115, 107, 99, 125, 111])\n",
    "alpha = 0.05\n",
    "\n",
    "n = len(X)\n",
    "mean = X.mean()\n",
    "std = X.std()\n",
    "\n",
    "t = stats.t.ppf(alpha / 2, df=n - 1)\n",
    "\n",
    "print(f'Доверительный интервал: ({mean + t * std / np.sqrt(n)}, {mean - t * std / np.sqrt(n)})')"
   ]
  },
  {
   "cell_type": "markdown",
   "metadata": {},
   "source": [
    "### Задача 3\n",
    "\n",
    "Известно, что рост футболистов в сборной распределён нормально с известной дисперсией `25`. На выборке объёма `27` выборочное среднее составило `174.2`. Найдите доверительный интервал для математического ожидания с надёжностью `0.95`.\n",
    "#### Решение\n",
    "Требуется построить доверительный интервал для математического ожидания нормально распределнной случайной величины $X$ с известным средним квадратическим отклонением.\n",
    "\n",
    "$$P\\left(\\overline{X} + t_{\\alpha / 2} \\cdot \\dfrac{\\sigma}{\\sqrt{n}} \\leqslant a \\leqslant \\overline{X} + t_{1 -\\alpha / 2} \\cdot \\dfrac{\\sigma}{\\sqrt{n}}\\right) = p,$$\n",
    "\n",
    "где $\\alpha = 1 - p = 0.05$, $t_{\\alpha / 2}$ — квантиль нормального распределения.\n",
    "\n",
    "Как известно, $t_{\\alpha / 2} \\approx -2, t_{1 - \\alpha / 2} \\approx 2$ при $\\alpha = 5\\%$. Но посчитаем поточнее на этот раз."
   ]
  },
  {
   "cell_type": "code",
   "execution_count": 6,
   "metadata": {},
   "outputs": [
    {
     "name": "stdout",
     "output_type": "stream",
     "text": [
      "Доверительный интервал: (172.3140237765397, 176.08597622346028)\n"
     ]
    }
   ],
   "source": [
    "alpha = 0.05\n",
    "n = 27\n",
    "mean = 174.2\n",
    "std = 5  # корень из известной нам дисперсии 25\n",
    "\n",
    "t = stats.norm.ppf(alpha / 2)\n",
    "\n",
    "print(f'Доверительный интервал: ({mean + t * std / np.sqrt(n)}, {mean - t * std / np.sqrt(n)})')"
   ]
  }
 ],
 "metadata": {
  "kernelspec": {
   "display_name": "Python 3",
   "language": "python",
   "name": "python3"
  },
  "language_info": {
   "codemirror_mode": {
    "name": "ipython",
    "version": 3
   },
   "file_extension": ".py",
   "mimetype": "text/x-python",
   "name": "python",
   "nbconvert_exporter": "python",
   "pygments_lexer": "ipython3",
   "version": "3.7.3"
  }
 },
 "nbformat": 4,
 "nbformat_minor": 2
}
