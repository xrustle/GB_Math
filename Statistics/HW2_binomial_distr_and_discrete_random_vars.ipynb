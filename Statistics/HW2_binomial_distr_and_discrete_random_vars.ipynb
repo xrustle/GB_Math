{
 "cells": [
  {
   "cell_type": "markdown",
   "metadata": {},
   "source": [
    "# Дискретные случайные величины. Закон распределения вероятностей. Биномиальный закон распределения. Распределение Пуассона"
   ]
  },
  {
   "cell_type": "markdown",
   "metadata": {},
   "source": [
    "### Задача 1\n",
    "Контрольная работа состоит из пяти вопросов. На каждый вопрос приведено четыре варианта ответа, один из которых правильный. Составьте закон распределения числа правильных ответов при простом угадывании.<br>\n",
    "Найдите $M(X)$, $D(X)$."
   ]
  },
  {
   "cell_type": "markdown",
   "metadata": {},
   "source": [
    "#### Решение"
   ]
  },
  {
   "cell_type": "markdown",
   "metadata": {},
   "source": [
    "Описана схема Бернулли, таким образом случайная величина $X$, число угаданных вопросов имеет биномиальное распределение с параметрами $p$ и $n$, где\n",
    "\n",
    "* $n = 5$ — число независисмых случайных экспериментов, число вопросов в нашем случае,\n",
    "* $p = \\dfrac{1}{4}$ — вероятность угадать ответ на вопрос."
   ]
  },
  {
   "cell_type": "markdown",
   "metadata": {},
   "source": [
    "$$M(X) = n p = \\dfrac{5}{4}$$"
   ]
  },
  {
   "cell_type": "markdown",
   "metadata": {},
   "source": [
    "$$D(X) = npq = np(1-p) = 5\\cdot \\dfrac{1}{4}\\cdot\\dfrac{3}{4} = \\frac{15}{16}$$"
   ]
  },
  {
   "cell_type": "markdown",
   "metadata": {},
   "source": [
    "### Задача 2\n",
    "Вероятность попадания в цель при одном выстреле равна $0.01$. Какова вероятность того, что число попаданий при $200$ выстрелах будет не менее $5$ и не более $10$?"
   ]
  },
  {
   "cell_type": "markdown",
   "metadata": {},
   "source": [
    "#### Решение"
   ]
  },
  {
   "cell_type": "markdown",
   "metadata": {},
   "source": [
    "Пусть $X$ - случайная величина количества попаданий в мишень при $200$ выстрелах.<br>\n",
    "Она имеет биномиальное распределение с параметрами \n",
    "* $n = 200$, \n",
    "* $p = 0.01$.\n",
    "\n",
    "Нам необходимо найти $P(5\\leqslant X \\leqslant 10)$:"
   ]
  },
  {
   "cell_type": "markdown",
   "metadata": {},
   "source": [
    "$$P(5\\leqslant X \\leqslant 10) = \\displaystyle\\sum_{k=5}^{10} C_n^k\\cdot p^k \\cdot (1-p)^{n-k}$$"
   ]
  },
  {
   "cell_type": "code",
   "execution_count": 1,
   "metadata": {},
   "outputs": [
    {
     "data": {
      "text/plain": [
       "0.051739381860374606"
      ]
     },
     "execution_count": 1,
     "metadata": {},
     "output_type": "execute_result"
    }
   ],
   "source": [
    "from scipy.special import comb\n",
    "\n",
    "n = 200\n",
    "p = 0.01\n",
    "result = 0\n",
    "\n",
    "sum(comb(n, k) * p**k * (1 - p)**(n - k) for k in range(5, 11))"
   ]
  },
  {
   "cell_type": "markdown",
   "metadata": {},
   "source": [
    "#### Ответ\n",
    "Вероятность того, что число попаданий при $200$ выстрелах будет не менее $5$ и не более $10$ равно примерно $5\\%$."
   ]
  },
  {
   "cell_type": "markdown",
   "metadata": {},
   "source": [
    "### Задача 3"
   ]
  },
  {
   "cell_type": "markdown",
   "metadata": {},
   "source": [
    "В условиях предыдущей задачи сколько выстрелов нужно сделать, чтобы быть уверенным с вероятностью $0.9$, что хотя бы $10$ раз будет совершено попадание?"
   ]
  },
  {
   "cell_type": "markdown",
   "metadata": {},
   "source": [
    "#### Решение"
   ]
  },
  {
   "cell_type": "markdown",
   "metadata": {},
   "source": [
    "Нам необходимо найти минимальное $n$, при котором $P(X(n) \\geqslant 10) \\geqslant 0.9$."
   ]
  },
  {
   "cell_type": "markdown",
   "metadata": {},
   "source": [
    "Т.к. $P(X(n) \\geqslant 10) = 1 - P(X(n) < 10)$, то нам достаточно найти минимальное $n$, при котором $P(X(n) < 10) < 0.1$."
   ]
  },
  {
   "cell_type": "markdown",
   "metadata": {},
   "source": [
    "$P(X(n) < 10) = \\displaystyle\\sum_{i=0}^{9}C_n^i\\cdot p^i \\cdot (1-p)^{n-i} = f(n)$ — функция от общего число выстрелов $n$, возвращающая вероятность того, что мы попали суммарно меньше $10$ раз."
   ]
  },
  {
   "cell_type": "markdown",
   "metadata": {},
   "source": [
    "Будем считать значение этой функции, увеличивая число $n$. Минимальное $n$, которое даст нам значение функции меньшее $0.1$ будет решением задачи."
   ]
  },
  {
   "cell_type": "code",
   "execution_count": 2,
   "metadata": {},
   "outputs": [],
   "source": [
    "k = 10  # - минимальное количество попаданий, необходимое нам.\n",
    "p = 0.01\n",
    "q = 1 - p\n",
    "\n",
    "def f(n):\n",
    "    return sum(comb(n, i) * p**i * q**(n - i) for i in range(10))"
   ]
  },
  {
   "cell_type": "code",
   "execution_count": 3,
   "metadata": {},
   "outputs": [
    {
     "data": {
      "text/plain": [
       "1418"
      ]
     },
     "execution_count": 3,
     "metadata": {},
     "output_type": "execute_result"
    }
   ],
   "source": [
    "n = 10  # Начальное количество выстрелов. Меньше нет смысла брать, так как нам необходимо от 10 попаданий.\n",
    "\n",
    "while f(n) >= 0.1:\n",
    "    n += 1\n",
    "    \n",
    "n  # Как только n примет значение, при котором P(X < 10) < 0.1, цикл завершится. n будет равно в точности искомому числу."
   ]
  },
  {
   "cell_type": "markdown",
   "metadata": {},
   "source": [
    "#### Ответ\n",
    "Достаточно сделать $1418$ выстрелов, чтобы быть уверенным с вероятностью $90\\%$, что хотя бы $10$ раз будет совершено попадание."
   ]
  }
 ],
 "metadata": {
  "kernelspec": {
   "display_name": "Python 3",
   "language": "python",
   "name": "python3"
  },
  "language_info": {
   "codemirror_mode": {
    "name": "ipython",
    "version": 3
   },
   "file_extension": ".py",
   "mimetype": "text/x-python",
   "name": "python",
   "nbconvert_exporter": "python",
   "pygments_lexer": "ipython3",
   "version": "3.7.3"
  }
 },
 "nbformat": 4,
 "nbformat_minor": 2
}
