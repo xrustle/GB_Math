{
 "cells": [
  {
   "cell_type": "markdown",
   "metadata": {},
   "source": [
    "# Линейная регрессия. Однофакторный дисперсионный анализ\n",
    "### Задача 1\n",
    "\n",
    "Даны значения величины заработной платы заемщиков банка `salary` и значения их поведенческого кредитного скоринга `scoring`:"
   ]
  },
  {
   "cell_type": "code",
   "execution_count": 1,
   "metadata": {},
   "outputs": [],
   "source": [
    "salary = [35, 45, 190, 200, 40, 70, 54, 150, 120, 110]\n",
    "scoring = [401, 574, 874, 919, 459, 739, 653, 902, 746, 832]"
   ]
  },
  {
   "cell_type": "markdown",
   "metadata": {},
   "source": [
    "Возьмём в качестве признака значение `salary`, а в качестве целевой переменной — `scoring`.\n",
    "\n",
    "* Найдите коэффициенты линейной регрессии с помощью формул для парной регрессии, а затем с помощью метода наименьших квадратов.\n",
    "* Постройте scatter plot по данным и отметьте на нём прямую линейной регрессии.\n",
    "* Посчитайте коэффициент детерминации, среднюю ошибку аппроксимации.\n",
    "* Оцените построенное уравнение регрессии с помощью F-критерия Фишера.\n",
    "* Постройте для коэффициентов регрессии доверительные интервалы с помощью t-статистики Стьюдента.\n",
    "\n",
    "#### Решение"
   ]
  },
  {
   "cell_type": "code",
   "execution_count": 2,
   "metadata": {},
   "outputs": [],
   "source": [
    "import numpy as np\n",
    "import pandas as pd\n",
    "from matplotlib import pyplot as plt\n",
    "from scipy import stats\n",
    "\n",
    "plt.style.use('seaborn-whitegrid')"
   ]
  },
  {
   "cell_type": "code",
   "execution_count": 3,
   "metadata": {},
   "outputs": [],
   "source": [
    "x = np.array(salary)\n",
    "y = np.array(scoring)"
   ]
  },
  {
   "cell_type": "markdown",
   "metadata": {},
   "source": [
    "$y = b_0 + b x$\n",
    "\n",
    "#### 1.1\n",
    "Сначала найдем коэффициенты, используя формулы для парной регрессии:\n",
    "\n",
    "$b = \\dfrac{\\overline{yx} - \\overline{y} \\cdot {\\overline{x}}}{\\overline{x^2} - {\\overline{x}}^2}, \\:\\:\n",
    "b_0 = \\overline{y} - b {\\overline{x}}.$"
   ]
  },
  {
   "cell_type": "code",
   "execution_count": 4,
   "metadata": {},
   "outputs": [],
   "source": [
    "b = ((x * y).mean() - y.mean() * x.mean()) / ((x ** 2).mean() - x.mean() ** 2)"
   ]
  },
  {
   "cell_type": "code",
   "execution_count": 5,
   "metadata": {},
   "outputs": [],
   "source": [
    "b0 = y.mean() - b * x.mean()"
   ]
  },
  {
   "cell_type": "code",
   "execution_count": 6,
   "metadata": {},
   "outputs": [
    {
     "name": "stdout",
     "output_type": "stream",
     "text": [
      "444.1773573243596 2.620538882402765\n"
     ]
    }
   ],
   "source": [
    "print(b0, b)"
   ]
  },
  {
   "cell_type": "markdown",
   "metadata": {},
   "source": [
    "Получаем: $y = 444.18 + 2.62 \\cdot x$"
   ]
  },
  {
   "cell_type": "markdown",
   "metadata": {},
   "source": [
    "#### 1.2\n",
    "Теперь посчитаем методом наименьших квадратов\n",
    "\n",
    "$y = X \\cdot b$\n",
    "\n",
    "$(X \\cdot b - y)^\\top \\cdot (X \\cdot b - y) \\rightarrow \\min_b$\n",
    "\n",
    "$b = (X^\\top X)^{-1} \\cdot X^\\top \\cdot y$"
   ]
  },
  {
   "cell_type": "code",
   "execution_count": 9,
   "metadata": {},
   "outputs": [
    {
     "data": {
      "text/html": [
       "<div>\n",
       "<style scoped>\n",
       "    .dataframe tbody tr th:only-of-type {\n",
       "        vertical-align: middle;\n",
       "    }\n",
       "\n",
       "    .dataframe tbody tr th {\n",
       "        vertical-align: top;\n",
       "    }\n",
       "\n",
       "    .dataframe thead th {\n",
       "        text-align: right;\n",
       "    }\n",
       "</style>\n",
       "<table border=\"1\" class=\"dataframe\">\n",
       "  <thead>\n",
       "    <tr style=\"text-align: right;\">\n",
       "      <th></th>\n",
       "      <th>x0</th>\n",
       "      <th>x1</th>\n",
       "    </tr>\n",
       "  </thead>\n",
       "  <tbody>\n",
       "    <tr>\n",
       "      <th>7</th>\n",
       "      <td>1.0</td>\n",
       "      <td>150</td>\n",
       "    </tr>\n",
       "    <tr>\n",
       "      <th>8</th>\n",
       "      <td>1.0</td>\n",
       "      <td>120</td>\n",
       "    </tr>\n",
       "    <tr>\n",
       "      <th>9</th>\n",
       "      <td>1.0</td>\n",
       "      <td>110</td>\n",
       "    </tr>\n",
       "  </tbody>\n",
       "</table>\n",
       "</div>"
      ],
      "text/plain": [
       "    x0   x1\n",
       "7  1.0  150\n",
       "8  1.0  120\n",
       "9  1.0  110"
      ]
     },
     "execution_count": 9,
     "metadata": {},
     "output_type": "execute_result"
    }
   ],
   "source": [
    "X = pd.DataFrame({'x0': np.ones(x.shape[0]),\n",
    "                  'x1': x})\n",
    "X.tail(3)"
   ]
  },
  {
   "cell_type": "code",
   "execution_count": 10,
   "metadata": {},
   "outputs": [
    {
     "name": "stdout",
     "output_type": "stream",
     "text": [
      "444.17735732435915 2.6205388824027684\n"
     ]
    }
   ],
   "source": [
    "XTX = X.T.dot(X)\n",
    "XTX_inv = np.linalg.inv(XTX)\n",
    "B = XTX_inv.dot(X.T).dot(y)\n",
    "print(*B)"
   ]
  },
  {
   "cell_type": "markdown",
   "metadata": {},
   "source": [
    "Аналогичный результат: $y = 444.18 + 2.62 \\cdot x$"
   ]
  },
  {
   "cell_type": "markdown",
   "metadata": {},
   "source": [
    "#### 2\n",
    "Строим график"
   ]
  },
  {
   "cell_type": "markdown",
   "metadata": {},
   "source": [
    "### Задача 2\n",
    "\n",
    "Допустим, первые 5 клиентов из предыдущего задания проживают в Москве, а остальные — в Санкт-Петербурге. Влияет ли этот фактор на значение их кредитного скоринга?\n",
    "\n",
    "#### Решение"
   ]
  },
  {
   "cell_type": "markdown",
   "metadata": {},
   "source": [
    "> Вариационный анализ<br>\n",
    "> Разделить выборку на две части<br>\n",
    "> Нужен только таргет"
   ]
  },
  {
   "cell_type": "code",
   "execution_count": null,
   "metadata": {},
   "outputs": [],
   "source": []
  },
  {
   "cell_type": "markdown",
   "metadata": {},
   "source": [
    "### Задача 3\n",
    "\n",
    "Посчитать коэффициенты линейной регрессии для т.н. Квартета Энскомба.\n",
    "\n",
    "#### Решение"
   ]
  },
  {
   "cell_type": "code",
   "execution_count": null,
   "metadata": {},
   "outputs": [],
   "source": []
  }
 ],
 "metadata": {
  "kernelspec": {
   "display_name": "Python 3",
   "language": "python",
   "name": "python3"
  },
  "language_info": {
   "codemirror_mode": {
    "name": "ipython",
    "version": 3
   },
   "file_extension": ".py",
   "mimetype": "text/x-python",
   "name": "python",
   "nbconvert_exporter": "python",
   "pygments_lexer": "ipython3",
   "version": "3.7.3"
  }
 },
 "nbformat": 4,
 "nbformat_minor": 2
}
