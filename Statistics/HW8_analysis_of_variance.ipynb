{
 "cells": [
  {
   "cell_type": "markdown",
   "metadata": {},
   "source": [
    "# Дисперсионный анализ\n",
    "### Задача 1\n",
    "Объясняемая переменная y зависит от двух категориальных факторов A и B, причём фактор A имеет 3 уровня, а фактор B — 4 уровня. Результаты наблюдений приведены в таблице:"
   ]
  },
  {
   "cell_type": "code",
   "execution_count": 1,
   "metadata": {},
   "outputs": [],
   "source": [
    "y = [[2.68, 3.29, 2.88, 4.45],\n",
    "     [4.12, 4.96, 5.09, 5.22],\n",
    "     [5.52, 4.50, 5.42, 5.29]]"
   ]
  },
  {
   "cell_type": "markdown",
   "metadata": {},
   "source": [
    "С помощью двухфакторного дисперсионного анализа проверьте влияние каждого из факторов на переменную y.\n",
    "#### Решение"
   ]
  },
  {
   "cell_type": "markdown",
   "metadata": {},
   "source": [
    "Нулевые гипотезы можно записать в следующем виде:\n",
    "$$H_{0A}: \\: \\overline{y_{1 \\ast}} = \\dots = \\overline{y_{m \\ast}}, \\:\n",
    "H_{0B}: \\: \\overline{y_{\\ast 1}} = \\dots = \\overline{y_{\\ast k}}.$$\n",
    "\n",
    "Далее аналогичным образом вычисляются оценки дисперсий. Сначала считаем суммы квадратов отклонений:\n",
    "$$S_A^2 = k \\cdot \\displaystyle\\sum_{i=1}^m \\left( \\overline{y_{i \\ast}} - \\overline{y} \\right)^2, \\:\n",
    "S_B^2 = m \\cdot \\displaystyle\\sum_{j=1}^k \\left( \\overline{y_{\\ast j}} - \\overline{y} \\right)^2, \\:\n",
    "S_{res}^2 = \\displaystyle\\sum_{i=1}^m \\displaystyle\\sum_{j=1}^k \\left( y_{ij} - \\overline{y_{i \\ast}} - \\overline{y_{\\ast j}} + \\overline{y} \\right)^2.$$\n",
    "\n",
    "Оценки дисперсий:\n",
    "$$\\sigma_A^2 = \\dfrac{S_A^2}{m - 1}, \\: \\sigma_B^2 = \\dfrac{S_B^2}{k - 1}, \\:\n",
    "\\sigma_{res}^2 = \\dfrac{S_{res}^2}{(k - 1) (m - 1)}.$$\n",
    "\n",
    "По этим оценкам дисперсий вычисляются статистики:\n",
    "$$T_A = \\dfrac{\\sigma_A^2}{\\sigma_{res}^2}, \\: T_B = \\dfrac{\\sigma_B^2}{\\sigma_{res}^2}.$$"
   ]
  },
  {
   "cell_type": "code",
   "execution_count": 2,
   "metadata": {},
   "outputs": [
    {
     "data": {
      "text/plain": [
       "array([[2.68, 3.29, 2.88, 4.45],\n",
       "       [4.12, 4.96, 5.09, 5.22],\n",
       "       [5.52, 4.5 , 5.42, 5.29]])"
      ]
     },
     "execution_count": 2,
     "metadata": {},
     "output_type": "execute_result"
    }
   ],
   "source": [
    "import numpy as np\n",
    "from scipy import stats\n",
    "\n",
    "y = np.array(y)\n",
    "m, k = y.shape\n",
    "y"
   ]
  },
  {
   "cell_type": "code",
   "execution_count": 3,
   "metadata": {},
   "outputs": [
    {
     "data": {
      "text/plain": [
       "(7.8407166666666654, 1.338166666666669, 1.9298833333333332)"
      ]
     },
     "execution_count": 3,
     "metadata": {},
     "output_type": "execute_result"
    }
   ],
   "source": [
    "S2_A = k * ((y.mean(axis=1) - y.mean()) ** 2).sum()\n",
    "S2_B = m * ((y.mean(axis=0) - y.mean()) ** 2).sum()\n",
    "S2_res = ((y - y.mean(axis=1).reshape(-1, 1) - y.mean(axis=0) + y.mean()) ** 2).sum()\n",
    "S2_A, S2_B, S2_res"
   ]
  },
  {
   "cell_type": "code",
   "execution_count": 4,
   "metadata": {},
   "outputs": [
    {
     "data": {
      "text/plain": [
       "(3.9203583333333327, 0.4460555555555563, 0.3216472222222222)"
      ]
     },
     "execution_count": 4,
     "metadata": {},
     "output_type": "execute_result"
    }
   ],
   "source": [
    "var_A = S2_A / (m - 1)\n",
    "var_B = S2_B / (k - 1)\n",
    "var_res = S2_res / (k - 1) / (m - 1)\n",
    "var_A, var_B, var_res"
   ]
  },
  {
   "cell_type": "code",
   "execution_count": 5,
   "metadata": {},
   "outputs": [
    {
     "data": {
      "text/plain": [
       "(12.188379262995172, 1.3867850388192748)"
      ]
     },
     "execution_count": 5,
     "metadata": {},
     "output_type": "execute_result"
    }
   ],
   "source": [
    "T_A = var_A / var_res\n",
    "T_B = var_B / var_res\n",
    "T_A, T_B"
   ]
  },
  {
   "cell_type": "markdown",
   "metadata": {},
   "source": [
    "Для выбранного уровня значимости $\\alpha$ по каждому фактору вычисляется соответствующее критическое значение. Для фактора $A$ критическое значение $F_{crit, \\: A}$ — квантиль порядка $1 - \\alpha$ для распределения $F(k_{1A}, k_{2A})$, где $k_{1A} = m - 1$, $k_{2A} = n - m$. Здесь $n = k \\cdot m$ — общее число наблюдений. Аналогично, $F_{crit, \\: B}$ — квантиль порядка $1 - \\alpha$ для распределения $F(k_{1B}, k_{2B})$, где $k_{1B} = k - 1$, $k_{2B} = n - k$."
   ]
  },
  {
   "cell_type": "code",
   "execution_count": 6,
   "metadata": {},
   "outputs": [
    {
     "data": {
      "text/plain": [
       "(4.25649472909375, 4.06618055135116)"
      ]
     },
     "execution_count": 6,
     "metadata": {},
     "output_type": "execute_result"
    }
   ],
   "source": [
    "alpha = 0.05\n",
    "n = m * k\n",
    "\n",
    "F_crit_A = stats.f.ppf(1 - alpha, m - 1, n - m)\n",
    "F_crit_B = stats.f.ppf(1 - alpha, k - 1, n - k)\n",
    "F_crit_A,F_crit_B"
   ]
  },
  {
   "cell_type": "markdown",
   "metadata": {},
   "source": [
    "$T_A > F_{crit, \\: A}$, значит гипотеза $H_{0A}$ отвергается,\n",
    "\n",
    "$T_B < F_{crit, \\: B}$, гипотеза $H_{0B}$ принимается.\n",
    "\n",
    "Заключаем, что фактор $B$ не является статистическим значимым, в отличие от фактора $A$."
   ]
  },
  {
   "cell_type": "markdown",
   "metadata": {},
   "source": [
    "### Задача 2\n",
    "С помощью критерия Стьюдента для двух независимых выборок проверьте гипотезу о равенстве среднего роста футболистов и хоккеистов, основываясь на результатах измерений:"
   ]
  },
  {
   "cell_type": "code",
   "execution_count": 7,
   "metadata": {},
   "outputs": [],
   "source": [
    "football_players = [173, 175, 180, 178, 177, 185, 183, 182]\n",
    "hockey_players = [177, 179, 180, 188, 177, 172, 171, 184, 180]"
   ]
  },
  {
   "cell_type": "markdown",
   "metadata": {},
   "source": [
    "#### Решение"
   ]
  },
  {
   "cell_type": "markdown",
   "metadata": {},
   "source": [
    "Проверяется гипотеза $H_0$: средние значения по двум выборкам совпадают. \n",
    "\n",
    "Для проверки гипотезы рассмотрим статистику\n",
    "$$T = \\dfrac{\\overline{X_1} -\\overline{X_2}}{\\sqrt{\\frac{\\sigma_1^2}{n_1} + \\frac{\\sigma_2^2}{n_2}}}$$\n",
    "где $\\sigma_i$ — несмещённая оценка среднего квадратического отклонения, $n_i$ — число элементов в выборке.\n",
    "\n",
    "В предположении гипотезы $H_0$ данная статистика имеет распределение Стьюдента с $n_1 + n_2 - 2$ степенями свободы."
   ]
  },
  {
   "cell_type": "code",
   "execution_count": 8,
   "metadata": {},
   "outputs": [
    {
     "data": {
      "text/plain": [
       "0.4583333333333428"
      ]
     },
     "execution_count": 8,
     "metadata": {},
     "output_type": "execute_result"
    }
   ],
   "source": [
    "X1 = np.array(football_players)\n",
    "X2 = np.array(hockey_players)\n",
    "n1, n2 = len(X1), len(X2)\n",
    "\n",
    "X1.mean() - X2.mean()"
   ]
  },
  {
   "cell_type": "code",
   "execution_count": 9,
   "metadata": {},
   "outputs": [
    {
     "data": {
      "text/plain": [
       "0.2120406006079591"
      ]
     },
     "execution_count": 9,
     "metadata": {},
     "output_type": "execute_result"
    }
   ],
   "source": [
    "T = (X1.mean() - X2.mean()) / np.sqrt(np.var(X1) / n1 + np.var(X2) / n2)\n",
    "T"
   ]
  },
  {
   "cell_type": "code",
   "execution_count": 10,
   "metadata": {},
   "outputs": [
    {
     "data": {
      "text/plain": [
       "2.131449545559323"
      ]
     },
     "execution_count": 10,
     "metadata": {},
     "output_type": "execute_result"
    }
   ],
   "source": [
    "t = stats.t.ppf(1 - alpha / 2, n1 + n2 - 2)\n",
    "t"
   ]
  },
  {
   "cell_type": "code",
   "execution_count": 11,
   "metadata": {},
   "outputs": [
    {
     "data": {
      "text/plain": [
       "True"
      ]
     },
     "execution_count": 11,
     "metadata": {},
     "output_type": "execute_result"
    }
   ],
   "source": [
    "-t < T < t"
   ]
  },
  {
   "cell_type": "markdown",
   "metadata": {},
   "source": [
    "Гипотеза принимается. Заключаем, что средний рост футболистов и хоккеистов равны."
   ]
  },
  {
   "cell_type": "markdown",
   "metadata": {},
   "source": [
    "### Задача 3\n",
    "Ссылка на курсовой проект"
   ]
  },
  {
   "cell_type": "code",
   "execution_count": null,
   "metadata": {},
   "outputs": [],
   "source": []
  }
 ],
 "metadata": {
  "kernelspec": {
   "display_name": "Python 3",
   "language": "python",
   "name": "python3"
  },
  "language_info": {
   "codemirror_mode": {
    "name": "ipython",
    "version": 3
   },
   "file_extension": ".py",
   "mimetype": "text/x-python",
   "name": "python",
   "nbconvert_exporter": "python",
   "pygments_lexer": "ipython3",
   "version": "3.7.4"
  }
 },
 "nbformat": 4,
 "nbformat_minor": 2
}
