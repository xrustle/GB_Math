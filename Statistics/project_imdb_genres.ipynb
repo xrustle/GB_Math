{
 "cells": [
  {
   "cell_type": "markdown",
   "metadata": {},
   "source": [
    "# Анализ фильмов IMDb\n",
    "\n",
    "В качестве проектной работы, я указывал, что хотел бы проанализировать зависимость итоговой оценки фильма от его жанра.\n",
    "\n",
    "Всегда хотелось проверить, что в среднем, фильмы, которые людьми воспринимаются более серьезно, оцениваются высоко.\n",
    "То есть Драмы, Детективы, Научная фантастика имеют в среднем более высокую оценку чем фильмы жанров вроде Комендия, Боевик, Хоррор.\n",
    "\n",
    "Также, используя уже известные статистические методы, получим и другую интересную информацию. Например, попробуем предсказывать рейтинг фильма с помощью линейной регрессии. Посмотрим насколько важную роль в оценке будет играть жанр кино.\n",
    "\n",
    "Для этого используем [датасет](https://data.world/data-society/imdb-5000-movie-dataset), содержащий следующие признаки:\n",
    "\n",
    "* `movie_title` — название фильма.\n",
    "* `title_year` — год выпуска (1916-2016).\n",
    "* `content_rating` — возрастной рейтинг.\n",
    "* `budget` — бюджет в долларах.\n",
    "* `gross` — сборы в долларах.\n",
    "* `imdb_score` — оценка IMDb.\n",
    "* `genres` — жанры фильма.\n",
    "* `color` — цветной или черно-белый\n",
    "* `director_name` — имя режиссера фильма.\n",
    "* `director_facebook_likes` — количество лайков на странице режиссера в Facebook.\n",
    "* `actor_1_name` — главный актер.\n",
    "* `actor_1_facebook_likes` — количество лайков на странице главного актера.\n",
    "* `actor_2_name` — второй главный актер.\n",
    "* `actor_2_facebook_likes` — количество лайков на странице второго главного актера.\n",
    "* `actor_3_name` — третий главный актер.\n",
    "* `actor_3_facebook_likes` — количество лайков на странице третьего главного актера.\n",
    "* `cast_total_facebook_likes` — суммарное количетсов лайков актеров в Facebook.\n",
    "* `movie_facebook_likes` — количество лайков на странице фильма в Facebook.\n",
    "* `num_voted_users` — количество людей, поставивших оценку фильму на портале IMDb.\n",
    "* `num_user_for_reviews` — количество людей, написавших отзыв к фильму на портале IMDb.\n",
    "* `num_critic_for_reviews` — количество кинокритиков, оставивших отзыв о фильме.\n",
    "* `plot_keywords` — ключевые слова.\n",
    "* `movie_imdb_link` — ссылка на старницу фильма IMDb.\n",
    "* `duration` — длительность фильма.\n",
    "* `language` — язык фильма.\n",
    "* `country` — страна производства.\n",
    "* `facenumber_in_poster` — количество лиц актеров на постере к фильму.\n",
    "* `aspect_ratio` — соотношение сторон."
   ]
  },
  {
   "cell_type": "code",
   "execution_count": 1,
   "metadata": {
    "scrolled": true
   },
   "outputs": [],
   "source": [
    "import numpy as np\n",
    "import pandas as pd\n",
    "from scipy import stats\n",
    "import seaborn as sns\n",
    "from matplotlib import pyplot as plt\n",
    "from sklearn.model_selection import train_test_split\n",
    "from sklearn.linear_model import LinearRegression\n",
    "from sklearn.preprocessing import StandardScaler\n",
    "from sklearn.metrics import mean_squared_error\n",
    "from sklearn.metrics import mean_absolute_error\n",
    "from sklearn.metrics import r2_score\n",
    "\n",
    "plt.style.use('seaborn-whitegrid')\n",
    "\n",
    "df = pd.read_csv('movie_metadata.csv')\n",
    "df.dropna(subset=['budget', 'gross'], inplace=True)"
   ]
  },
  {
   "cell_type": "markdown",
   "metadata": {},
   "source": [
    "# Описательная статистика\n",
    "#### Наиболее частые жанры\n",
    "Cначала сформируем список жанров для дальнейшего анализа. Жанры, которые встречаются редко, добавлять не будем.\n",
    "\n",
    "Если хотя бы у 300 фильмов присутствует жанр, то добавляем его в список жанров для анализа."
   ]
  },
  {
   "cell_type": "code",
   "execution_count": 2,
   "metadata": {},
   "outputs": [
    {
     "name": "stdout",
     "output_type": "stream",
     "text": [
      "Action\n",
      "Adventure\n",
      "Fantasy\n",
      "Sci-Fi\n",
      "Thriller\n",
      "Romance\n",
      "Comedy\n",
      "Family\n",
      "Mystery\n",
      "Drama\n",
      "Crime\n",
      "Horror\n"
     ]
    }
   ],
   "source": [
    "number_of_movies = {}\n",
    "for genres in df.genres:\n",
    "    for genre in genres.split('|'):\n",
    "        if genre in number_of_movies:\n",
    "            number_of_movies[genre] += 1\n",
    "        else:\n",
    "            number_of_movies[genre] = 0\n",
    "\n",
    "genres = []\n",
    "for genre in number_of_movies:\n",
    "    if number_of_movies[genre] > 300:\n",
    "        genres.append(genre)\n",
    "\n",
    "print(*genres, sep='\\n')"
   ]
  },
  {
   "cell_type": "markdown",
   "metadata": {},
   "source": [
    "#### Визуализируем данные рейтинга IMDb"
   ]
  },
  {
   "cell_type": "code",
   "execution_count": 3,
   "metadata": {},
   "outputs": [
    {
     "data": {
      "image/png": "[encoded data removed]",
      "text/plain": [
       "<Figure size 432x288 with 1 Axes>"
      ]
     },
     "metadata": {
      "needs_background": "light"
     },
     "output_type": "display_data"
    }
   ],
   "source": [
    "df['imdb_score'].hist(bins=19);"
   ]
  },
  {
   "cell_type": "markdown",
   "metadata": {},
   "source": [
    "Распределение похоже на нормальное с небольшим сдвигом"
   ]
  },
  {
   "cell_type": "markdown",
   "metadata": {},
   "source": [
    "#### Проверка на нормальность"
   ]
  },
  {
   "cell_type": "markdown",
   "metadata": {},
   "source": [
    "Проверим на нормальность распределения рейтинга IMDb по наиболее частым жанрам"
   ]
  },
  {
   "cell_type": "code",
   "execution_count": 4,
   "metadata": {},
   "outputs": [
    {
     "data": {
      "text/html": [
       "<style  type=\"text/css\" >\n",
       "    #T_4911b33a_18f0_11ea_bf91_e03f49810562row0_col4 {\n",
       "            background-color:  White;\n",
       "        }    #T_4911b33a_18f0_11ea_bf91_e03f49810562row1_col4 {\n",
       "            background-color:  Green;\n",
       "        }    #T_4911b33a_18f0_11ea_bf91_e03f49810562row2_col4 {\n",
       "            background-color:  Green;\n",
       "        }    #T_4911b33a_18f0_11ea_bf91_e03f49810562row3_col4 {\n",
       "            background-color:  Green;\n",
       "        }    #T_4911b33a_18f0_11ea_bf91_e03f49810562row4_col4 {\n",
       "            background-color:  Green;\n",
       "        }    #T_4911b33a_18f0_11ea_bf91_e03f49810562row5_col4 {\n",
       "            background-color:  Green;\n",
       "        }    #T_4911b33a_18f0_11ea_bf91_e03f49810562row6_col4 {\n",
       "            background-color:  Green;\n",
       "        }    #T_4911b33a_18f0_11ea_bf91_e03f49810562row7_col4 {\n",
       "            background-color:  Green;\n",
       "        }    #T_4911b33a_18f0_11ea_bf91_e03f49810562row8_col4 {\n",
       "            background-color:  Green;\n",
       "        }    #T_4911b33a_18f0_11ea_bf91_e03f49810562row9_col4 {\n",
       "            background-color:  Green;\n",
       "        }    #T_4911b33a_18f0_11ea_bf91_e03f49810562row10_col4 {\n",
       "            background-color:  White;\n",
       "        }    #T_4911b33a_18f0_11ea_bf91_e03f49810562row11_col4 {\n",
       "            background-color:  Green;\n",
       "        }</style><table id=\"T_4911b33a_18f0_11ea_bf91_e03f49810562\" ><thead>    <tr>        <th class=\"blank level0\" ></th>        <th class=\"col_heading level0 col0\" >mean</th>        <th class=\"col_heading level0 col1\" >std</th>        <th class=\"col_heading level0 col2\" >D</th>        <th class=\"col_heading level0 col3\" >p-value</th>        <th class=\"col_heading level0 col4\" >H0</th>    </tr></thead><tbody>\n",
       "                <tr>\n",
       "                        <th id=\"T_4911b33a_18f0_11ea_bf91_e03f49810562level0_row0\" class=\"row_heading level0 row0\" >Drama</th>\n",
       "                        <td id=\"T_4911b33a_18f0_11ea_bf91_e03f49810562row0_col0\" class=\"data row0 col0\" >6.78169</td>\n",
       "                        <td id=\"T_4911b33a_18f0_11ea_bf91_e03f49810562row0_col1\" class=\"data row0 col1\" >0.897529</td>\n",
       "                        <td id=\"T_4911b33a_18f0_11ea_bf91_e03f49810562row0_col2\" class=\"data row0 col2\" >0.0364883</td>\n",
       "                        <td id=\"T_4911b33a_18f0_11ea_bf91_e03f49810562row0_col3\" class=\"data row0 col3\" >0.00526312</td>\n",
       "                        <td id=\"T_4911b33a_18f0_11ea_bf91_e03f49810562row0_col4\" class=\"data row0 col4\" >False</td>\n",
       "            </tr>\n",
       "            <tr>\n",
       "                        <th id=\"T_4911b33a_18f0_11ea_bf91_e03f49810562level0_row1\" class=\"row_heading level0 row1\" >Crime</th>\n",
       "                        <td id=\"T_4911b33a_18f0_11ea_bf91_e03f49810562row1_col0\" class=\"data row1 col0\" >6.54556</td>\n",
       "                        <td id=\"T_4911b33a_18f0_11ea_bf91_e03f49810562row1_col1\" class=\"data row1 col1\" >0.983356</td>\n",
       "                        <td id=\"T_4911b33a_18f0_11ea_bf91_e03f49810562row1_col2\" class=\"data row1 col2\" >0.0340248</td>\n",
       "                        <td id=\"T_4911b33a_18f0_11ea_bf91_e03f49810562row1_col3\" class=\"data row1 col3\" >0.18458</td>\n",
       "                        <td id=\"T_4911b33a_18f0_11ea_bf91_e03f49810562row1_col4\" class=\"data row1 col4\" >True</td>\n",
       "            </tr>\n",
       "            <tr>\n",
       "                        <th id=\"T_4911b33a_18f0_11ea_bf91_e03f49810562level0_row2\" class=\"row_heading level0 row2\" >Mystery</th>\n",
       "                        <td id=\"T_4911b33a_18f0_11ea_bf91_e03f49810562row2_col0\" class=\"data row2 col0\" >6.46641</td>\n",
       "                        <td id=\"T_4911b33a_18f0_11ea_bf91_e03f49810562row2_col1\" class=\"data row2 col1\" >1.01835</td>\n",
       "                        <td id=\"T_4911b33a_18f0_11ea_bf91_e03f49810562row2_col2\" class=\"data row2 col2\" >0.0336348</td>\n",
       "                        <td id=\"T_4911b33a_18f0_11ea_bf91_e03f49810562row2_col3\" class=\"data row2 col3\" >0.404722</td>\n",
       "                        <td id=\"T_4911b33a_18f0_11ea_bf91_e03f49810562row2_col4\" class=\"data row2 col4\" >True</td>\n",
       "            </tr>\n",
       "            <tr>\n",
       "                        <th id=\"T_4911b33a_18f0_11ea_bf91_e03f49810562level0_row3\" class=\"row_heading level0 row3\" >Adventure</th>\n",
       "                        <td id=\"T_4911b33a_18f0_11ea_bf91_e03f49810562row3_col0\" class=\"data row3 col0\" >6.45572</td>\n",
       "                        <td id=\"T_4911b33a_18f0_11ea_bf91_e03f49810562row3_col1\" class=\"data row3 col1\" >1.10945</td>\n",
       "                        <td id=\"T_4911b33a_18f0_11ea_bf91_e03f49810562row3_col2\" class=\"data row3 col2\" >0.0263946</td>\n",
       "                        <td id=\"T_4911b33a_18f0_11ea_bf91_e03f49810562row3_col3\" class=\"data row3 col3\" >0.324597</td>\n",
       "                        <td id=\"T_4911b33a_18f0_11ea_bf91_e03f49810562row3_col4\" class=\"data row3 col4\" >True</td>\n",
       "            </tr>\n",
       "            <tr>\n",
       "                        <th id=\"T_4911b33a_18f0_11ea_bf91_e03f49810562level0_row4\" class=\"row_heading level0 row4\" >Romance</th>\n",
       "                        <td id=\"T_4911b33a_18f0_11ea_bf91_e03f49810562row4_col0\" class=\"data row4 col0\" >6.42905</td>\n",
       "                        <td id=\"T_4911b33a_18f0_11ea_bf91_e03f49810562row4_col1\" class=\"data row4 col1\" >0.965078</td>\n",
       "                        <td id=\"T_4911b33a_18f0_11ea_bf91_e03f49810562row4_col2\" class=\"data row4 col2\" >0.0383088</td>\n",
       "                        <td id=\"T_4911b33a_18f0_11ea_bf91_e03f49810562row4_col3\" class=\"data row4 col3\" >0.0719247</td>\n",
       "                        <td id=\"T_4911b33a_18f0_11ea_bf91_e03f49810562row4_col4\" class=\"data row4 col4\" >True</td>\n",
       "            </tr>\n",
       "            <tr>\n",
       "                        <th id=\"T_4911b33a_18f0_11ea_bf91_e03f49810562level0_row5\" class=\"row_heading level0 row5\" >Thriller</th>\n",
       "                        <td id=\"T_4911b33a_18f0_11ea_bf91_e03f49810562row5_col0\" class=\"data row5 col0\" >6.3777</td>\n",
       "                        <td id=\"T_4911b33a_18f0_11ea_bf91_e03f49810562row5_col1\" class=\"data row5 col1\" >0.970412</td>\n",
       "                        <td id=\"T_4911b33a_18f0_11ea_bf91_e03f49810562row5_col2\" class=\"data row5 col2\" >0.0272922</td>\n",
       "                        <td id=\"T_4911b33a_18f0_11ea_bf91_e03f49810562row5_col3\" class=\"data row5 col3\" >0.182403</td>\n",
       "                        <td id=\"T_4911b33a_18f0_11ea_bf91_e03f49810562row5_col4\" class=\"data row5 col4\" >True</td>\n",
       "            </tr>\n",
       "            <tr>\n",
       "                        <th id=\"T_4911b33a_18f0_11ea_bf91_e03f49810562level0_row6\" class=\"row_heading level0 row6\" >Sci-Fi</th>\n",
       "                        <td id=\"T_4911b33a_18f0_11ea_bf91_e03f49810562row6_col0\" class=\"data row6 col0\" >6.32395</td>\n",
       "                        <td id=\"T_4911b33a_18f0_11ea_bf91_e03f49810562row6_col1\" class=\"data row6 col1\" >1.15903</td>\n",
       "                        <td id=\"T_4911b33a_18f0_11ea_bf91_e03f49810562row6_col2\" class=\"data row6 col2\" >0.0320057</td>\n",
       "                        <td id=\"T_4911b33a_18f0_11ea_bf91_e03f49810562row6_col3\" class=\"data row6 col3\" >0.350803</td>\n",
       "                        <td id=\"T_4911b33a_18f0_11ea_bf91_e03f49810562row6_col4\" class=\"data row6 col4\" >True</td>\n",
       "            </tr>\n",
       "            <tr>\n",
       "                        <th id=\"T_4911b33a_18f0_11ea_bf91_e03f49810562level0_row7\" class=\"row_heading level0 row7\" >Action</th>\n",
       "                        <td id=\"T_4911b33a_18f0_11ea_bf91_e03f49810562row7_col0\" class=\"data row7 col0\" >6.29062</td>\n",
       "                        <td id=\"T_4911b33a_18f0_11ea_bf91_e03f49810562row7_col1\" class=\"data row7 col1\" >1.03802</td>\n",
       "                        <td id=\"T_4911b33a_18f0_11ea_bf91_e03f49810562row7_col2\" class=\"data row7 col2\" >0.0327633</td>\n",
       "                        <td id=\"T_4911b33a_18f0_11ea_bf91_e03f49810562row7_col3\" class=\"data row7 col3\" >0.121927</td>\n",
       "                        <td id=\"T_4911b33a_18f0_11ea_bf91_e03f49810562row7_col4\" class=\"data row7 col4\" >True</td>\n",
       "            </tr>\n",
       "            <tr>\n",
       "                        <th id=\"T_4911b33a_18f0_11ea_bf91_e03f49810562level0_row8\" class=\"row_heading level0 row8\" >Fantasy</th>\n",
       "                        <td id=\"T_4911b33a_18f0_11ea_bf91_e03f49810562row8_col0\" class=\"data row8 col0\" >6.28143</td>\n",
       "                        <td id=\"T_4911b33a_18f0_11ea_bf91_e03f49810562row8_col1\" class=\"data row8 col1\" >1.136</td>\n",
       "                        <td id=\"T_4911b33a_18f0_11ea_bf91_e03f49810562row8_col2\" class=\"data row8 col2\" >0.0210176</td>\n",
       "                        <td id=\"T_4911b33a_18f0_11ea_bf91_e03f49810562row8_col3\" class=\"data row8 col3\" >0.624616</td>\n",
       "                        <td id=\"T_4911b33a_18f0_11ea_bf91_e03f49810562row8_col4\" class=\"data row8 col4\" >True</td>\n",
       "            </tr>\n",
       "            <tr>\n",
       "                        <th id=\"T_4911b33a_18f0_11ea_bf91_e03f49810562level0_row9\" class=\"row_heading level0 row9\" >Family</th>\n",
       "                        <td id=\"T_4911b33a_18f0_11ea_bf91_e03f49810562row9_col0\" class=\"data row9 col0\" >6.20993</td>\n",
       "                        <td id=\"T_4911b33a_18f0_11ea_bf91_e03f49810562row9_col1\" class=\"data row9 col1\" >1.16043</td>\n",
       "                        <td id=\"T_4911b33a_18f0_11ea_bf91_e03f49810562row9_col2\" class=\"data row9 col2\" >0.0283532</td>\n",
       "                        <td id=\"T_4911b33a_18f0_11ea_bf91_e03f49810562row9_col3\" class=\"data row9 col3\" >0.473781</td>\n",
       "                        <td id=\"T_4911b33a_18f0_11ea_bf91_e03f49810562row9_col4\" class=\"data row9 col4\" >True</td>\n",
       "            </tr>\n",
       "            <tr>\n",
       "                        <th id=\"T_4911b33a_18f0_11ea_bf91_e03f49810562level0_row10\" class=\"row_heading level0 row10\" >Comedy</th>\n",
       "                        <td id=\"T_4911b33a_18f0_11ea_bf91_e03f49810562row10_col0\" class=\"data row10 col0\" >6.18451</td>\n",
       "                        <td id=\"T_4911b33a_18f0_11ea_bf91_e03f49810562row10_col1\" class=\"data row10 col1\" >1.04077</td>\n",
       "                        <td id=\"T_4911b33a_18f0_11ea_bf91_e03f49810562row10_col2\" class=\"data row10 col2\" >0.0334081</td>\n",
       "                        <td id=\"T_4911b33a_18f0_11ea_bf91_e03f49810562row10_col3\" class=\"data row10 col3\" >0.0335244</td>\n",
       "                        <td id=\"T_4911b33a_18f0_11ea_bf91_e03f49810562row10_col4\" class=\"data row10 col4\" >False</td>\n",
       "            </tr>\n",
       "            <tr>\n",
       "                        <th id=\"T_4911b33a_18f0_11ea_bf91_e03f49810562level0_row11\" class=\"row_heading level0 row11\" >Horror</th>\n",
       "                        <td id=\"T_4911b33a_18f0_11ea_bf91_e03f49810562row11_col0\" class=\"data row11 col0\" >5.92796</td>\n",
       "                        <td id=\"T_4911b33a_18f0_11ea_bf91_e03f49810562row11_col1\" class=\"data row11 col1\" >0.998382</td>\n",
       "                        <td id=\"T_4911b33a_18f0_11ea_bf91_e03f49810562row11_col2\" class=\"data row11 col2\" >0.0281111</td>\n",
       "                        <td id=\"T_4911b33a_18f0_11ea_bf91_e03f49810562row11_col3\" class=\"data row11 col3\" >0.524168</td>\n",
       "                        <td id=\"T_4911b33a_18f0_11ea_bf91_e03f49810562row11_col4\" class=\"data row11 col4\" >True</td>\n",
       "            </tr>\n",
       "    </tbody></table>"
      ],
      "text/plain": [
       "<pandas.io.formats.style.Styler at 0x22b6345e0f0>"
      ]
     },
     "execution_count": 4,
     "metadata": {},
     "output_type": "execute_result"
    }
   ],
   "source": [
    "alpha = 0.05\n",
    "\n",
    "genres_df = pd.DataFrame(columns=['mean', 'std', 'D', 'p-value', 'H0'])\n",
    "\n",
    "for genre in genres:\n",
    "    data = df[df['genres'].str.contains(genre)]\n",
    "    \n",
    "    a = data['imdb_score'].mean()\n",
    "    sigma = data['imdb_score'].std()\n",
    "    \n",
    "    cdf = stats.norm(loc=a, scale=sigma).cdf\n",
    "    kstest = stats.kstest(rvs=data['imdb_score'], cdf=cdf, alternative='greater')\n",
    "    genres_df.loc[genre] = [a, sigma, *kstest, kstest[1] > alpha]\n",
    "    \n",
    "    \n",
    "def true_green_color(var):\n",
    "    color = 'Green' if var else 'White'\n",
    "    return 'background-color: ' + color    \n",
    "    \n",
    "    \n",
    "genres_df.sort_values(by=['mean'], ascending=False).style.applymap(true_green_color, subset=['H0'])"
   ]
  },
  {
   "cell_type": "markdown",
   "metadata": {},
   "source": [
    "В каждой строке мы исследовали только выборку фильмов, содержащую определенный жанр, который являеься индексом датафрейма.\n",
    "\n",
    "Нам важен последний столбец. True означает, что можно принять гипотезу о том, что выборка нормальна.\n",
    "\n",
    "Для 10 из 12 наиболее частых жанров при критическом значении равном 5% можно принять гипотезу о том, что распределение рейтинга IMDb нормальное по критерию Колмогорова-Смирнова.\n",
    "\n",
    "Также заметим, что средняя оценка в зависимости от жанра довольно сильно отличаются.\n",
    "\n",
    "Драма имеет заметно более высокую оценку, а комедия и хоррор заметно более низкую оценку."
   ]
  },
  {
   "cell_type": "markdown",
   "metadata": {},
   "source": [
    "#### Посмотрим на зависимость средней оценки в выборках определнного жанра\n",
    "С помощью критерия Стьюдента для двух независимых выборок проверим гипотезу о равенстве среднего рейтинга IMDb для фильмов разных жанров.\n",
    "\n",
    "В выборке X1 будут фильмы содержащие жанр 1, но не содержащие жанр 2.\n",
    "\n",
    "В выборке X2 наоборот.\n",
    "\n",
    "То есть фильмы в двух выборках не будут пересекаться."
   ]
  },
  {
   "cell_type": "code",
   "execution_count": 5,
   "metadata": {},
   "outputs": [
    {
     "data": {
      "text/html": [
       "<style  type=\"text/css\" >\n",
       "    #T_497e47ca_18f0_11ea_899b_e03f49810562row0_col0 {\n",
       "            background-color:  Green;\n",
       "        }    #T_497e47ca_18f0_11ea_899b_e03f49810562row0_col1 {\n",
       "            background-color:  White;\n",
       "        }    #T_497e47ca_18f0_11ea_899b_e03f49810562row0_col2 {\n",
       "            background-color:  White;\n",
       "        }    #T_497e47ca_18f0_11ea_899b_e03f49810562row0_col3 {\n",
       "            background-color:  White;\n",
       "        }    #T_497e47ca_18f0_11ea_899b_e03f49810562row0_col4 {\n",
       "            background-color:  White;\n",
       "        }    #T_497e47ca_18f0_11ea_899b_e03f49810562row0_col5 {\n",
       "            background-color:  White;\n",
       "        }    #T_497e47ca_18f0_11ea_899b_e03f49810562row0_col6 {\n",
       "            background-color:  White;\n",
       "        }    #T_497e47ca_18f0_11ea_899b_e03f49810562row0_col7 {\n",
       "            background-color:  White;\n",
       "        }    #T_497e47ca_18f0_11ea_899b_e03f49810562row0_col8 {\n",
       "            background-color:  White;\n",
       "        }    #T_497e47ca_18f0_11ea_899b_e03f49810562row1_col0 {\n",
       "            background-color:  White;\n",
       "        }    #T_497e47ca_18f0_11ea_899b_e03f49810562row1_col1 {\n",
       "            background-color:  Green;\n",
       "        }    #T_497e47ca_18f0_11ea_899b_e03f49810562row1_col2 {\n",
       "            background-color:  White;\n",
       "        }    #T_497e47ca_18f0_11ea_899b_e03f49810562row1_col3 {\n",
       "            background-color:  White;\n",
       "        }    #T_497e47ca_18f0_11ea_899b_e03f49810562row1_col4 {\n",
       "            background-color:  White;\n",
       "        }    #T_497e47ca_18f0_11ea_899b_e03f49810562row1_col5 {\n",
       "            background-color:  White;\n",
       "        }    #T_497e47ca_18f0_11ea_899b_e03f49810562row1_col6 {\n",
       "            background-color:  White;\n",
       "        }    #T_497e47ca_18f0_11ea_899b_e03f49810562row1_col7 {\n",
       "            background-color:  White;\n",
       "        }    #T_497e47ca_18f0_11ea_899b_e03f49810562row1_col8 {\n",
       "            background-color:  White;\n",
       "        }    #T_497e47ca_18f0_11ea_899b_e03f49810562row2_col0 {\n",
       "            background-color:  White;\n",
       "        }    #T_497e47ca_18f0_11ea_899b_e03f49810562row2_col1 {\n",
       "            background-color:  White;\n",
       "        }    #T_497e47ca_18f0_11ea_899b_e03f49810562row2_col2 {\n",
       "            background-color:  Green;\n",
       "        }    #T_497e47ca_18f0_11ea_899b_e03f49810562row2_col3 {\n",
       "            background-color:  White;\n",
       "        }    #T_497e47ca_18f0_11ea_899b_e03f49810562row2_col4 {\n",
       "            background-color:  White;\n",
       "        }    #T_497e47ca_18f0_11ea_899b_e03f49810562row2_col5 {\n",
       "            background-color:  White;\n",
       "        }    #T_497e47ca_18f0_11ea_899b_e03f49810562row2_col6 {\n",
       "            background-color:  White;\n",
       "        }    #T_497e47ca_18f0_11ea_899b_e03f49810562row2_col7 {\n",
       "            background-color:  White;\n",
       "        }    #T_497e47ca_18f0_11ea_899b_e03f49810562row2_col8 {\n",
       "            background-color:  White;\n",
       "        }    #T_497e47ca_18f0_11ea_899b_e03f49810562row3_col0 {\n",
       "            background-color:  White;\n",
       "        }    #T_497e47ca_18f0_11ea_899b_e03f49810562row3_col1 {\n",
       "            background-color:  White;\n",
       "        }    #T_497e47ca_18f0_11ea_899b_e03f49810562row3_col2 {\n",
       "            background-color:  White;\n",
       "        }    #T_497e47ca_18f0_11ea_899b_e03f49810562row3_col3 {\n",
       "            background-color:  Green;\n",
       "        }    #T_497e47ca_18f0_11ea_899b_e03f49810562row3_col4 {\n",
       "            background-color:  Green;\n",
       "        }    #T_497e47ca_18f0_11ea_899b_e03f49810562row3_col5 {\n",
       "            background-color:  Green;\n",
       "        }    #T_497e47ca_18f0_11ea_899b_e03f49810562row3_col6 {\n",
       "            background-color:  White;\n",
       "        }    #T_497e47ca_18f0_11ea_899b_e03f49810562row3_col7 {\n",
       "            background-color:  White;\n",
       "        }    #T_497e47ca_18f0_11ea_899b_e03f49810562row3_col8 {\n",
       "            background-color:  White;\n",
       "        }    #T_497e47ca_18f0_11ea_899b_e03f49810562row4_col0 {\n",
       "            background-color:  White;\n",
       "        }    #T_497e47ca_18f0_11ea_899b_e03f49810562row4_col1 {\n",
       "            background-color:  White;\n",
       "        }    #T_497e47ca_18f0_11ea_899b_e03f49810562row4_col2 {\n",
       "            background-color:  White;\n",
       "        }    #T_497e47ca_18f0_11ea_899b_e03f49810562row4_col3 {\n",
       "            background-color:  Green;\n",
       "        }    #T_497e47ca_18f0_11ea_899b_e03f49810562row4_col4 {\n",
       "            background-color:  Green;\n",
       "        }    #T_497e47ca_18f0_11ea_899b_e03f49810562row4_col5 {\n",
       "            background-color:  Green;\n",
       "        }    #T_497e47ca_18f0_11ea_899b_e03f49810562row4_col6 {\n",
       "            background-color:  White;\n",
       "        }    #T_497e47ca_18f0_11ea_899b_e03f49810562row4_col7 {\n",
       "            background-color:  White;\n",
       "        }    #T_497e47ca_18f0_11ea_899b_e03f49810562row4_col8 {\n",
       "            background-color:  White;\n",
       "        }    #T_497e47ca_18f0_11ea_899b_e03f49810562row5_col0 {\n",
       "            background-color:  White;\n",
       "        }    #T_497e47ca_18f0_11ea_899b_e03f49810562row5_col1 {\n",
       "            background-color:  White;\n",
       "        }    #T_497e47ca_18f0_11ea_899b_e03f49810562row5_col2 {\n",
       "            background-color:  White;\n",
       "        }    #T_497e47ca_18f0_11ea_899b_e03f49810562row5_col3 {\n",
       "            background-color:  Green;\n",
       "        }    #T_497e47ca_18f0_11ea_899b_e03f49810562row5_col4 {\n",
       "            background-color:  Green;\n",
       "        }    #T_497e47ca_18f0_11ea_899b_e03f49810562row5_col5 {\n",
       "            background-color:  Green;\n",
       "        }    #T_497e47ca_18f0_11ea_899b_e03f49810562row5_col6 {\n",
       "            background-color:  White;\n",
       "        }    #T_497e47ca_18f0_11ea_899b_e03f49810562row5_col7 {\n",
       "            background-color:  White;\n",
       "        }    #T_497e47ca_18f0_11ea_899b_e03f49810562row5_col8 {\n",
       "            background-color:  White;\n",
       "        }    #T_497e47ca_18f0_11ea_899b_e03f49810562row6_col0 {\n",
       "            background-color:  White;\n",
       "        }    #T_497e47ca_18f0_11ea_899b_e03f49810562row6_col1 {\n",
       "            background-color:  White;\n",
       "        }    #T_497e47ca_18f0_11ea_899b_e03f49810562row6_col2 {\n",
       "            background-color:  White;\n",
       "        }    #T_497e47ca_18f0_11ea_899b_e03f49810562row6_col3 {\n",
       "            background-color:  White;\n",
       "        }    #T_497e47ca_18f0_11ea_899b_e03f49810562row6_col4 {\n",
       "            background-color:  White;\n",
       "        }    #T_497e47ca_18f0_11ea_899b_e03f49810562row6_col5 {\n",
       "            background-color:  White;\n",
       "        }    #T_497e47ca_18f0_11ea_899b_e03f49810562row6_col6 {\n",
       "            background-color:  Green;\n",
       "        }    #T_497e47ca_18f0_11ea_899b_e03f49810562row6_col7 {\n",
       "            background-color:  Green;\n",
       "        }    #T_497e47ca_18f0_11ea_899b_e03f49810562row6_col8 {\n",
       "            background-color:  Green;\n",
       "        }    #T_497e47ca_18f0_11ea_899b_e03f49810562row7_col0 {\n",
       "            background-color:  White;\n",
       "        }    #T_497e47ca_18f0_11ea_899b_e03f49810562row7_col1 {\n",
       "            background-color:  White;\n",
       "        }    #T_497e47ca_18f0_11ea_899b_e03f49810562row7_col2 {\n",
       "            background-color:  White;\n",
       "        }    #T_497e47ca_18f0_11ea_899b_e03f49810562row7_col3 {\n",
       "            background-color:  White;\n",
       "        }    #T_497e47ca_18f0_11ea_899b_e03f49810562row7_col4 {\n",
       "            background-color:  White;\n",
       "        }    #T_497e47ca_18f0_11ea_899b_e03f49810562row7_col5 {\n",
       "            background-color:  White;\n",
       "        }    #T_497e47ca_18f0_11ea_899b_e03f49810562row7_col6 {\n",
       "            background-color:  Green;\n",
       "        }    #T_497e47ca_18f0_11ea_899b_e03f49810562row7_col7 {\n",
       "            background-color:  Green;\n",
       "        }    #T_497e47ca_18f0_11ea_899b_e03f49810562row7_col8 {\n",
       "            background-color:  Green;\n",
       "        }    #T_497e47ca_18f0_11ea_899b_e03f49810562row8_col0 {\n",
       "            background-color:  White;\n",
       "        }    #T_497e47ca_18f0_11ea_899b_e03f49810562row8_col1 {\n",
       "            background-color:  White;\n",
       "        }    #T_497e47ca_18f0_11ea_899b_e03f49810562row8_col2 {\n",
       "            background-color:  White;\n",
       "        }    #T_497e47ca_18f0_11ea_899b_e03f49810562row8_col3 {\n",
       "            background-color:  White;\n",
       "        }    #T_497e47ca_18f0_11ea_899b_e03f49810562row8_col4 {\n",
       "            background-color:  White;\n",
       "        }    #T_497e47ca_18f0_11ea_899b_e03f49810562row8_col5 {\n",
       "            background-color:  White;\n",
       "        }    #T_497e47ca_18f0_11ea_899b_e03f49810562row8_col6 {\n",
       "            background-color:  Green;\n",
       "        }    #T_497e47ca_18f0_11ea_899b_e03f49810562row8_col7 {\n",
       "            background-color:  Green;\n",
       "        }    #T_497e47ca_18f0_11ea_899b_e03f49810562row8_col8 {\n",
       "            background-color:  Green;\n",
       "        }</style><table id=\"T_497e47ca_18f0_11ea_899b_e03f49810562\" ><thead>    <tr>        <th class=\"blank level0\" ></th>        <th class=\"col_heading level0 col0\" >Drama</th>        <th class=\"col_heading level0 col1\" >Horror</th>        <th class=\"col_heading level0 col2\" >Comedy</th>        <th class=\"col_heading level0 col3\" >Romance</th>        <th class=\"col_heading level0 col4\" >Mystery</th>        <th class=\"col_heading level0 col5\" >Adventure</th>        <th class=\"col_heading level0 col6\" >Action</th>        <th class=\"col_heading level0 col7\" >Family</th>        <th class=\"col_heading level0 col8\" >Fantasy</th>    </tr></thead><tbody>\n",
       "                <tr>\n",
       "                        <th id=\"T_497e47ca_18f0_11ea_899b_e03f49810562level0_row0\" class=\"row_heading level0 row0\" >Drama</th>\n",
       "                        <td id=\"T_497e47ca_18f0_11ea_899b_e03f49810562row0_col0\" class=\"data row0 col0\" >True</td>\n",
       "                        <td id=\"T_497e47ca_18f0_11ea_899b_e03f49810562row0_col1\" class=\"data row0 col1\" >False</td>\n",
       "                        <td id=\"T_497e47ca_18f0_11ea_899b_e03f49810562row0_col2\" class=\"data row0 col2\" >False</td>\n",
       "                        <td id=\"T_497e47ca_18f0_11ea_899b_e03f49810562row0_col3\" class=\"data row0 col3\" >False</td>\n",
       "                        <td id=\"T_497e47ca_18f0_11ea_899b_e03f49810562row0_col4\" class=\"data row0 col4\" >False</td>\n",
       "                        <td id=\"T_497e47ca_18f0_11ea_899b_e03f49810562row0_col5\" class=\"data row0 col5\" >False</td>\n",
       "                        <td id=\"T_497e47ca_18f0_11ea_899b_e03f49810562row0_col6\" class=\"data row0 col6\" >False</td>\n",
       "                        <td id=\"T_497e47ca_18f0_11ea_899b_e03f49810562row0_col7\" class=\"data row0 col7\" >False</td>\n",
       "                        <td id=\"T_497e47ca_18f0_11ea_899b_e03f49810562row0_col8\" class=\"data row0 col8\" >False</td>\n",
       "            </tr>\n",
       "            <tr>\n",
       "                        <th id=\"T_497e47ca_18f0_11ea_899b_e03f49810562level0_row1\" class=\"row_heading level0 row1\" >Horror</th>\n",
       "                        <td id=\"T_497e47ca_18f0_11ea_899b_e03f49810562row1_col0\" class=\"data row1 col0\" >False</td>\n",
       "                        <td id=\"T_497e47ca_18f0_11ea_899b_e03f49810562row1_col1\" class=\"data row1 col1\" >True</td>\n",
       "                        <td id=\"T_497e47ca_18f0_11ea_899b_e03f49810562row1_col2\" class=\"data row1 col2\" >False</td>\n",
       "                        <td id=\"T_497e47ca_18f0_11ea_899b_e03f49810562row1_col3\" class=\"data row1 col3\" >False</td>\n",
       "                        <td id=\"T_497e47ca_18f0_11ea_899b_e03f49810562row1_col4\" class=\"data row1 col4\" >False</td>\n",
       "                        <td id=\"T_497e47ca_18f0_11ea_899b_e03f49810562row1_col5\" class=\"data row1 col5\" >False</td>\n",
       "                        <td id=\"T_497e47ca_18f0_11ea_899b_e03f49810562row1_col6\" class=\"data row1 col6\" >False</td>\n",
       "                        <td id=\"T_497e47ca_18f0_11ea_899b_e03f49810562row1_col7\" class=\"data row1 col7\" >False</td>\n",
       "                        <td id=\"T_497e47ca_18f0_11ea_899b_e03f49810562row1_col8\" class=\"data row1 col8\" >False</td>\n",
       "            </tr>\n",
       "            <tr>\n",
       "                        <th id=\"T_497e47ca_18f0_11ea_899b_e03f49810562level0_row2\" class=\"row_heading level0 row2\" >Comedy</th>\n",
       "                        <td id=\"T_497e47ca_18f0_11ea_899b_e03f49810562row2_col0\" class=\"data row2 col0\" >False</td>\n",
       "                        <td id=\"T_497e47ca_18f0_11ea_899b_e03f49810562row2_col1\" class=\"data row2 col1\" >False</td>\n",
       "                        <td id=\"T_497e47ca_18f0_11ea_899b_e03f49810562row2_col2\" class=\"data row2 col2\" >True</td>\n",
       "                        <td id=\"T_497e47ca_18f0_11ea_899b_e03f49810562row2_col3\" class=\"data row2 col3\" >False</td>\n",
       "                        <td id=\"T_497e47ca_18f0_11ea_899b_e03f49810562row2_col4\" class=\"data row2 col4\" >False</td>\n",
       "                        <td id=\"T_497e47ca_18f0_11ea_899b_e03f49810562row2_col5\" class=\"data row2 col5\" >False</td>\n",
       "                        <td id=\"T_497e47ca_18f0_11ea_899b_e03f49810562row2_col6\" class=\"data row2 col6\" >False</td>\n",
       "                        <td id=\"T_497e47ca_18f0_11ea_899b_e03f49810562row2_col7\" class=\"data row2 col7\" >False</td>\n",
       "                        <td id=\"T_497e47ca_18f0_11ea_899b_e03f49810562row2_col8\" class=\"data row2 col8\" >False</td>\n",
       "            </tr>\n",
       "            <tr>\n",
       "                        <th id=\"T_497e47ca_18f0_11ea_899b_e03f49810562level0_row3\" class=\"row_heading level0 row3\" >Romance</th>\n",
       "                        <td id=\"T_497e47ca_18f0_11ea_899b_e03f49810562row3_col0\" class=\"data row3 col0\" >False</td>\n",
       "                        <td id=\"T_497e47ca_18f0_11ea_899b_e03f49810562row3_col1\" class=\"data row3 col1\" >False</td>\n",
       "                        <td id=\"T_497e47ca_18f0_11ea_899b_e03f49810562row3_col2\" class=\"data row3 col2\" >False</td>\n",
       "                        <td id=\"T_497e47ca_18f0_11ea_899b_e03f49810562row3_col3\" class=\"data row3 col3\" >True</td>\n",
       "                        <td id=\"T_497e47ca_18f0_11ea_899b_e03f49810562row3_col4\" class=\"data row3 col4\" >True</td>\n",
       "                        <td id=\"T_497e47ca_18f0_11ea_899b_e03f49810562row3_col5\" class=\"data row3 col5\" >True</td>\n",
       "                        <td id=\"T_497e47ca_18f0_11ea_899b_e03f49810562row3_col6\" class=\"data row3 col6\" >False</td>\n",
       "                        <td id=\"T_497e47ca_18f0_11ea_899b_e03f49810562row3_col7\" class=\"data row3 col7\" >False</td>\n",
       "                        <td id=\"T_497e47ca_18f0_11ea_899b_e03f49810562row3_col8\" class=\"data row3 col8\" >False</td>\n",
       "            </tr>\n",
       "            <tr>\n",
       "                        <th id=\"T_497e47ca_18f0_11ea_899b_e03f49810562level0_row4\" class=\"row_heading level0 row4\" >Mystery</th>\n",
       "                        <td id=\"T_497e47ca_18f0_11ea_899b_e03f49810562row4_col0\" class=\"data row4 col0\" >False</td>\n",
       "                        <td id=\"T_497e47ca_18f0_11ea_899b_e03f49810562row4_col1\" class=\"data row4 col1\" >False</td>\n",
       "                        <td id=\"T_497e47ca_18f0_11ea_899b_e03f49810562row4_col2\" class=\"data row4 col2\" >False</td>\n",
       "                        <td id=\"T_497e47ca_18f0_11ea_899b_e03f49810562row4_col3\" class=\"data row4 col3\" >True</td>\n",
       "                        <td id=\"T_497e47ca_18f0_11ea_899b_e03f49810562row4_col4\" class=\"data row4 col4\" >True</td>\n",
       "                        <td id=\"T_497e47ca_18f0_11ea_899b_e03f49810562row4_col5\" class=\"data row4 col5\" >True</td>\n",
       "                        <td id=\"T_497e47ca_18f0_11ea_899b_e03f49810562row4_col6\" class=\"data row4 col6\" >False</td>\n",
       "                        <td id=\"T_497e47ca_18f0_11ea_899b_e03f49810562row4_col7\" class=\"data row4 col7\" >False</td>\n",
       "                        <td id=\"T_497e47ca_18f0_11ea_899b_e03f49810562row4_col8\" class=\"data row4 col8\" >False</td>\n",
       "            </tr>\n",
       "            <tr>\n",
       "                        <th id=\"T_497e47ca_18f0_11ea_899b_e03f49810562level0_row5\" class=\"row_heading level0 row5\" >Adventure</th>\n",
       "                        <td id=\"T_497e47ca_18f0_11ea_899b_e03f49810562row5_col0\" class=\"data row5 col0\" >False</td>\n",
       "                        <td id=\"T_497e47ca_18f0_11ea_899b_e03f49810562row5_col1\" class=\"data row5 col1\" >False</td>\n",
       "                        <td id=\"T_497e47ca_18f0_11ea_899b_e03f49810562row5_col2\" class=\"data row5 col2\" >False</td>\n",
       "                        <td id=\"T_497e47ca_18f0_11ea_899b_e03f49810562row5_col3\" class=\"data row5 col3\" >True</td>\n",
       "                        <td id=\"T_497e47ca_18f0_11ea_899b_e03f49810562row5_col4\" class=\"data row5 col4\" >True</td>\n",
       "                        <td id=\"T_497e47ca_18f0_11ea_899b_e03f49810562row5_col5\" class=\"data row5 col5\" >True</td>\n",
       "                        <td id=\"T_497e47ca_18f0_11ea_899b_e03f49810562row5_col6\" class=\"data row5 col6\" >False</td>\n",
       "                        <td id=\"T_497e47ca_18f0_11ea_899b_e03f49810562row5_col7\" class=\"data row5 col7\" >False</td>\n",
       "                        <td id=\"T_497e47ca_18f0_11ea_899b_e03f49810562row5_col8\" class=\"data row5 col8\" >False</td>\n",
       "            </tr>\n",
       "            <tr>\n",
       "                        <th id=\"T_497e47ca_18f0_11ea_899b_e03f49810562level0_row6\" class=\"row_heading level0 row6\" >Action</th>\n",
       "                        <td id=\"T_497e47ca_18f0_11ea_899b_e03f49810562row6_col0\" class=\"data row6 col0\" >False</td>\n",
       "                        <td id=\"T_497e47ca_18f0_11ea_899b_e03f49810562row6_col1\" class=\"data row6 col1\" >False</td>\n",
       "                        <td id=\"T_497e47ca_18f0_11ea_899b_e03f49810562row6_col2\" class=\"data row6 col2\" >False</td>\n",
       "                        <td id=\"T_497e47ca_18f0_11ea_899b_e03f49810562row6_col3\" class=\"data row6 col3\" >False</td>\n",
       "                        <td id=\"T_497e47ca_18f0_11ea_899b_e03f49810562row6_col4\" class=\"data row6 col4\" >False</td>\n",
       "                        <td id=\"T_497e47ca_18f0_11ea_899b_e03f49810562row6_col5\" class=\"data row6 col5\" >False</td>\n",
       "                        <td id=\"T_497e47ca_18f0_11ea_899b_e03f49810562row6_col6\" class=\"data row6 col6\" >True</td>\n",
       "                        <td id=\"T_497e47ca_18f0_11ea_899b_e03f49810562row6_col7\" class=\"data row6 col7\" >True</td>\n",
       "                        <td id=\"T_497e47ca_18f0_11ea_899b_e03f49810562row6_col8\" class=\"data row6 col8\" >True</td>\n",
       "            </tr>\n",
       "            <tr>\n",
       "                        <th id=\"T_497e47ca_18f0_11ea_899b_e03f49810562level0_row7\" class=\"row_heading level0 row7\" >Family</th>\n",
       "                        <td id=\"T_497e47ca_18f0_11ea_899b_e03f49810562row7_col0\" class=\"data row7 col0\" >False</td>\n",
       "                        <td id=\"T_497e47ca_18f0_11ea_899b_e03f49810562row7_col1\" class=\"data row7 col1\" >False</td>\n",
       "                        <td id=\"T_497e47ca_18f0_11ea_899b_e03f49810562row7_col2\" class=\"data row7 col2\" >False</td>\n",
       "                        <td id=\"T_497e47ca_18f0_11ea_899b_e03f49810562row7_col3\" class=\"data row7 col3\" >False</td>\n",
       "                        <td id=\"T_497e47ca_18f0_11ea_899b_e03f49810562row7_col4\" class=\"data row7 col4\" >False</td>\n",
       "                        <td id=\"T_497e47ca_18f0_11ea_899b_e03f49810562row7_col5\" class=\"data row7 col5\" >False</td>\n",
       "                        <td id=\"T_497e47ca_18f0_11ea_899b_e03f49810562row7_col6\" class=\"data row7 col6\" >True</td>\n",
       "                        <td id=\"T_497e47ca_18f0_11ea_899b_e03f49810562row7_col7\" class=\"data row7 col7\" >True</td>\n",
       "                        <td id=\"T_497e47ca_18f0_11ea_899b_e03f49810562row7_col8\" class=\"data row7 col8\" >True</td>\n",
       "            </tr>\n",
       "            <tr>\n",
       "                        <th id=\"T_497e47ca_18f0_11ea_899b_e03f49810562level0_row8\" class=\"row_heading level0 row8\" >Fantasy</th>\n",
       "                        <td id=\"T_497e47ca_18f0_11ea_899b_e03f49810562row8_col0\" class=\"data row8 col0\" >False</td>\n",
       "                        <td id=\"T_497e47ca_18f0_11ea_899b_e03f49810562row8_col1\" class=\"data row8 col1\" >False</td>\n",
       "                        <td id=\"T_497e47ca_18f0_11ea_899b_e03f49810562row8_col2\" class=\"data row8 col2\" >False</td>\n",
       "                        <td id=\"T_497e47ca_18f0_11ea_899b_e03f49810562row8_col3\" class=\"data row8 col3\" >False</td>\n",
       "                        <td id=\"T_497e47ca_18f0_11ea_899b_e03f49810562row8_col4\" class=\"data row8 col4\" >False</td>\n",
       "                        <td id=\"T_497e47ca_18f0_11ea_899b_e03f49810562row8_col5\" class=\"data row8 col5\" >False</td>\n",
       "                        <td id=\"T_497e47ca_18f0_11ea_899b_e03f49810562row8_col6\" class=\"data row8 col6\" >True</td>\n",
       "                        <td id=\"T_497e47ca_18f0_11ea_899b_e03f49810562row8_col7\" class=\"data row8 col7\" >True</td>\n",
       "                        <td id=\"T_497e47ca_18f0_11ea_899b_e03f49810562row8_col8\" class=\"data row8 col8\" >True</td>\n",
       "            </tr>\n",
       "    </tbody></table>"
      ],
      "text/plain": [
       "<pandas.io.formats.style.Styler at 0x22b6345ea20>"
      ]
     },
     "execution_count": 5,
     "metadata": {},
     "output_type": "execute_result"
    }
   ],
   "source": [
    "alpha = 0.05\n",
    "genres = ['Drama', 'Horror', 'Comedy', 'Romance', 'Mystery', 'Adventure', 'Action', 'Family', 'Fantasy']\n",
    "\n",
    "genres_df = pd.DataFrame(columns=genres)\n",
    "\n",
    "for genre1 in genres:\n",
    "    a = []\n",
    "    for genre2 in genres:\n",
    "        if genre1 == genre2:\n",
    "            a.append(True)\n",
    "            continue\n",
    "        X1 = df[df['genres'].str.contains(genre1) & ~df['genres'].str.contains(genre2)]['imdb_score']\n",
    "        X2 = df[~df['genres'].str.contains(genre1) & df['genres'].str.contains(genre2)]['imdb_score']\n",
    "        n1, n2 = len(X1), len(X2)\n",
    "        \n",
    "        T = (X1.mean() - X2.mean()) / np.sqrt(np.var(X1) / n1 + np.var(X2) / n2)\n",
    "        t = stats.t.ppf(1 - alpha / 2, n1 + n2 - 2)\n",
    "        \n",
    "        a.append(-t < T < t)\n",
    "    genres_df.loc[genre1] = a\n",
    "    \n",
    "genres_df.style.applymap(true_green_color)"
   ]
  },
  {
   "cell_type": "markdown",
   "metadata": {},
   "source": [
    "True в таблице означает, что мы принимаем гипотезу о том, что средняя оценка двух жанров равна.\n",
    "\n",
    "Видим, что 6 жанров разбились на 2 группы:\n",
    "* `Romance, Mystery, Adventure`\n",
    "* `Action, Family, Fantasy`\n",
    "\n",
    "А также, что особняком стоят жанры `Drama, Horror, Comedy`\n",
    "\n",
    "Можно сделать вывод, что драмам в среднем всегда ставят оценки выше, чем другим фильмам, а хоррорам ниже, чем любым другим жанрам. Далее после хоррора идут комедии с низким рейтингом. Это я и хотел показать."
   ]
  },
  {
   "cell_type": "markdown",
   "metadata": {},
   "source": [
    "# Предиктивная аналитика"
   ]
  },
  {
   "cell_type": "markdown",
   "metadata": {},
   "source": [
    "Теперь попробуем предсказывать рейтинг фильма с помощью линейной регрессии.\n",
    "\n",
    "В выборку чуть позже будут добавлены новые признаки на основе популярных жанров.\n",
    "\n",
    "Посмотрим насколько жанры в модели линейной регрессии влияют на оценку фильма.\n",
    "\n",
    "Для начала избавимся от сильно коррелирующих пар признаков, заменяя их одним признаком.\n",
    "\n",
    "#### Посмотрим на матрицу корреляций"
   ]
  },
  {
   "cell_type": "code",
   "execution_count": 6,
   "metadata": {},
   "outputs": [
    {
     "data": {
      "image/png": "[encoded data removed]",
      "text/plain": [
       "<Figure size 720x720 with 2 Axes>"
      ]
     },
     "metadata": {
      "needs_background": "light"
     },
     "output_type": "display_data"
    }
   ],
   "source": [
    "def heatmap(df):\n",
    "    corr = df.corr()\n",
    "\n",
    "    plt.figure(figsize=(10, 10))\n",
    "\n",
    "    ax = sns.heatmap(\n",
    "        corr, \n",
    "        vmin=-1, vmax=1, center=0,\n",
    "        cmap=sns.diverging_palette(10, 240, n=200),\n",
    "        square=True\n",
    "    )\n",
    "\n",
    "    ax.set_xticklabels(\n",
    "        ax.get_xticklabels(),\n",
    "        rotation=45,\n",
    "        horizontalalignment='right'\n",
    "    )\n",
    "    plt.show()\n",
    "    \n",
    "heatmap(df);"
   ]
  },
  {
   "cell_type": "markdown",
   "metadata": {},
   "source": [
    "Видим, что наибольшая зависимость между суммарным числом лайков всему актерскому составу в Facebook и числом лайков только главному актеру. Также эти величины коррелируют с количествами лайков второму и третьему актеров. Эти четыре признака можно было бы преобразовать, например, в 2, число лайков главному актеру и сумму лайков оставшемуся составу актеров.\n",
    "\n",
    "Так и сделаем."
   ]
  },
  {
   "cell_type": "code",
   "execution_count": 7,
   "metadata": {},
   "outputs": [],
   "source": [
    "df['cast_fb_likes_besides_1_actor'] = df['cast_total_facebook_likes'] - df['actor_1_facebook_likes']"
   ]
  },
  {
   "cell_type": "markdown",
   "metadata": {},
   "source": [
    "Плюс количество людей написавших отзыв и поставивших оценку на сайте IMDb сильно коррелируют. Оставим один "
   ]
  },
  {
   "cell_type": "code",
   "execution_count": 8,
   "metadata": {},
   "outputs": [],
   "source": [
    "df.drop(columns=['cast_total_facebook_likes', \n",
    "                 'actor_1_facebook_likes', \n",
    "                 'actor_2_facebook_likes', \n",
    "                 'actor_3_facebook_likes',\n",
    "                 'num_user_for_reviews'], inplace=True)"
   ]
  },
  {
   "cell_type": "code",
   "execution_count": 9,
   "metadata": {},
   "outputs": [
    {
     "data": {
      "image/png": "[encoded data removed]",
      "text/plain": [
       "<Figure size 720x720 with 2 Axes>"
      ]
     },
     "metadata": {
      "needs_background": "light"
     },
     "output_type": "display_data"
    }
   ],
   "source": [
    "heatmap(df)"
   ]
  },
  {
   "cell_type": "markdown",
   "metadata": {},
   "source": [
    "#### Теперь добавим признаки жанров в датасет"
   ]
  },
  {
   "cell_type": "markdown",
   "metadata": {},
   "source": [
    "Создадим отдельные признаки под список самых частых жанров, который мы сформировали ранее:"
   ]
  },
  {
   "cell_type": "code",
   "execution_count": 10,
   "metadata": {},
   "outputs": [
    {
     "name": "stdout",
     "output_type": "stream",
     "text": [
      "Drama, Horror, Comedy, Romance, Mystery, Adventure, Action, Family, Fantasy\n"
     ]
    }
   ],
   "source": [
    "print(*genres, sep=', ')"
   ]
  },
  {
   "cell_type": "code",
   "execution_count": 11,
   "metadata": {},
   "outputs": [],
   "source": [
    "for genre in genres:\n",
    "    df[genre] = df['genres'].apply(lambda x: 1 if genre in x else 0)"
   ]
  },
  {
   "cell_type": "markdown",
   "metadata": {},
   "source": [
    "#### Предсказание оценки с помощью линейной регрессии"
   ]
  },
  {
   "cell_type": "markdown",
   "metadata": {},
   "source": [
    "Разобьем наши данные на тренировочную и тестовую выборку."
   ]
  },
  {
   "cell_type": "code",
   "execution_count": 12,
   "metadata": {},
   "outputs": [],
   "source": [
    "X = df.select_dtypes(include=['float64', 'int64']).dropna()\n",
    "y = X['imdb_score']\n",
    "X.drop(columns='imdb_score', inplace=True)"
   ]
  },
  {
   "cell_type": "code",
   "execution_count": 13,
   "metadata": {},
   "outputs": [],
   "source": [
    "scaler = StandardScaler()  # Для масштабирования значений признаков\n",
    "X_train, X_test, y_train, y_test = train_test_split(scaler.fit_transform(X), y, test_size=0.25)"
   ]
  },
  {
   "cell_type": "code",
   "execution_count": 14,
   "metadata": {},
   "outputs": [
    {
     "data": {
      "text/html": [
       "<div>\n",
       "<style scoped>\n",
       "    .dataframe tbody tr th:only-of-type {\n",
       "        vertical-align: middle;\n",
       "    }\n",
       "\n",
       "    .dataframe tbody tr th {\n",
       "        vertical-align: top;\n",
       "    }\n",
       "\n",
       "    .dataframe thead th {\n",
       "        text-align: right;\n",
       "    }\n",
       "</style>\n",
       "<table border=\"1\" class=\"dataframe\">\n",
       "  <thead>\n",
       "    <tr style=\"text-align: right;\">\n",
       "      <th></th>\n",
       "      <th>y_test</th>\n",
       "      <th>y_pred</th>\n",
       "    </tr>\n",
       "  </thead>\n",
       "  <tbody>\n",
       "    <tr>\n",
       "      <th>2928</th>\n",
       "      <td>6.5</td>\n",
       "      <td>6.559957</td>\n",
       "    </tr>\n",
       "    <tr>\n",
       "      <th>475</th>\n",
       "      <td>5.1</td>\n",
       "      <td>6.149046</td>\n",
       "    </tr>\n",
       "    <tr>\n",
       "      <th>933</th>\n",
       "      <td>6.7</td>\n",
       "      <td>6.340336</td>\n",
       "    </tr>\n",
       "    <tr>\n",
       "      <th>758</th>\n",
       "      <td>5.3</td>\n",
       "      <td>5.653062</td>\n",
       "    </tr>\n",
       "    <tr>\n",
       "      <th>916</th>\n",
       "      <td>5.1</td>\n",
       "      <td>5.694138</td>\n",
       "    </tr>\n",
       "    <tr>\n",
       "      <th>2120</th>\n",
       "      <td>6.1</td>\n",
       "      <td>5.486790</td>\n",
       "    </tr>\n",
       "    <tr>\n",
       "      <th>4817</th>\n",
       "      <td>4.7</td>\n",
       "      <td>6.416179</td>\n",
       "    </tr>\n",
       "    <tr>\n",
       "      <th>1820</th>\n",
       "      <td>6.0</td>\n",
       "      <td>6.288622</td>\n",
       "    </tr>\n",
       "    <tr>\n",
       "      <th>3584</th>\n",
       "      <td>8.1</td>\n",
       "      <td>7.821986</td>\n",
       "    </tr>\n",
       "    <tr>\n",
       "      <th>2584</th>\n",
       "      <td>7.0</td>\n",
       "      <td>7.191831</td>\n",
       "    </tr>\n",
       "  </tbody>\n",
       "</table>\n",
       "</div>"
      ],
      "text/plain": [
       "      y_test    y_pred\n",
       "2928     6.5  6.559957\n",
       "475      5.1  6.149046\n",
       "933      6.7  6.340336\n",
       "758      5.3  5.653062\n",
       "916      5.1  5.694138\n",
       "2120     6.1  5.486790\n",
       "4817     4.7  6.416179\n",
       "1820     6.0  6.288622\n",
       "3584     8.1  7.821986\n",
       "2584     7.0  7.191831"
      ]
     },
     "execution_count": 14,
     "metadata": {},
     "output_type": "execute_result"
    }
   ],
   "source": [
    "lr = LinearRegression()\n",
    "\n",
    "lr.fit(X_train, y_train)\n",
    "y_pred = lr.predict(X_test)\n",
    "\n",
    "check_test = pd.DataFrame({\n",
    "    'y_test': y_test,\n",
    "    'y_pred': y_pred.flatten(),\n",
    "})\n",
    "\n",
    "\n",
    "check_test.head(10)"
   ]
  },
  {
   "cell_type": "code",
   "execution_count": 15,
   "metadata": {},
   "outputs": [
    {
     "name": "stdout",
     "output_type": "stream",
     "text": [
      "MSE = 0.610\n",
      "MAE = 0.589\n",
      "R2  = 0.465\n"
     ]
    }
   ],
   "source": [
    "print('{:<3} = {:.3f}\\n{:<3} = {:.3f}\\n{:<3} = {:.3f}'.format(\n",
    "    'MSE', mean_squared_error(check_test[\"y_pred\"], check_test[\"y_test\"]),\n",
    "    'MAE', mean_absolute_error(check_test[\"y_pred\"], check_test[\"y_test\"]),\n",
    "    'R2', r2_score(y_test, y_pred)))"
   ]
  },
  {
   "cell_type": "markdown",
   "metadata": {},
   "source": [
    "Коэффициент детерминации показывает, что модель достаточно плохая.\n",
    "Значит стоит попробовать использовать другую модель для предсказания оценок, например, дерево принятия решений."
   ]
  },
  {
   "cell_type": "markdown",
   "metadata": {},
   "source": [
    "Посмотрим на веса признаков в нашей модели линейной регрессии"
   ]
  },
  {
   "cell_type": "code",
   "execution_count": 16,
   "metadata": {},
   "outputs": [
    {
     "data": {
      "image/png": "[encoded data removed]",
      "text/plain": [
       "<Figure size 432x288 with 1 Axes>"
      ]
     },
     "metadata": {
      "needs_background": "light"
     },
     "output_type": "display_data"
    }
   ],
   "source": [
    "plt.barh(X.columns, lr.coef_.flatten())\n",
    "plt.xlabel(\"Вес признака\")\n",
    "plt.ylabel(\"Признак\")\n",
    "plt.show()"
   ]
  },
  {
   "cell_type": "markdown",
   "metadata": {},
   "source": [
    "Видно, что если фильм боевик, или хоррор, то это влияет на оценку в худшую сторону.\n",
    "\n",
    "А если фильм драма, то влияет в лучшую сторону."
   ]
  },
  {
   "cell_type": "markdown",
   "metadata": {},
   "source": [
    "# Выводы"
   ]
  },
  {
   "cell_type": "markdown",
   "metadata": {},
   "source": [
    "Жанр фильма действительно имеет значение при проставлении оценки пользователем на сайте IMDb.\n",
    "\n",
    "Более \"серьезные\" фильмы, оцениваются в среднем выше.\n",
    "\n",
    "Интересно, что в [top-250 IMDb](https://ru.wikipedia.org/wiki/250_%D0%BB%D1%83%D1%87%D1%88%D0%B8%D1%85_%D1%84%D0%B8%D0%BB%D1%8C%D0%BC%D0%BE%D0%B2_%D0%BF%D0%BE_%D0%B2%D0%B5%D1%80%D1%81%D0%B8%D0%B8_IMDb) более 80% фильмов содержат жанр драма. Жанр комедия около 15%. А фильмов ужасов всего 5.\n",
    "\n",
    "В общем, выбирая очередную комедию или хоррор для просмотра, будьте более снисходительны к фильмам с низкой оценкой)"
   ]
  }
 ],
 "metadata": {
  "kernelspec": {
   "display_name": "Python 3",
   "language": "python",
   "name": "python3"
  },
  "language_info": {
   "codemirror_mode": {
    "name": "ipython",
    "version": 3
   },
   "file_extension": ".py",
   "mimetype": "text/x-python",
   "name": "python",
   "nbconvert_exporter": "python",
   "pygments_lexer": "ipython3",
   "version": "3.7.3"
  }
 },
 "nbformat": 4,
 "nbformat_minor": 2
}
